{
  "nbformat": 4,
  "nbformat_minor": 0,
  "metadata": {
    "colab": {
      "provenance": [],
      "authorship_tag": "ABX9TyOtRsrf98IvCc1kKNX2KSf8",
      "include_colab_link": true
    },
    "kernelspec": {
      "name": "python3",
      "display_name": "Python 3"
    },
    "language_info": {
      "name": "python"
    }
  },
  "cells": [
    {
      "cell_type": "markdown",
      "metadata": {
        "id": "view-in-github",
        "colab_type": "text"
      },
      "source": [
        "<a href=\"https://colab.research.google.com/github/4Alehxandr4/python-para-data-science/blob/main/mini_projetos.ipynb\" target=\"_parent\"><img src=\"https://colab.research.google.com/assets/colab-badge.svg\" alt=\"Open In Colab\"/></a>"
      ]
    },
    {
      "cell_type": "markdown",
      "source": [
        "# Notebook de Projetos Python"
      ],
      "metadata": {
        "id": "DvqNGqYLRn98"
      }
    },
    {
      "cell_type": "markdown",
      "source": [
        "#*Questão 01*\n",
        "\n",
        "Um programa deve ser escrito para ler dois números e, em seguida, perguntar à pessoa usuária qual operação ele deseja realizar. O resultado da operação deve incluir informações sobre o número - se é par ou ímpar, positivo ou negativo e inteiro ou decimal."
      ],
      "metadata": {
        "id": "WBlEyyzsHV86"
      }
    },
    {
      "cell_type": "code",
      "source": [
        "#Entrada de dados\n",
        "num1 = float(input('Digite o primeiro número: '))\n",
        "num2 = float(input('Digite o segundo número: '))\n",
        "operador = input('Informe a operação desejada (+, -, *, /): ')\n",
        "\n",
        "#Operações\n",
        "if operador == '+':\n",
        "  resultado = num1 + num2\n",
        "\n",
        "elif operador == '-':\n",
        "  resultado = num1 - num2\n",
        "\n",
        "elif operador == '*':\n",
        "  resultado = num1 * num2\n",
        "\n",
        "elif operador == '/':\n",
        "  resultado = num1 / num2\n",
        "\n",
        "else:\n",
        "  print('Operação inválida, resultado da operação será 0')\n",
        "  resultado = 0\n",
        "\n",
        "#Avaliando o resultado\n",
        "if resultado % 1 == 0:\n",
        "  print('O resultado é inteiro.')\n",
        "else:\n",
        "    print('O resultado é decimal.')\n",
        "\n",
        "\n",
        "if resultado > 0:\n",
        "   print('O resultado é positivo.')\n",
        "elif resultado == 0:\n",
        "    print('O resultado é neutro.')\n",
        "else:\n",
        "    print('O resultado é negativo.')\n",
        "\n",
        "\n",
        "if resultado % 2 == 0:\n",
        "    print('O resultado é par.')\n",
        "else:\n",
        "    print('O resultado é ímpar.')\n"
      ],
      "metadata": {
        "id": "3jmahZ0f-2gq",
        "colab": {
          "base_uri": "https://localhost:8080/"
        },
        "outputId": "7cb6d7a1-8661-43a4-ad48-b2ebdbac24e2"
      },
      "execution_count": null,
      "outputs": [
        {
          "output_type": "stream",
          "name": "stdout",
          "text": [
            "Digite o primeiro número: 4\n",
            "Digite o segundo número: 3\n",
            "Informe a operação desejada (+, -, *, /): /\n",
            "O resultado é decimal.\n",
            "O resultado é positivo.\n",
            "O resultado é ímpar.\n"
          ]
        }
      ]
    },
    {
      "cell_type": "markdown",
      "source": [
        "## *Questão 02*\n",
        "\n",
        "Um estabelecimento está vendendo combustíveis com descontos variados. Para o etanol, se a quantidade comprada for até 15 litros, o desconto será de 2% por litro. Caso contrário, será de 4% por litro. Para o diesel, se a quantidade comprada for até 15 litros, o desconto será de 3% por litro. Caso contrário, será de 5% por litro. O preço do litro de diesel é R\\$ 2,00 e o preço do litro de etanol é R\\$ 1,70. Escreva um programa que leia a quantidade de litros vendidos e o tipo de combustível (E para etanol e D para diesel) e calcule o valor a ser pago pelo cliente. Tenha em mente algumas dicas:\n",
        "\n",
        "- O do valor do desconto será a multiplicação entre preço do litro, quantidade de litros e o valor do desconto.\n",
        "- O valor a ser pago por um cliente será o resultado da multiplicação do preço do litro pela quantidade de litros menos o valor de desconto resultante do cálculo.\n"
      ],
      "metadata": {
        "id": "_PpEpOugHXwZ"
      }
    },
    {
      "cell_type": "code",
      "source": [
        "#Entrada de dados\n",
        "quantidade_litros = float(input('Informe a quantidade de litros vendidos: '))\n",
        "tipo_combustivel = input('Informe o tipo de combustível (E para etanol e D para diesel): ').upper()\n",
        "\n",
        "# Verificar o tipo de combustível\n",
        "if tipo_combustivel == 'E':\n",
        "  preco_litro = 1.70\n",
        "  if quantidade_litros <= 15:\n",
        "    desconto = 0.02\n",
        "  else:\n",
        "    desconto = 0.04\n",
        "\n",
        "elif tipo_combustivel == 'D':\n",
        "  preco_litro = 2.00\n",
        "  if quantidade_litros <=15:\n",
        "    desconto = 0.03\n",
        "  else:\n",
        "    desconto = 0.05\n",
        "\n",
        "else:\n",
        "    print('Entradas inválidas!')\n",
        "    preco_litro = 0\n",
        "    desconto = 0\n",
        "\n",
        "  # Cálculos\n",
        "valor_desconto = preco_litro * quantidade_litros * desconto #desconto\n",
        "valor_pago = preco_litro * quantidade_litros - valor_desconto #valor final\n",
        "\n",
        "\n",
        "print(f'Valor a ser pago pelo cliente: R$ {valor_pago}')\n",
        "\n"
      ],
      "metadata": {
        "id": "9izoF-0O-1yD",
        "colab": {
          "base_uri": "https://localhost:8080/"
        },
        "outputId": "fcfae0b8-e672-463e-ac0a-aafe772ee0c2"
      },
      "execution_count": null,
      "outputs": [
        {
          "output_type": "stream",
          "name": "stdout",
          "text": [
            "Informe a quantidade de litros vendidos: 15\n",
            "Informe o tipo de combustível (E para etanol e D para diesel): E\n",
            "Valor a ser pago pelo cliente: R$ 24.99\n"
          ]
        }
      ]
    },
    {
      "cell_type": "markdown",
      "source": [
        "# *Questão 03*\n",
        "\n",
        "Em uma empresa de venda de imóveis você precisa criar um código que analise os dados de vendas anuais para ajudar a diretoria na tomada de decisão. O código precisa coletar os dados de quantidade de venda durante os anos de 2022 e 2023 e fazer um cálculo de variação percentual. A partir do valor da variação, deve ser enviada às seguintes sugestões:\n",
        "- Para variação acima de 20%: bonificação para o time de vendas.\n",
        "- Para variação entre 2% e 20%: pequena bonificação para time de vendas.\n",
        "- Para variação entre 2% e -10%: planejamento de políticas de incentivo às vendas.\n",
        "- Para bonificações abaixo de -10%: corte de gastos.\n"
      ],
      "metadata": {
        "id": "s_XS_D1WHY2R"
      }
    },
    {
      "cell_type": "code",
      "source": [
        "# Entrada de dados\n",
        "venda_2022 = float(input('Informe a quantidade de vendas em 2022: '))\n",
        "venda_2023 = float(input('Informe a quantidade de vendas em 2023: '))\n",
        "\n",
        "#Cálculo\n",
        "var_percentual = 100 * (venda_2023 - venda_2022)/venda_2022\n",
        "\n",
        "#Condicional de variação\n",
        "if var_percentual >20:\n",
        "  print('Bonificação para o time de vendas.')\n",
        "elif 2 <= var_percentual <=20:\n",
        "  print('Pequena bonificação para time de vendas.')\n",
        "elif -10 <= var_percentual < 2:\n",
        "  print('Planejamento de políticas de incentivo às vendas.')\n",
        "else:\n",
        "  print('Corte de gastos.')\n",
        "\n",
        "print(f'Variação percentual: {var_percentual:.2f}%')"
      ],
      "metadata": {
        "id": "avQrYlUg-w8f",
        "colab": {
          "base_uri": "https://localhost:8080/"
        },
        "outputId": "0d30f274-fbda-4936-ca1c-3e1116e4a236"
      },
      "execution_count": null,
      "outputs": [
        {
          "output_type": "stream",
          "name": "stdout",
          "text": [
            "Informe a quantidade de vendas em 2022: 120\n",
            "Informe a quantidade de vendas em 2023: 160\n",
            "Bonificação para o time de vendas.\n",
            "Variação percentual: 33.33%\n"
          ]
        }
      ]
    },
    {
      "cell_type": "markdown",
      "source": [
        "# *Questão 04*\n",
        "Escreva um programa que gere a tabuada de um número inteiro de 1 a 10, de acordo com a escolha da pessoa usuária. Como exemplo, para o número 2, a tabuada deve ser mostrada no seguinte formato:\n",
        "```\n",
        "Tabuada do 2:\n",
        "2 x 1 = 2\n",
        "2 x 2 = 4\n",
        "[...]\n",
        "2 x 10 = 20\n",
        "```"
      ],
      "metadata": {
        "id": "ODxaTUYmJRdS"
      }
    },
    {
      "cell_type": "code",
      "source": [],
      "metadata": {
        "id": "lkTlbxPIJRdS"
      },
      "execution_count": null,
      "outputs": []
    },
    {
      "cell_type": "markdown",
      "source": [
        "# *Questão 05*\n",
        "Os números primos possuem várias aplicações dentro da Ciência de Dados, por exemplo, na criptografia e segurança. Um número primo é aquele que é divisível apenas por um e por ele mesmo. Faça um programa que peça um número inteiro e determine se ele é ou não um número primo."
      ],
      "metadata": {
        "id": "LeIbnt8VJRdS"
      }
    },
    {
      "cell_type": "code",
      "source": [],
      "metadata": {
        "id": "2rcNU7twJRdS"
      },
      "execution_count": null,
      "outputs": []
    },
    {
      "cell_type": "markdown",
      "source": [
        "# *Questão 06*\n",
        "Crie um programa que pergunte a nota de 10 alunos sobre um curso, usando uma escala de 0 a 5.\n",
        "\n",
        "O programa deve:\n",
        "\n",
        "* Aceitar apenas números inteiros entre 0 e 5.\n",
        "Se o valor for inválido, mostrar:\n",
        "\"Nota inválida. Digite um número entre 0 e 5.\" E pedir novamente a nota.\n",
        "\n",
        "Ao final, mostrar:\n",
        "\n",
        "* Quantas pessoas deram nota 5 (excelente).\n",
        "\n",
        "* Quantas pessoas deram nota menor que 3 (ruim).\n",
        "\n",
        "* A média geral das notas.\n",
        "\n",
        "* Mostrar uma mensagem final com base na porcentagem de notas 5."
      ],
      "metadata": {
        "id": "yYfqX-D9HTqZ"
      }
    },
    {
      "cell_type": "code",
      "source": [
        "# Contagem e soma das notas\n",
        "\n",
        "notas_excelentes = 0 # para contar quantas vezes a nota foi 5\n",
        "notas_medianas = 0    # para contar quantas vezes a nota foi 4 ao 3\n",
        "notas_ruins = 0       # para contar quantas vezes a nota foi 2 ou menos\n",
        "soma_das_notas = 0    # para somar todas as notas\n",
        "\n",
        "\n",
        "# Laço de repetição com validação da nota\n",
        "for i in range(10):\n",
        "  while True:\n",
        "    entrada = input(f'Digite a nota {i+1} de 10 (0 a 5): ')\n",
        "\n",
        "    if entrada.isdigit():\n",
        "      nota=int(entrada)\n",
        "      if 0 <= nota <=5:\n",
        "        break\n",
        "      else:\n",
        "        print('Nota inválida. Digite um número entre 0 e 5.')\n",
        "    else:\n",
        "      print('Digite apenas números inteiros. ')\n",
        "\n",
        "  # Classificação\n",
        "  if nota == 5:\n",
        "    notas_excelentes += 1\n",
        "  elif nota >=3 and nota <=4:\n",
        "    notas_medianas +=1\n",
        "  elif nota <= 2:\n",
        "    notas_ruins +=1\n",
        "\n",
        "     # Soma total das notas para a médoa\n",
        "  soma_das_notas +=1\n",
        "\n",
        "#Cálculo da média\n",
        "media=soma_das_notas/10\n",
        "\n",
        "#Mostrar os resultados\n",
        "print(f'Notas excelentes (5): {notas_excelentes}')\n",
        "print(f'Notas medianas (4-3): {notas_medianas}')\n",
        "print(f'Notas ruins (2 ou menos): {notas_ruins}')\n",
        "\n",
        "# Avaliação do curso\n",
        "porcentagem = (notas_excelentes/10) * 100\n",
        "if porcentagem >= 80:\n",
        "  print('O curso foi muito bem avaliado! ')\n",
        "elif 60 <= porcentagem < 80:\n",
        "   print('O curso teve uma avaliação mediana. ')\n",
        "else:\n",
        "   print('O curso precisa melhorar. ')\n"
      ],
      "metadata": {
        "colab": {
          "base_uri": "https://localhost:8080/"
        },
        "id": "ZDsSX6hPHn8y",
        "outputId": "20cbe4e3-fc66-4100-8fbf-41648021438e"
      },
      "execution_count": 15,
      "outputs": [
        {
          "output_type": "stream",
          "name": "stdout",
          "text": [
            "Digite a nota 1 de 10 (0 a 5): 5.6\n",
            "Digite apenas números inteiros. \n",
            "Digite a nota 1 de 10 (0 a 5): 4\n",
            "Digite a nota 2 de 10 (0 a 5): 5\n",
            "Digite a nota 3 de 10 (0 a 5): 2\n",
            "Digite a nota 4 de 10 (0 a 5): 5\n",
            "Digite a nota 5 de 10 (0 a 5): 3\n",
            "Digite a nota 6 de 10 (0 a 5): 10\n",
            "Nota inválida. Digite um número entre 0 e 5.\n",
            "Digite a nota 6 de 10 (0 a 5): 3\n",
            "Digite a nota 7 de 10 (0 a 5): 5\n",
            "Digite a nota 8 de 10 (0 a 5): 3\n",
            "Digite a nota 9 de 10 (0 a 5): 1\n",
            "Digite a nota 10 de 10 (0 a 5): 2\n",
            "Notas excelentes (5): 3\n",
            "Notas medianas (4-3): 4\n",
            "Notas ruins (2 ou menos): 3\n",
            "O curso precisa melhorar. \n"
          ]
        }
      ]
    },
    {
      "cell_type": "code",
      "source": [
        "\n"
      ],
      "metadata": {
        "id": "3G1MVw5CUSna"
      },
      "execution_count": null,
      "outputs": []
    }
  ]
}