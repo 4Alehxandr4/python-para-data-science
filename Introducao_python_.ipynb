{
  "nbformat": 4,
  "nbformat_minor": 0,
  "metadata": {
    "colab": {
      "provenance": [],
      "include_colab_link": true
    },
    "kernelspec": {
      "name": "python3",
      "display_name": "Python 3"
    },
    "language_info": {
      "name": "python"
    }
  },
  "cells": [
    {
      "cell_type": "markdown",
      "metadata": {
        "id": "view-in-github",
        "colab_type": "text"
      },
      "source": [
        "<a href=\"https://colab.research.google.com/github/4Alehxandr4/python-para-data-science/blob/main/Introducao_python_.ipynb\" target=\"_parent\"><img src=\"https://colab.research.google.com/assets/colab-badge.svg\" alt=\"Open In Colab\"/></a>"
      ]
    },
    {
      "cell_type": "markdown",
      "source": [
        "#Python para Data Science\n",
        "\n",
        "*Meu notebook de estudos sobre Python aplicado à Ciência de Dados.*\n",
        "\n",
        "Aqui você vai encontrar anotações, exercícios, gráficos e mini projetos que estou desenvolvendo ao longo do meu aprendizado com a linguagem Python.\n",
        "\n",
        "---"
      ],
      "metadata": {
        "id": "F-h2kj-I7t7F"
      }
    },
    {
      "cell_type": "markdown",
      "source": [
        "# Notebook\n",
        "\n",
        "Um **Notebook** é como um caderno digital, usado para contar uma história com dados e códigos. Nele, escrevemos passo a passo a nossa lógica de raciocínio, desde o problema até a solução.\n",
        "\n",
        "No notebook, você pode usar dois tipos de **blocos**, também chamados de **células**:\n",
        "\n",
        "- **Blocos de textos:** para explicar o contexto, os objetivos do projeto, conclusões etc.\n",
        "- **Blocos de códigos:**  para programar, explorar dados, criar gráficos e mais.\n",
        "---"
      ],
      "metadata": {
        "id": "d26CbyF28hgN"
      }
    },
    {
      "cell_type": "markdown",
      "source": [
        "# 1. Introdução ao Python: Meus primeiros passos na linguagem\n",
        "\n",
        "Python é uma **linguagem de programação versátil**, fácil de aprender e com uma **sintaxe clara** que  permite focar na lógica do problema, sem complicações técnicas.\n",
        "\n",
        "Ela conta com muitas **bibliotecas** prontas, como:\n",
        "\n",
        "* **NumPy** (cálculos),\n",
        "\n",
        "* **Pandas** (análise de dados),\n",
        "\n",
        "* **Matplotlib** (gráficos).\n",
        "\n",
        "Além disso, é **multiplataforma**, ou seja, funciona em Windows, Mac e Linux, facilitando o uso em diferentes computadores.\n",
        "\n"
      ],
      "metadata": {
        "id": "6rOQ2T1e-4F2"
      }
    },
    {
      "cell_type": "markdown",
      "source": [
        "## 1.1 Comando\n",
        "Os comandos básicos em Python variam de acordo com o tipo de variável manipulada. Existem **operações possíveis com valores numéricos** e também **manipulações possíveis para strings(valores textuais)**.\n",
        "\n",
        "Dentre os comandos básicos gerais podemos citar o `print()` e o `input()`, que conseguimos utilizar com as\n",
        "variáveis."
      ],
      "metadata": {
        "id": "KDHCYIHAGsEm"
      }
    },
    {
      "cell_type": "markdown",
      "source": [
        "### → `print ( )`\n",
        "A **função print** é utilizada para exibir informações na tela, ou seja, ela imprime ou exibe o conteúdo passado como argumento. Um exemplo de uso dessa função é o seguinte código:"
      ],
      "metadata": {
        "id": "vU6QpqmR32Pk"
      }
    },
    {
      "cell_type": "code",
      "execution_count": null,
      "metadata": {
        "colab": {
          "base_uri": "https://localhost:8080/"
        },
        "id": "S1aOH4Q1MS57",
        "outputId": "85a5478d-fc06-4c46-d6a0-9d502b7d1f76"
      },
      "outputs": [
        {
          "output_type": "stream",
          "name": "stdout",
          "text": [
            "Olá Mundo!\n"
          ]
        }
      ],
      "source": [
        "print('Olá Mundo!')"
      ]
    },
    {
      "cell_type": "markdown",
      "source": [
        "O `print()` não imprime apenas textos, mas números e também é possível imprimir vários dados em conjunto dentro dessa função"
      ],
      "metadata": {
        "id": "_bXdZKT05HBb"
      }
    },
    {
      "cell_type": "code",
      "source": [
        "print (2013)"
      ],
      "metadata": {
        "colab": {
          "base_uri": "https://localhost:8080/"
        },
        "id": "rXZ5ATxL6Uli",
        "outputId": "fa58ea3d-29fa-40da-d8d1-957d632a984e"
      },
      "execution_count": null,
      "outputs": [
        {
          "output_type": "stream",
          "name": "stdout",
          "text": [
            "2013\n"
          ]
        }
      ]
    },
    {
      "cell_type": "code",
      "source": [
        "print ('Alexandra,', 19)"
      ],
      "metadata": {
        "colab": {
          "base_uri": "https://localhost:8080/"
        },
        "id": "8T8OHsCd_KjP",
        "outputId": "5574099a-d3d5-48a3-bd5e-5399ed691a3a"
      },
      "execution_count": null,
      "outputs": [
        {
          "output_type": "stream",
          "name": "stdout",
          "text": [
            "Alexandra, 19\n"
          ]
        }
      ]
    },
    {
      "cell_type": "markdown",
      "source": [
        "---\n",
        "####*  Primeiro Desafio"
      ],
      "metadata": {
        "id": "3zQ25V5p_drq"
      }
    },
    {
      "cell_type": "code",
      "source": [
        "print('Escola de Dados da Alura!')"
      ],
      "metadata": {
        "colab": {
          "base_uri": "https://localhost:8080/"
        },
        "id": "R8GyaK11_otU",
        "outputId": "17f0b63f-37b4-4d31-b2b2-5d7a0f2d65f4"
      },
      "execution_count": null,
      "outputs": [
        {
          "output_type": "stream",
          "name": "stdout",
          "text": [
            "Escola de Dados da Alura!\n"
          ]
        }
      ]
    },
    {
      "cell_type": "markdown",
      "source": [
        "*Quando colocamos dois* `print` *em sequência (um abaixo do outro) conseguimos obter uma quebra de linhas:*"
      ],
      "metadata": {
        "id": "elrgMpwqCi75"
      }
    },
    {
      "cell_type": "code",
      "source": [
        "print('Nome: Alexandra')\n",
        "print('Sobrenome: Rocha')"
      ],
      "metadata": {
        "colab": {
          "base_uri": "https://localhost:8080/"
        },
        "id": "yH0rPp0zAIn-",
        "outputId": "7a11b639-3206-4c36-9307-a4d00d0fa076"
      },
      "execution_count": null,
      "outputs": [
        {
          "output_type": "stream",
          "name": "stdout",
          "text": [
            "Nome: Alexandra\n",
            "Sobrenome: Rocha\n"
          ]
        }
      ]
    },
    {
      "cell_type": "markdown",
      "source": [
        "*Se você quiser que o texto pule linha dentro do* `print()`, *use o \\\\n (que significa “nova linha”):*"
      ],
      "metadata": {
        "id": "QhzlMZl6CusT"
      }
    },
    {
      "cell_type": "code",
      "source": [
        "print('A\\nL\\nE\\nX\\nA\\nN\\nD\\nD\\nR\\nA')"
      ],
      "metadata": {
        "colab": {
          "base_uri": "https://localhost:8080/"
        },
        "id": "wIuaXnxGBRIA",
        "outputId": "71e93a12-3153-4f5b-ff08-e6df4184bd07"
      },
      "execution_count": null,
      "outputs": [
        {
          "output_type": "stream",
          "name": "stdout",
          "text": [
            "A\n",
            "L\n",
            "E\n",
            "X\n",
            "A\n",
            "N\n",
            "D\n",
            "D\n",
            "R\n",
            "A\n"
          ]
        }
      ]
    },
    {
      "cell_type": "code",
      "source": [
        "print(28, 'Abril' ,2006)"
      ],
      "metadata": {
        "colab": {
          "base_uri": "https://localhost:8080/"
        },
        "id": "f-tlXZoqB_Ar",
        "outputId": "dfe935dc-0ca5-45b4-a025-42cef2464f89"
      },
      "execution_count": null,
      "outputs": [
        {
          "output_type": "stream",
          "name": "stdout",
          "text": [
            "28 Abril 2006\n"
          ]
        }
      ]
    },
    {
      "cell_type": "code",
      "source": [
        "print('Ano atual:',2025)"
      ],
      "metadata": {
        "colab": {
          "base_uri": "https://localhost:8080/"
        },
        "id": "kZsuhLX-CNMc",
        "outputId": "b6b45a1f-1c1c-4a6d-8b85-d2ac48e66c98"
      },
      "execution_count": null,
      "outputs": [
        {
          "output_type": "stream",
          "name": "stdout",
          "text": [
            "Ano atual: 2025\n"
          ]
        }
      ]
    },
    {
      "cell_type": "markdown",
      "source": [
        "---\n",
        "### → `input ( )`\n",
        "\n",
        "A função `input ()` permite a quem programa **receber dados** da pessoa\n",
        "usuária. É usado para ler e retornar uma **entrada digitada pelo usuário** como string.\n",
        "\n",
        "Para fazer essa coleta podemos atribuir essa função à uma variável.\n"
      ],
      "metadata": {
        "id": "V2q0k7gP77F7"
      }
    },
    {
      "cell_type": "code",
      "source": [
        "nome = input('Escreva o seu nome: ')"
      ],
      "metadata": {
        "colab": {
          "base_uri": "https://localhost:8080/"
        },
        "id": "k_uGVwyx84BD",
        "outputId": "69741f2c-151d-4bea-d2f5-6a50869d082d"
      },
      "execution_count": null,
      "outputs": [
        {
          "name": "stdout",
          "output_type": "stream",
          "text": [
            "Escreva o seu nome: Alexandra\n"
          ]
        }
      ]
    },
    {
      "cell_type": "code",
      "source": [
        "nome"
      ],
      "metadata": {
        "colab": {
          "base_uri": "https://localhost:8080/",
          "height": 35
        },
        "id": "ZrSPg_taAxEp",
        "outputId": "d5d4f89b-091a-4064-c8ce-2273831e417c"
      },
      "execution_count": null,
      "outputs": [
        {
          "output_type": "execute_result",
          "data": {
            "text/plain": [
              "'Alexandra'"
            ],
            "application/vnd.google.colaboratory.intrinsic+json": {
              "type": "string"
            }
          },
          "metadata": {},
          "execution_count": 61
        }
      ]
    },
    {
      "cell_type": "markdown",
      "source": [
        "⚠️ Note que o nome está entre aspas simples. Isso quer dizer que a **função inpu( ) sempre retorna um valor textual**. Se quisermos, por exemplo, coletar um número, temos que fazer a **conversão** dessa saída para outro tipo de valor.\n",
        "\n",
        "---"
      ],
      "metadata": {
        "id": "AjCswY6oA8Qs"
      }
    },
    {
      "cell_type": "markdown",
      "source": [
        "####*  Conversão de dados"
      ],
      "metadata": {
        "id": "ptzaHNCnBPFR"
      }
    },
    {
      "cell_type": "markdown",
      "source": [
        "O retorno desse comando sempre será uma `string`. Isso quer dizer que mesmo que façamos uma coleta de algo que deva ser numérico, ele será uma `string`.\n",
        "\n",
        "Então, será preciso **converter o resultado caso não seja desejável obter uma string**."
      ],
      "metadata": {
        "id": "7z7hcLCk_aCY"
      }
    },
    {
      "cell_type": "markdown",
      "source": [
        "Existem funções para conversão de valores:\n",
        "\n",
        "- **Inteiros:** int(dado_para_conversao) → converte o dado para o\n",
        "tipo inteiro\n",
        "- **Float:** float(dado_para_conversao) → converte o dado para o\n",
        "tipo ponto flutuante (decimal)\n",
        "- **String:** str(dado_para_conversao) → converte o dado para o\n",
        "tipo string (texto)\n",
        "- **Booleano:** bool(dado_para_conversao) → converte o dado para o\n",
        "tipo booleano (lógico)"
      ],
      "metadata": {
        "id": "TOlegATj1Jfp"
      }
    },
    {
      "cell_type": "code",
      "source": [
        "ano_entrada = input('Escreva o ano de ingresso do(a) estudante: ')"
      ],
      "metadata": {
        "id": "MQRu7y9646S9",
        "colab": {
          "base_uri": "https://localhost:8080/"
        },
        "outputId": "007647e4-a806-4629-85cb-14a976147765"
      },
      "execution_count": null,
      "outputs": [
        {
          "name": "stdout",
          "output_type": "stream",
          "text": [
            "Escreva o ano de ingresso do(a) estudante: 2013\n"
          ]
        }
      ]
    },
    {
      "cell_type": "code",
      "source": [
        "type(ano_entrada)"
      ],
      "metadata": {
        "id": "FwezgXQA48VF",
        "colab": {
          "base_uri": "https://localhost:8080/"
        },
        "outputId": "c6fb741b-167e-4b84-d61f-2f26f3e0b529"
      },
      "execution_count": null,
      "outputs": [
        {
          "output_type": "execute_result",
          "data": {
            "text/plain": [
              "str"
            ]
          },
          "metadata": {},
          "execution_count": 63
        }
      ]
    },
    {
      "cell_type": "code",
      "source": [
        "ano_entrada = int(input('Escreva o ano de ingresso do (a) estudante: '))"
      ],
      "metadata": {
        "id": "bbRqzmOJ49Q1",
        "colab": {
          "base_uri": "https://localhost:8080/"
        },
        "outputId": "4fc8f971-49e3-4c25-dca6-3076585576e4"
      },
      "execution_count": null,
      "outputs": [
        {
          "name": "stdout",
          "output_type": "stream",
          "text": [
            "Escreva o ano de ingresso do (a) estudante: 2013\n"
          ]
        }
      ]
    },
    {
      "cell_type": "code",
      "source": [
        "type(ano_entrada)"
      ],
      "metadata": {
        "id": "nu5xycbG4-X1",
        "colab": {
          "base_uri": "https://localhost:8080/"
        },
        "outputId": "202b2465-50a1-4788-fcaf-0f03263aaa7a"
      },
      "execution_count": null,
      "outputs": [
        {
          "output_type": "execute_result",
          "data": {
            "text/plain": [
              "int"
            ]
          },
          "metadata": {},
          "execution_count": 65
        }
      ]
    },
    {
      "cell_type": "markdown",
      "source": [
        "Para exibir resultados misturando texto com valores numéricos (ou de outros tipos), utilizamos a formatação com `f strings`.\n",
        "\n",
        "Essa estrutura permite incorporar variáveis diretamente dentro da `string`, facilitando a leitura e organização da saída."
      ],
      "metadata": {
        "id": "yNI2-XTbB3aS"
      }
    },
    {
      "cell_type": "code",
      "source": [
        "nota_entrada = float(input('Digite a nota do teste de ingresso: '))"
      ],
      "metadata": {
        "id": "b1eYnEX-4wXz",
        "colab": {
          "base_uri": "https://localhost:8080/"
        },
        "outputId": "196d0446-c14f-489d-e18c-ae477aafafb9"
      },
      "execution_count": null,
      "outputs": [
        {
          "name": "stdout",
          "output_type": "stream",
          "text": [
            "Digite a nota do teste de ingresso: 9.0\n"
          ]
        }
      ]
    },
    {
      "cell_type": "code",
      "source": [
        "nota_entrada = float(input('Digite a nota do teste de ingresso: '))\n",
        "print(f'Ano da entrada {ano_entrada} \\nNota do teste de ingresso {nota_entrada}')"
      ],
      "metadata": {
        "colab": {
          "base_uri": "https://localhost:8080/"
        },
        "id": "h5QbEaGxBNaD",
        "outputId": "4d7d972d-baf8-45c4-bd55-e8762ffc312c"
      },
      "execution_count": null,
      "outputs": [
        {
          "output_type": "stream",
          "name": "stdout",
          "text": [
            "Digite a nota do teste de ingresso: 9.0\n",
            "Ano da entrada 2013 \n",
            "Nota do teste de ingresso 9.0\n"
          ]
        }
      ]
    },
    {
      "cell_type": "markdown",
      "source": [
        "---\n",
        "####*   Segundo Desafio Desafio\n"
      ],
      "metadata": {
        "id": "xaFTVFV4pg0j"
      }
    },
    {
      "cell_type": "markdown",
      "source": [
        "##### Coleta e amostragem de dados"
      ],
      "metadata": {
        "id": "n6o7C1Ze2cRe"
      }
    },
    {
      "cell_type": "markdown",
      "source": [
        "*Questão 1*\n",
        "\n",
        "Crie um programa que solicite à pessoa usuária digitar seu nome, e imprima “Olá, [nome]!”."
      ],
      "metadata": {
        "id": "sRneWag9PV5Q"
      }
    },
    {
      "cell_type": "code",
      "source": [
        "nome = input('Qual o seu nome?')\n",
        "print(f'Olá, {nome}!')"
      ],
      "metadata": {
        "id": "dbX1fKqy2HnE",
        "colab": {
          "base_uri": "https://localhost:8080/"
        },
        "outputId": "bf99fe30-bc41-4a05-f961-d4bcfb57106e"
      },
      "execution_count": null,
      "outputs": [
        {
          "output_type": "stream",
          "name": "stdout",
          "text": [
            "Qual o seu nome?Ale\n",
            "Olá, Ale!\n"
          ]
        }
      ]
    },
    {
      "cell_type": "markdown",
      "source": [
        "*Questão 2*\n",
        "\n",
        "Crie um programa que solicite à pessoa usuária digitar seu nome e idade, e imprima “Olá, [nome], você tem [idade] anos.”."
      ],
      "metadata": {
        "id": "BJ1SznEp70d5"
      }
    },
    {
      "cell_type": "code",
      "source": [
        "nome = input('Qual o seu nome? ')\n",
        "idade = int (input('Qual a sua idade? '))\n",
        "print(f'Olá, {nome}! você tem {idade} anos')"
      ],
      "metadata": {
        "id": "jKz-0Sq8PFkp",
        "colab": {
          "base_uri": "https://localhost:8080/"
        },
        "outputId": "03cf6ca8-cb1e-4c04-9c48-4b34de7a3752"
      },
      "execution_count": null,
      "outputs": [
        {
          "output_type": "stream",
          "name": "stdout",
          "text": [
            "Qual o seu nome? Ale\n",
            "Qual a sua idade? 19\n",
            "Olá, Ale! você tem 19 anos\n"
          ]
        }
      ]
    },
    {
      "cell_type": "markdown",
      "source": [
        "*Questão 3*\n",
        "\n",
        "Crie um programa que solicite à pessoa usuária digitar seu nome, idade e altura em metros, e imprima “Olá, [nome], você tem [idade] anos e mede [altura] metros!”."
      ],
      "metadata": {
        "id": "2T0jNYZt70aa"
      }
    },
    {
      "cell_type": "code",
      "source": [
        "nome = input ('Qual o seu nome? ')\n",
        "idade = int (input('Qual a sua idade? '))\n",
        "altura = float (input('Qual a sua alura em metro? '))\n",
        "\n",
        "print(f'Olá, {nome}! você tem {idade} anos e {altura} metros.')"
      ],
      "metadata": {
        "id": "pI4kHNzTPIXh",
        "colab": {
          "base_uri": "https://localhost:8080/"
        },
        "outputId": "2d82f478-9f39-42c1-c716-d95e6ec5ecea"
      },
      "execution_count": null,
      "outputs": [
        {
          "output_type": "stream",
          "name": "stdout",
          "text": [
            "Qual o seu nome? Ale\n",
            "Qual a sua idade? 19\n",
            "Qual a sua alura em metro? 1.60\n",
            "Olá, Ale! você tem 19 anos e 1.6 metros.\n"
          ]
        }
      ]
    },
    {
      "cell_type": "markdown",
      "source": [
        "---\n",
        "##### Calculadora com operadores"
      ],
      "metadata": {
        "id": "mEBFwKkC70KP"
      }
    },
    {
      "cell_type": "markdown",
      "source": [
        "*Questão 1*\n",
        "\n",
        "Crie um programa que solicite dois valores numéricos à pessoa usuária e imprima a soma dos dois valores."
      ],
      "metadata": {
        "id": "H-IV1oAPPSqK"
      }
    },
    {
      "cell_type": "code",
      "source": [
        "a = int (input('Valor a: '))\n",
        "b = int (input('Valor b: '))\n",
        "\n",
        "print(f'Resultado:{a+b}')"
      ],
      "metadata": {
        "id": "Zb0W84sy8rnp",
        "colab": {
          "base_uri": "https://localhost:8080/"
        },
        "outputId": "16586406-06b3-4592-e1df-4ab7b058fb21"
      },
      "execution_count": null,
      "outputs": [
        {
          "output_type": "stream",
          "name": "stdout",
          "text": [
            "Valor a: 5\n",
            "Valor b: 2\n",
            "Resultado: 7\n"
          ]
        }
      ]
    },
    {
      "cell_type": "markdown",
      "source": [
        "*Questão 2*\n",
        "\n",
        "Crie um programa que solicite três valores numéricos à pessoa usuária e imprima a soma dos três valores."
      ],
      "metadata": {
        "id": "LUoi2MOu70Em"
      }
    },
    {
      "cell_type": "code",
      "source": [
        "a = int (input('Valor a: '))\n",
        "b = float (input('Valor b: '))\n",
        "c = int (input('Valor c: '))\n",
        "\n",
        "print(f'Resultado:{a+b+c}')"
      ],
      "metadata": {
        "id": "4FYjWyBS8rDm",
        "colab": {
          "base_uri": "https://localhost:8080/"
        },
        "outputId": "351c4c83-283d-426b-a193-106fb02148f4"
      },
      "execution_count": null,
      "outputs": [
        {
          "output_type": "stream",
          "name": "stdout",
          "text": [
            "Valor a: 5\n",
            "Valor b: 7.5\n",
            "Valor c: 10\n",
            "Resultado: 22.5\n"
          ]
        }
      ]
    },
    {
      "cell_type": "markdown",
      "source": [
        "*Questão 3*\n",
        "\n",
        "Crie um programa que solicite dois valores numéricos à pessoa usuária e imprima a subtração do primeiro pelo o segundo valor."
      ],
      "metadata": {
        "id": "lezGctF07z8i"
      }
    },
    {
      "cell_type": "code",
      "source": [
        "a = float (input ('Valor a: '))\n",
        "b = float (input ('Valor b: '))\n",
        "\n",
        "print(f'Resultado:{a-b}')"
      ],
      "metadata": {
        "id": "k0GE1z4w8p3J",
        "colab": {
          "base_uri": "https://localhost:8080/"
        },
        "outputId": "bad2cf6c-db9b-432b-ba6b-9a36cdbf6ca5"
      },
      "execution_count": null,
      "outputs": [
        {
          "output_type": "stream",
          "name": "stdout",
          "text": [
            "Valor a: 5.8\n",
            "Valor b: 2.3\n",
            "Resultado: 3.5\n"
          ]
        }
      ]
    },
    {
      "cell_type": "markdown",
      "source": [
        "*Questão 4*\n",
        "\n",
        "Crie um programa que solicite dois valores numéricos à pessoa usuária e imprima a multiplicação dos dois valores.\n"
      ],
      "metadata": {
        "id": "wwMP-dPU7zxW"
      }
    },
    {
      "cell_type": "code",
      "source": [
        "a = float (input('Valor de a:'))\n",
        "b = int (input('Valor b: '))\n",
        "\n",
        "print(f'Resultado:{a*b}')"
      ],
      "metadata": {
        "id": "GzFCVHfp8peZ",
        "colab": {
          "base_uri": "https://localhost:8080/"
        },
        "outputId": "13f6197a-df11-481d-b3a7-bb0079c2b545"
      },
      "execution_count": null,
      "outputs": [
        {
          "output_type": "stream",
          "name": "stdout",
          "text": [
            "Valor de a:5.12\n",
            "Valor b: 5\n",
            "Resultado: 25.6\n"
          ]
        }
      ]
    },
    {
      "cell_type": "markdown",
      "source": [
        "*Questão 5*\n",
        "\n",
        "Crie um programa que solicite dois valores numéricos, um numerador e um denominador, e realize a divisão entre os dois valores. Deixe claro que o valor do denominador não pode ser `0`.\n"
      ],
      "metadata": {
        "id": "9kxyHxUo7zRD"
      }
    },
    {
      "cell_type": "code",
      "source": [
        "numerador = int (input('Valor do numerador: '))\n",
        "denominador = int (input('Valor denominador (diferente de zero) : '))\n",
        "\n",
        "print(f'Resultado:{numerador/denominador}')"
      ],
      "metadata": {
        "id": "ytJ8l5KH8ozc",
        "colab": {
          "base_uri": "https://localhost:8080/"
        },
        "outputId": "d22e42a0-642a-493a-8134-e48f10df164f"
      },
      "execution_count": null,
      "outputs": [
        {
          "output_type": "stream",
          "name": "stdout",
          "text": [
            "Valor do numerador: 6\n",
            "Valor denominador: (Diferente de zero) 2\n",
            "Resultado: 3.0\n"
          ]
        }
      ]
    },
    {
      "cell_type": "markdown",
      "source": [
        "*Questão 6*\n",
        "\n",
        "Crie um programa que solicite dois valores numéricos, um operador e uma potência, e realize a exponenciação entre esses dois valores.\n"
      ],
      "metadata": {
        "id": "zkUSBTQq8Hxt"
      }
    },
    {
      "cell_type": "code",
      "source": [
        "operador = int (input('Valor operador: '))\n",
        "potencia = int (input('Valor da potência: '))\n",
        "\n",
        "print(f'Resultado:{operador**potencia}')"
      ],
      "metadata": {
        "id": "RPj36jq08oZp",
        "colab": {
          "base_uri": "https://localhost:8080/"
        },
        "outputId": "7dc574ce-df2f-4333-ad36-2f0b3aaa46c9"
      },
      "execution_count": null,
      "outputs": [
        {
          "output_type": "stream",
          "name": "stdout",
          "text": [
            "Valor operador: 2\n",
            "Valor da potência: 3\n",
            "Resultado:8\n"
          ]
        }
      ]
    },
    {
      "cell_type": "markdown",
      "source": [
        "*Questão 7*\n",
        "\n",
        "Crie um programa que solicite dois valores numéricos, um numerador e um denominador e realize a divisão inteira entre os dois valores. Deixe claro que o valor do denominador não pode ser `0`."
      ],
      "metadata": {
        "id": "yiunIusZ8Huj"
      }
    },
    {
      "cell_type": "code",
      "source": [
        "numerador = int (input(\"Valor numerador: \"))\n",
        "denominador = int (input(\"Valor denominador (diferente de zero): \"))\n",
        "\n",
        "print(f'Resultado:{numerador//denominador}')"
      ],
      "metadata": {
        "id": "UHK8xITf8oCg",
        "colab": {
          "base_uri": "https://localhost:8080/"
        },
        "outputId": "256d2319-37ad-491a-9324-9d91fb9ce056"
      },
      "execution_count": null,
      "outputs": [
        {
          "output_type": "stream",
          "name": "stdout",
          "text": [
            "Valor numerador: 7\n",
            "Valor denominador:(diferente de zero) 9\n",
            "Resultado:0\n"
          ]
        }
      ]
    },
    {
      "cell_type": "markdown",
      "source": [
        "*Questão 8*\n",
        "\n",
        "Crie um programa que solicite dois valores numéricos, um numerador e um denominador, e retorne o resto da divisão entre os dois valores. Deixe claro que o valor do denominador não pode ser `0`."
      ],
      "metadata": {
        "id": "z_D_JiLX8Hra"
      }
    },
    {
      "cell_type": "code",
      "source": [
        "numerador = int (input('Valor numerador: '))\n",
        "denominador = int (input('Valor numerador (diferente de zero): '))\n",
        "\n",
        "print(f'Resultado:{numerador%denominador}')"
      ],
      "metadata": {
        "id": "EWGJeukO8nqx",
        "colab": {
          "base_uri": "https://localhost:8080/"
        },
        "outputId": "6e861f96-9e6d-44fe-b662-1e8029e88d33"
      },
      "execution_count": null,
      "outputs": [
        {
          "output_type": "stream",
          "name": "stdout",
          "text": [
            "Valor numerador: 7\n",
            "Valor numerador (diferente de zero): 9\n",
            "Resultado:7\n"
          ]
        }
      ]
    },
    {
      "cell_type": "markdown",
      "source": [
        "*Questão 9*\n",
        "\n",
        "Crie um código que solicita 3 notas de um estudante e imprima a média das notas."
      ],
      "metadata": {
        "id": "RDRajNkU8N8N"
      }
    },
    {
      "cell_type": "code",
      "source": [
        "media_1 = float (input(\"Nota 1: \"))\n",
        "media_2 = float (input(\"Nota 2: \"))\n",
        "media_3 = float (input(\"Nota 3: \"))\n",
        "\n",
        "print(f'Nota final: {(media_1 + media_2 + media_3)/3}')"
      ],
      "metadata": {
        "id": "H6F4Ojzt8nSR",
        "colab": {
          "base_uri": "https://localhost:8080/"
        },
        "outputId": "6b81ad83-690f-4b22-f961-3b2e1d00d2dc"
      },
      "execution_count": null,
      "outputs": [
        {
          "output_type": "stream",
          "name": "stdout",
          "text": [
            "Nota 1: 5.0\n",
            "Nota 2: 7.5\n",
            "Nota 3: 10.0\n",
            "Nota final: 7.5\n"
          ]
        }
      ]
    },
    {
      "cell_type": "markdown",
      "source": [
        "*Questão 10*\n",
        "\n",
        "Crie um código que calcule e imprima a média ponderada dos números 5, 12, 20 e 15 com pesos respectivamente iguais a 1, 2, 3 e 4."
      ],
      "metadata": {
        "id": "d7fjkne58N21"
      }
    },
    {
      "cell_type": "code",
      "source": [
        "media_ponderada = (5*1 + 12*2 + 20*3 + 15*4) / (1+2+3+4)\n",
        "print(f'Média {media_ponderada}.')"
      ],
      "metadata": {
        "id": "fwjoHlV48mkv",
        "colab": {
          "base_uri": "https://localhost:8080/"
        },
        "outputId": "be39de24-ee2e-4cfb-d9a6-98f485fd7ec9"
      },
      "execution_count": null,
      "outputs": [
        {
          "output_type": "stream",
          "name": "stdout",
          "text": [
            "Média 14.9.\n"
          ]
        }
      ]
    },
    {
      "cell_type": "markdown",
      "source": [
        "---\n",
        "##### Editando textos"
      ],
      "metadata": {
        "id": "GNmbX1OU8N0V"
      }
    },
    {
      "cell_type": "markdown",
      "source": [
        "*Questão 1*\n",
        "\n",
        "Crie uma variável chamada frase e atribua a ela uma string de sua escolha. Em seguida, imprima a frase na tela."
      ],
      "metadata": {
        "id": "6wZ85mCsRCV0"
      }
    },
    {
      "cell_type": "code",
      "source": [
        "frase = 'Todo verão termina'\n",
        "frase"
      ],
      "metadata": {
        "id": "eRqr_gh-8mFy",
        "colab": {
          "base_uri": "https://localhost:8080/",
          "height": 35
        },
        "outputId": "758032b5-2da1-4daa-f134-be6eb6300879"
      },
      "execution_count": null,
      "outputs": [
        {
          "output_type": "execute_result",
          "data": {
            "text/plain": [
              "'Todo verão termina'"
            ],
            "application/vnd.google.colaboratory.intrinsic+json": {
              "type": "string"
            }
          },
          "metadata": {},
          "execution_count": 33
        }
      ]
    },
    {
      "cell_type": "markdown",
      "source": [
        "*Questão 2*\n",
        "\n",
        "Crie um código que solicite uma frase e depois imprima a frase na tela."
      ],
      "metadata": {
        "id": "Aac17z-18Nwv"
      }
    },
    {
      "cell_type": "code",
      "source": [
        "frase = input(\"Digite uma Frase:\")\n",
        "print(f'Frase: {frase}')"
      ],
      "metadata": {
        "id": "8zfE2hh98lb0",
        "colab": {
          "base_uri": "https://localhost:8080/"
        },
        "outputId": "616f0260-d4a5-43c1-fc4e-785ddac44012"
      },
      "execution_count": null,
      "outputs": [
        {
          "output_type": "stream",
          "name": "stdout",
          "text": [
            "Digite uma Frase:Foi modo de dizer \n",
            "Frase: Foi modo de dizer \n"
          ]
        }
      ]
    },
    {
      "cell_type": "markdown",
      "source": [
        "*Questão 3*\n",
        "\n",
        "Crie um código que solicite uma frase à pessoa usuária e imprima a mesma frase digitada mas com todas as letras maiúsculas."
      ],
      "metadata": {
        "id": "DXVzqpN58Ntr"
      }
    },
    {
      "cell_type": "code",
      "source": [
        "maiuscula = input('Digite uma frase: ')\n",
        "print (maiuscula.upper())"
      ],
      "metadata": {
        "id": "d0VzoYP68k-I",
        "colab": {
          "base_uri": "https://localhost:8080/"
        },
        "outputId": "c9139b46-9b0a-4e44-887b-1f2cf37936af"
      },
      "execution_count": null,
      "outputs": [
        {
          "output_type": "stream",
          "name": "stdout",
          "text": [
            "Digite uma frase: Acidente \n",
            "ACIDENTE \n"
          ]
        }
      ]
    },
    {
      "cell_type": "markdown",
      "source": [
        "*Questão 4*\n",
        "\n",
        "Crie um código que solicite uma frase à pessoa usuária e imprima a mesma frase digitada mas com todas as letras minúsculas."
      ],
      "metadata": {
        "id": "I12VeNPK8Nqb"
      }
    },
    {
      "cell_type": "code",
      "source": [
        "letras = input('Digite uma frase: ')\n",
        "print(letras.title())"
      ],
      "metadata": {
        "id": "KD8rNy2K8kox",
        "colab": {
          "base_uri": "https://localhost:8080/"
        },
        "outputId": "535f765d-a728-4504-b976-66630fe4285b"
      },
      "execution_count": null,
      "outputs": [
        {
          "output_type": "stream",
          "name": "stdout",
          "text": [
            "Digite uma frase: alinhamento milenar\n",
            "Alinhamento Milenar\n"
          ]
        }
      ]
    },
    {
      "cell_type": "markdown",
      "source": [
        "*Questão 5*\n",
        "\n",
        "Crie uma variável chamada “`frase`” e atribua a ela uma string de sua escolha. Em seguida, imprima a frase sem espaços em branco no início e no fim."
      ],
      "metadata": {
        "id": "cRqngSE48Nog"
      }
    },
    {
      "cell_type": "code",
      "source": [
        "frase = ' Eu sempre fui o sol '\n",
        "print(frase.strip())"
      ],
      "metadata": {
        "id": "aSCpdF-o8kBs",
        "colab": {
          "base_uri": "https://localhost:8080/"
        },
        "outputId": "719cb15b-50eb-48ee-b874-23045d6863cd"
      },
      "execution_count": null,
      "outputs": [
        {
          "output_type": "stream",
          "name": "stdout",
          "text": [
            "Eu sempre fui o sol\n"
          ]
        }
      ]
    },
    {
      "cell_type": "markdown",
      "source": [
        "*Questão 6*\n",
        "\n",
        "Crie um código que solicite uma frase à pessoa usuária e imprima a mesma frase sem espaços em branco no início e no fim."
      ],
      "metadata": {
        "id": "murIazpQ8Nkv"
      }
    },
    {
      "cell_type": "code",
      "source": [
        "espaço = input ('Digite uma frase: ')\n",
        "print(frase.strip())"
      ],
      "metadata": {
        "id": "tHunjwuG8jNq",
        "colab": {
          "base_uri": "https://localhost:8080/"
        },
        "outputId": "01a1b59a-4dcb-41ec-9746-e68b30c6889f"
      },
      "execution_count": null,
      "outputs": [
        {
          "output_type": "stream",
          "name": "stdout",
          "text": [
            "Digite uma frase:      Eu sempre fui o sol \n",
            "Eu sempre fui o sol\n"
          ]
        }
      ]
    },
    {
      "cell_type": "markdown",
      "source": [
        "*Questão 7*\n",
        "\n",
        "\n",
        "Crie um código que solicite uma frase à pessoa usuária e imprima a mesma frase sem espaços em branco no início e no fim e em letras minúsculas."
      ],
      "metadata": {
        "id": "eRxc2OeX8Nh2"
      }
    },
    {
      "cell_type": "code",
      "source": [
        "minuscula = input ('Digite uma frase: ')\n",
        "print(minuscula.strip().lower())"
      ],
      "metadata": {
        "id": "DYm0_UwS8ih6",
        "colab": {
          "base_uri": "https://localhost:8080/"
        },
        "outputId": "99603eba-090f-4161-d5e3-d9c7b2f99d55"
      },
      "execution_count": null,
      "outputs": [
        {
          "output_type": "stream",
          "name": "stdout",
          "text": [
            "Digite uma frase: TENHO PRESSA DE EXISTIR\n",
            "tenho pressa de existir\n"
          ]
        }
      ]
    },
    {
      "cell_type": "markdown",
      "source": [
        "*Questão 8*\n",
        "\n",
        "Crie um código que solicite uma frase à pessoa usuária e imprima a mesma frase com todas as vogais “`e`” trocadas pela letra “`f`”."
      ],
      "metadata": {
        "id": "UKATLavs8NfI"
      }
    },
    {
      "cell_type": "code",
      "source": [
        "vogais = input('Digite uma frase: ')\n",
        "print(vogais.lower().replace('e','f')) #colocamos o lower para que todas as letras sofram a mudança"
      ],
      "metadata": {
        "id": "k64C5G5S8iLO",
        "colab": {
          "base_uri": "https://localhost:8080/"
        },
        "outputId": "29a4890b-1831-4ab9-cbc0-a367f426121b"
      },
      "execution_count": null,
      "outputs": [
        {
          "output_type": "stream",
          "name": "stdout",
          "text": [
            "Digite uma frase: Eu te leio\n",
            "fu tf lfio\n"
          ]
        }
      ]
    },
    {
      "cell_type": "markdown",
      "source": [
        "*Questão 9*\n",
        "\n",
        "\n",
        "Crie um código que solicite uma frase à pessoa usuária e imprima a mesma frase com todas as vogais “`a`” trocadas pela caractere  “`@`”."
      ],
      "metadata": {
        "id": "n_1SPchw8NdG"
      }
    },
    {
      "cell_type": "code",
      "source": [
        "vogais = input('Digite a frase: ')\n",
        "print(vogais.lower().replace('a','@'))"
      ],
      "metadata": {
        "id": "msaDNm_p8h0D",
        "colab": {
          "base_uri": "https://localhost:8080/"
        },
        "outputId": "bd721245-abd4-480d-df7a-be2aae17c97b"
      },
      "execution_count": null,
      "outputs": [
        {
          "output_type": "stream",
          "name": "stdout",
          "text": [
            "Digite a frase: Alecis das meninas \n",
            "@lecis d@s menin@s \n"
          ]
        }
      ]
    },
    {
      "cell_type": "markdown",
      "source": [
        "*Questão 10*\n",
        "\n",
        "\n",
        "Crie um código que solicite uma frase à pessoa usuária e imprima a mesma frase com todas as consoantes “`s`” trocadas pelo caractere  “`$`”."
      ],
      "metadata": {
        "id": "H3sTTjqI8Naa"
      }
    },
    {
      "cell_type": "code",
      "source": [
        "cosoantes = input('Digite a frase: ')\n",
        "print(cosoantes.lower().replace('s','$'))"
      ],
      "metadata": {
        "id": "RPBIsWT68e-1",
        "colab": {
          "base_uri": "https://localhost:8080/"
        },
        "outputId": "56457339-7821-4a88-8c86-665e4b2bf619"
      },
      "execution_count": null,
      "outputs": [
        {
          "output_type": "stream",
          "name": "stdout",
          "text": [
            "Digite a frase: Posso ser o seu gameboy\n",
            "po$$o $er o $eu gameboy\n"
          ]
        }
      ]
    },
    {
      "cell_type": "markdown",
      "source": [
        "---\n",
        "# 2. Variáveis\n",
        "\n",
        "Podemos entender as **variáveis** como nomes que armazenam valores. Se quisermos acessar uma informação, usamos o nome da variável para isso.\n",
        "\n",
        "Em **Python, não é necessário definir o tipo da variável previamente**, pois o tipo é **determinado automaticamente pelo valor atribuído**, isso se chama ***tipagem dinâmica***.\n",
        "\n",
        "✅ Com isso:\n",
        "\n",
        "* Podemos **atribuir qualquer tipo de valor** a uma variável (texto, número, etc.).\n",
        "\n",
        "* Podemos **alterar esse valor a qualquer momento**, trocando por outro dado diferente.\n",
        "\n",
        "\n",
        "\n"
      ],
      "metadata": {
        "id": "qv7o8qmHCcEq"
      }
    },
    {
      "cell_type": "markdown",
      "source": [
        "###→ Regras para Variáveis\n",
        "Nomes que **não** podemos definir para variáveis:\n",
        "\n",
        "* Nomes que **começam com números**. **Exemplos**: 10_notas, 2_nomes_casa.\n",
        "\n",
        "* Palavras **separadas por espaço**. **Exemplos**: Nome escola, notas estudantes.\n",
        "\n",
        "* **Nomes de funções** do Python. **Exemplos**: print, type.\n",
        "\n",
        "Letras **maiúsculas** e **minúscula**s vão gerar **diferentes** variáveis. A variável **idadeé** diferente de **Idade**, que por sua vez, também é diferente de **IDADE**."
      ],
      "metadata": {
        "id": "IHLXH-sTK6cx"
      }
    },
    {
      "cell_type": "code",
      "source": [
        "idade = 1\n",
        "\n",
        "Idade = 2\n",
        "\n",
        "IDADE = 3\n",
        "\n",
        "_idade = 4\n",
        "\n",
        "_idade_ = 5\n",
        "\n",
        "print(idade, Idade, IDADE, _idade, _idade_)"
      ],
      "metadata": {
        "colab": {
          "base_uri": "https://localhost:8080/"
        },
        "id": "TlutdF9SIsS1",
        "outputId": "5077587c-52ba-407d-acba-9a0854ee9ecc"
      },
      "execution_count": null,
      "outputs": [
        {
          "output_type": "stream",
          "name": "stdout",
          "text": [
            "1 2 3 4 5\n"
          ]
        }
      ]
    },
    {
      "cell_type": "markdown",
      "source": [
        "## 2.1 Atribuição\n",
        "*Situação hipotética*\n",
        "\n",
        "\n",
        "*  Eu preciso trabalhar com a idade de um estudante qualquer de na minha escola, para armazenarmos a idade desse aluno, é preciso criar uma variável.\n",
        "\n",
        "\n"
      ],
      "metadata": {
        "id": "1Ab6_BrmJb1t"
      }
    },
    {
      "cell_type": "code",
      "source": [
        "nome_da_variável = valor # O (=) é o operador de atribuição"
      ],
      "metadata": {
        "id": "Rdgk3NXmUfiM"
      },
      "execution_count": null,
      "outputs": []
    },
    {
      "cell_type": "code",
      "source": [
        "idade = 5 #Aqui estou ligando a váriavel 'idade' ao ao valor"
      ],
      "metadata": {
        "id": "5OzkEYpPLoSJ"
      },
      "execution_count": null,
      "outputs": []
    },
    {
      "cell_type": "markdown",
      "source": [
        "⚠️ **Shift + Enter** para que o dado seja salvo na memória do executador"
      ],
      "metadata": {
        "id": "ZGvj5s_UMNuR"
      }
    },
    {
      "cell_type": "code",
      "source": [
        "print (idade) #saída do valor"
      ],
      "metadata": {
        "colab": {
          "base_uri": "https://localhost:8080/"
        },
        "id": "UhTImp57MGox",
        "outputId": "6c2b7a74-5cd7-4a8b-956d-66ccff96fe49"
      },
      "execution_count": null,
      "outputs": [
        {
          "output_type": "stream",
          "name": "stdout",
          "text": [
            "5\n"
          ]
        }
      ]
    },
    {
      "cell_type": "markdown",
      "source": [
        "\n",
        "\n",
        "*   Se passou 5 anos,  o mesmo estudante agora tem 10 anos é preciso alterar a sua idade.\n",
        "\n"
      ],
      "metadata": {
        "id": "a2EUCRpCNUSQ"
      }
    },
    {
      "cell_type": "code",
      "source": [
        "idade = 10 #Aqui estou modificando o valor da da variável idade"
      ],
      "metadata": {
        "id": "5m0dU6SINDs9"
      },
      "execution_count": null,
      "outputs": []
    },
    {
      "cell_type": "code",
      "source": [
        "print (idade) #saída do novo valor da idade"
      ],
      "metadata": {
        "colab": {
          "base_uri": "https://localhost:8080/"
        },
        "id": "I34grd0nN1sz",
        "outputId": "887454c1-20e1-4204-8874-d8db89d34f22"
      },
      "execution_count": null,
      "outputs": [
        {
          "output_type": "stream",
          "name": "stdout",
          "text": [
            "10\n"
          ]
        }
      ]
    },
    {
      "cell_type": "markdown",
      "source": [
        "* Se passou mais 5 anos, o mesmo estudante agora tem 15 anos é preciso modificar a sua idade."
      ],
      "metadata": {
        "id": "-VA6eJC7OM6X"
      }
    },
    {
      "cell_type": "code",
      "source": [
        "idade = 15 #troquei novamente a sua idade"
      ],
      "metadata": {
        "id": "v9EvUyZ-OMKv"
      },
      "execution_count": null,
      "outputs": []
    },
    {
      "cell_type": "code",
      "source": [
        "idade #Essa aqui é outra forma de vizualizar a variável idade. O notebook executará todas as linhas, atribuirá o valor 15 à variável e lerá apenas o valor de idade."
      ],
      "metadata": {
        "colab": {
          "base_uri": "https://localhost:8080/"
        },
        "id": "faDp94HSOGfs",
        "outputId": "66c1dd20-635d-4b0d-dea7-619595e95baa"
      },
      "execution_count": null,
      "outputs": [
        {
          "output_type": "execute_result",
          "data": {
            "text/plain": [
              "15"
            ]
          },
          "metadata": {},
          "execution_count": 16
        }
      ]
    },
    {
      "cell_type": "markdown",
      "source": [
        "⚠️**Lembrando** que usar apenas o nome, como neste caso, idade, só funciona quando está na última linha da célula."
      ],
      "metadata": {
        "id": "7R9AdHVGPo2H"
      }
    },
    {
      "cell_type": "code",
      "source": [
        "nome = 'Gabriel'\n",
        "nome"
      ],
      "metadata": {
        "colab": {
          "base_uri": "https://localhost:8080/",
          "height": 35
        },
        "id": "hcYy05AdO1oA",
        "outputId": "0c4dbb43-dc5f-42a0-c633-4d049e9c2c0f"
      },
      "execution_count": null,
      "outputs": [
        {
          "output_type": "execute_result",
          "data": {
            "text/plain": [
              "'Gabriel'"
            ],
            "application/vnd.google.colaboratory.intrinsic+json": {
              "type": "string"
            }
          },
          "metadata": {},
          "execution_count": 17
        }
      ]
    },
    {
      "cell_type": "markdown",
      "source": [
        "## 2.2 Tipos de variáveis\n",
        "\n",
        "Cada **variável contém uma classe específica** quanto ao tipo de objeto que ela está referenciando. Essas classes vão ser diferentes a partir do **tipo de dado que nós atribuimos a uma variável**."
      ],
      "metadata": {
        "id": "-D-4zsD0USef"
      }
    },
    {
      "cell_type": "markdown",
      "source": [
        "| CLASSE | DESCRIÇÃ0 | EXEMPLO |\n",
        "|---|---|---|\n",
        "|**Int**| Armazena números **inteiro**| 3, 100 ou -5 |\n",
        "|**float**| armazena números com ponto denominados flutuante, ou seja, números que possuem parte **fracionária** ou **reais**| 3.14, 100.0 ou -0.5|\n",
        "|**str**| Armazena strings, ou seja, um **texto** ou **sequências de caracteres**. As strings são geralmente usadas para armazenar texto e são **delimitadas por aspas simples ou duplas**| “Olá!”, ‘Alexandra’ ou ‘1234’|\n",
        "|**bool**| Armazena valores lógicos *verdadeiro* ou *falso*| True e False (a primeira letra tem que ser maiúscula)|\n"
      ],
      "metadata": {
        "id": "ZJZet6HM4LEq"
      }
    },
    {
      "cell_type": "markdown",
      "source": [
        "---\n",
        "\n",
        "*   ***Exemplo***\n",
        "\n"
      ],
      "metadata": {
        "id": "8_yI8svHa6qS"
      }
    },
    {
      "cell_type": "code",
      "source": [
        "i = 5\n",
        "type (i) # Para saber a classe de cada elemento, usamos a função type()"
      ],
      "metadata": {
        "colab": {
          "base_uri": "https://localhost:8080/"
        },
        "id": "u0-zcTALbi1O",
        "outputId": "729bf7d9-3ee2-4fee-da7f-ccb34e7ae560"
      },
      "execution_count": null,
      "outputs": [
        {
          "output_type": "execute_result",
          "data": {
            "text/plain": [
              "int"
            ]
          },
          "metadata": {},
          "execution_count": 1
        }
      ]
    },
    {
      "cell_type": "markdown",
      "source": [
        "⚠️ O Python está dizendo que **i** é uma variável de tipo `inteiro`."
      ],
      "metadata": {
        "id": "oXqD4uw0b9sc"
      }
    },
    {
      "cell_type": "code",
      "source": [
        "f = 20.13\n",
        "type (f)"
      ],
      "metadata": {
        "colab": {
          "base_uri": "https://localhost:8080/"
        },
        "id": "EAPcmdlZbzqR",
        "outputId": "5fab139c-326a-4b95-a42e-cff0ba5dc59e"
      },
      "execution_count": null,
      "outputs": [
        {
          "output_type": "execute_result",
          "data": {
            "text/plain": [
              "float"
            ]
          },
          "metadata": {},
          "execution_count": 2
        }
      ]
    },
    {
      "cell_type": "markdown",
      "source": [
        "⚠️ O Python está dizendo que **f** é uma variável de tipo `float` **(decimal)**."
      ],
      "metadata": {
        "id": "iudGc1JyciTe"
      }
    },
    {
      "cell_type": "code",
      "source": [
        "s = 'Alexandra'\n",
        "type (s)"
      ],
      "metadata": {
        "colab": {
          "base_uri": "https://localhost:8080/"
        },
        "id": "qKopaNRBchoF",
        "outputId": "52e1830f-ca5c-492f-da15-17b5968da740"
      },
      "execution_count": null,
      "outputs": [
        {
          "output_type": "execute_result",
          "data": {
            "text/plain": [
              "str"
            ]
          },
          "metadata": {},
          "execution_count": 3
        }
      ]
    },
    {
      "cell_type": "markdown",
      "source": [
        "⚠️ O Python está dizendo que **s** é uma variável de tipo `string` **(texto)**."
      ],
      "metadata": {
        "id": "b80ZUcFBc5z9"
      }
    },
    {
      "cell_type": "code",
      "source": [
        "b = False\n",
        "type (b)\n"
      ],
      "metadata": {
        "colab": {
          "base_uri": "https://localhost:8080/"
        },
        "id": "EnvekGV6cc5f",
        "outputId": "c3002454-f1ac-4c48-dd74-4df1d3943833"
      },
      "execution_count": null,
      "outputs": [
        {
          "output_type": "execute_result",
          "data": {
            "text/plain": [
              "bool"
            ]
          },
          "metadata": {},
          "execution_count": 4
        }
      ]
    },
    {
      "cell_type": "markdown",
      "source": [
        "⚠️ O Python está dizendo que **b** é uma variável de tipo `bool` **(lógico)**."
      ],
      "metadata": {
        "id": "BW0T8JS5dJXu"
      }
    },
    {
      "cell_type": "markdown",
      "source": [
        "---\n",
        "*Situação hipotética*\n",
        "\n",
        "\n",
        "* A equipe de dados pediu para eu criar uma ficha do aluno \"Monkey D. Luffy\".\n",
        "\n",
        "É preciso criar variáveis que armazenem os dados da ficha desse aluno. São eles:\n",
        "\n",
        "* **Nome:** Monkey D. Luffy\n",
        "* **Idade:** 15 anos\n",
        "* **Media do semestre:** 8,45\n",
        "* **Situaçao de aprovação:** Verdadeira (aprovado)\n",
        "\n",
        "Na célula abaixo, conseguimos criar esses valores.\n",
        "\n"
      ],
      "metadata": {
        "id": "NBGg3yyWdjUJ"
      }
    },
    {
      "cell_type": "code",
      "source": [
        "nome_aluno = 'Monkey D.Luffy'\n",
        "idade_aluno = 15\n",
        "media_aluno = 8.45\n",
        "situacao_aprovado = True\n",
        "# se usa underline para substituir o espaço e manter a variável única\n",
        "\n",
        "print (nome_aluno, idade_aluno, media_aluno, situacao_aprovado) #imprimir os resultados"
      ],
      "metadata": {
        "colab": {
          "base_uri": "https://localhost:8080/"
        },
        "id": "eTPF4E_Veijc",
        "outputId": "9e1a6599-5da3-4c5f-9d31-d275b9d3d8f7"
      },
      "execution_count": null,
      "outputs": [
        {
          "output_type": "stream",
          "name": "stdout",
          "text": [
            "Monkey D.Luffy 15 8.45 True\n"
          ]
        }
      ]
    },
    {
      "cell_type": "markdown",
      "source": [
        "## 2.3 Operações com valores numéricos\n",
        "\n",
        "Abaixo, uma tabela descrevendo a **função dos operadores** e sua **sintaxe de uso**, sendo **a** e **b** variáveis numéricas:"
      ],
      "metadata": {
        "id": "_zevrw88i-oN"
      }
    },
    {
      "cell_type": "markdown",
      "source": [
        "|DESCRIÇÃO | QUANTIDADE |\n",
        "|---|---|\n",
        "|Soma |  a + b |\n",
        "|Subtração | a - b|\n",
        "|Multiplicação | a * b |\n",
        "| Divisão com resultados real | a / b |\n",
        "| Divisão com resultado inteiro | a // b |\n",
        "| Potência | a ** b |\n",
        "| Resto de divisão (Módulo) | a % b |"
      ],
      "metadata": {
        "id": "rb6TVUfa3ArC"
      }
    },
    {
      "cell_type": "markdown",
      "source": [
        "---\n",
        "##### Calculadora com operadores"
      ],
      "metadata": {
        "id": "5Gmu9x6iKFFt"
      }
    },
    {
      "cell_type": "markdown",
      "source": [
        "*Questão 1*\n",
        "\n",
        "Crie um programa que solicite dois valores numéricos à pessoa usuária e imprima a soma dos dois valores."
      ],
      "metadata": {
        "id": "FvxGBUQoKFGW"
      }
    },
    {
      "cell_type": "code",
      "source": [
        "a = int (input('Valor a: '))\n",
        "b = int (input('Valor b: '))\n",
        "\n",
        "print(f'Resultado:{a+b}')"
      ],
      "metadata": {
        "colab": {
          "base_uri": "https://localhost:8080/"
        },
        "outputId": "16586406-06b3-4592-e1df-4ab7b058fb21",
        "id": "cnqhj2OHKFGX"
      },
      "execution_count": null,
      "outputs": [
        {
          "output_type": "stream",
          "name": "stdout",
          "text": [
            "Valor a: 5\n",
            "Valor b: 2\n",
            "Resultado: 7\n"
          ]
        }
      ]
    },
    {
      "cell_type": "markdown",
      "source": [
        "*Questão 2*\n",
        "\n",
        "Crie um programa que solicite três valores numéricos à pessoa usuária e imprima a soma dos três valores."
      ],
      "metadata": {
        "id": "TUgU5MMaKFGd"
      }
    },
    {
      "cell_type": "code",
      "source": [
        "a = int (input('Valor a: '))\n",
        "b = float (input('Valor b: '))\n",
        "c = int (input('Valor c: '))\n",
        "\n",
        "print(f'Resultado:{a+b+c}')"
      ],
      "metadata": {
        "colab": {
          "base_uri": "https://localhost:8080/"
        },
        "outputId": "351c4c83-283d-426b-a193-106fb02148f4",
        "id": "IOaw_8-ZKFGe"
      },
      "execution_count": null,
      "outputs": [
        {
          "output_type": "stream",
          "name": "stdout",
          "text": [
            "Valor a: 5\n",
            "Valor b: 7.5\n",
            "Valor c: 10\n",
            "Resultado: 22.5\n"
          ]
        }
      ]
    },
    {
      "cell_type": "markdown",
      "source": [
        "*Questão 3*\n",
        "\n",
        "Crie um programa que solicite dois valores numéricos à pessoa usuária e imprima a subtração do primeiro pelo o segundo valor."
      ],
      "metadata": {
        "id": "6xmFPHLkKFGe"
      }
    },
    {
      "cell_type": "code",
      "source": [
        "a = float (input ('Valor a: '))\n",
        "b = float (input ('Valor b: '))\n",
        "\n",
        "print(f'Resultado:{a-b}')"
      ],
      "metadata": {
        "colab": {
          "base_uri": "https://localhost:8080/"
        },
        "outputId": "bad2cf6c-db9b-432b-ba6b-9a36cdbf6ca5",
        "id": "Yd02kIyFKFGe"
      },
      "execution_count": null,
      "outputs": [
        {
          "output_type": "stream",
          "name": "stdout",
          "text": [
            "Valor a: 5.8\n",
            "Valor b: 2.3\n",
            "Resultado: 3.5\n"
          ]
        }
      ]
    },
    {
      "cell_type": "markdown",
      "source": [
        "*Questão 4*\n",
        "\n",
        "Crie um programa que solicite dois valores numéricos à pessoa usuária e imprima a multiplicação dos dois valores.\n"
      ],
      "metadata": {
        "id": "c4ykthuSKFGf"
      }
    },
    {
      "cell_type": "code",
      "source": [
        "a = float (input('Valor de a:'))\n",
        "b = int (input('Valor b: '))\n",
        "\n",
        "print(f'Resultado:{a*b}')"
      ],
      "metadata": {
        "colab": {
          "base_uri": "https://localhost:8080/"
        },
        "outputId": "13f6197a-df11-481d-b3a7-bb0079c2b545",
        "id": "QtjufVm5KFGf"
      },
      "execution_count": null,
      "outputs": [
        {
          "output_type": "stream",
          "name": "stdout",
          "text": [
            "Valor de a:5.12\n",
            "Valor b: 5\n",
            "Resultado: 25.6\n"
          ]
        }
      ]
    },
    {
      "cell_type": "markdown",
      "source": [
        "*Questão 5*\n",
        "\n",
        "Crie um programa que solicite dois valores numéricos, um numerador e um denominador, e realize a divisão entre os dois valores. Deixe claro que o valor do denominador não pode ser `0`.\n"
      ],
      "metadata": {
        "id": "1Hjplfx-KFGf"
      }
    },
    {
      "cell_type": "code",
      "source": [
        "numerador = int (input('Valor do numerador: '))\n",
        "denominador = int (input('Valor denominador (diferente de zero) : '))\n",
        "\n",
        "print(f'Resultado:{numerador/denominador}')"
      ],
      "metadata": {
        "colab": {
          "base_uri": "https://localhost:8080/"
        },
        "outputId": "d22e42a0-642a-493a-8134-e48f10df164f",
        "id": "16-EJfZKKFGg"
      },
      "execution_count": null,
      "outputs": [
        {
          "output_type": "stream",
          "name": "stdout",
          "text": [
            "Valor do numerador: 6\n",
            "Valor denominador: (Diferente de zero) 2\n",
            "Resultado: 3.0\n"
          ]
        }
      ]
    },
    {
      "cell_type": "markdown",
      "source": [
        "*Questão 6*\n",
        "\n",
        "Crie um programa que solicite dois valores numéricos, um operador e uma potência, e realize a exponenciação entre esses dois valores.\n"
      ],
      "metadata": {
        "id": "zDqa-jvEKFGg"
      }
    },
    {
      "cell_type": "code",
      "source": [
        "operador = int (input('Valor operador: '))\n",
        "potencia = int (input('Valor da potência: '))\n",
        "\n",
        "print(f'Resultado:{operador**potencia}')"
      ],
      "metadata": {
        "colab": {
          "base_uri": "https://localhost:8080/"
        },
        "outputId": "7dc574ce-df2f-4333-ad36-2f0b3aaa46c9",
        "id": "u7bUwIwOKFGh"
      },
      "execution_count": null,
      "outputs": [
        {
          "output_type": "stream",
          "name": "stdout",
          "text": [
            "Valor operador: 2\n",
            "Valor da potência: 3\n",
            "Resultado:8\n"
          ]
        }
      ]
    },
    {
      "cell_type": "markdown",
      "source": [
        "*Questão 7*\n",
        "\n",
        "Crie um programa que solicite dois valores numéricos, um numerador e um denominador e realize a divisão inteira entre os dois valores. Deixe claro que o valor do denominador não pode ser `0`."
      ],
      "metadata": {
        "id": "-ZCW5IeFKFGh"
      }
    },
    {
      "cell_type": "code",
      "source": [
        "numerador = int (input(\"Valor numerador: \"))\n",
        "denominador = int (input(\"Valor denominador (diferente de zero): \"))\n",
        "\n",
        "print(f'Resultado:{numerador//denominador}')"
      ],
      "metadata": {
        "colab": {
          "base_uri": "https://localhost:8080/"
        },
        "outputId": "256d2319-37ad-491a-9324-9d91fb9ce056",
        "id": "Fyn6njxVKFGh"
      },
      "execution_count": null,
      "outputs": [
        {
          "output_type": "stream",
          "name": "stdout",
          "text": [
            "Valor numerador: 7\n",
            "Valor denominador:(diferente de zero) 9\n",
            "Resultado:0\n"
          ]
        }
      ]
    },
    {
      "cell_type": "markdown",
      "source": [
        "*Questão 8*\n",
        "\n",
        "Crie um programa que solicite dois valores numéricos, um numerador e um denominador, e retorne o resto da divisão entre os dois valores. Deixe claro que o valor do denominador não pode ser `0`."
      ],
      "metadata": {
        "id": "D5iwEswNKFGi"
      }
    },
    {
      "cell_type": "code",
      "source": [
        "numerador = int (input('Valor numerador: '))\n",
        "denominador = int (input('Valor numerador (diferente de zero): '))\n",
        "\n",
        "print(f'Resultado:{numerador%denominador}')"
      ],
      "metadata": {
        "colab": {
          "base_uri": "https://localhost:8080/"
        },
        "outputId": "6e861f96-9e6d-44fe-b662-1e8029e88d33",
        "id": "VZmcTIemKFGi"
      },
      "execution_count": null,
      "outputs": [
        {
          "output_type": "stream",
          "name": "stdout",
          "text": [
            "Valor numerador: 7\n",
            "Valor numerador (diferente de zero): 9\n",
            "Resultado:7\n"
          ]
        }
      ]
    },
    {
      "cell_type": "markdown",
      "source": [
        "*Questão 9*\n",
        "\n",
        "Crie um código que solicita 3 notas de um estudante e imprima a média das notas."
      ],
      "metadata": {
        "id": "81pgp01CKFGj"
      }
    },
    {
      "cell_type": "code",
      "source": [
        "media_1 = float (input(\"Nota 1: \"))\n",
        "media_2 = float (input(\"Nota 2: \"))\n",
        "media_3 = float (input(\"Nota 3: \"))\n",
        "\n",
        "print(f'Nota final: {(media_1 + media_2 + media_3)/3}')"
      ],
      "metadata": {
        "colab": {
          "base_uri": "https://localhost:8080/"
        },
        "outputId": "6b81ad83-690f-4b22-f961-3b2e1d00d2dc",
        "id": "InAjKVYqKFGj"
      },
      "execution_count": null,
      "outputs": [
        {
          "output_type": "stream",
          "name": "stdout",
          "text": [
            "Nota 1: 5.0\n",
            "Nota 2: 7.5\n",
            "Nota 3: 10.0\n",
            "Nota final: 7.5\n"
          ]
        }
      ]
    },
    {
      "cell_type": "markdown",
      "source": [
        "*Questão 10*\n",
        "\n",
        "Crie um código que calcule e imprima a média ponderada dos números 5, 12, 20 e 15 com pesos respectivamente iguais a 1, 2, 3 e 4."
      ],
      "metadata": {
        "id": "DCdldyLtKFGj"
      }
    },
    {
      "cell_type": "code",
      "source": [
        "media_ponderada = (5*1 + 12*2 + 20*3 + 15*4) / (1+2+3+4)\n",
        "print(f'Média {media_ponderada}.')"
      ],
      "metadata": {
        "colab": {
          "base_uri": "https://localhost:8080/"
        },
        "outputId": "be39de24-ee2e-4cfb-d9a6-98f485fd7ec9",
        "id": "t5rHcgPiKFGj"
      },
      "execution_count": null,
      "outputs": [
        {
          "output_type": "stream",
          "name": "stdout",
          "text": [
            "Média 14.9.\n"
          ]
        }
      ]
    },
    {
      "cell_type": "markdown",
      "source": [
        "---\n",
        "Além deles, existem também **funções** que podem ser aplicadas a valores numéricos para executar outros cálculos:\n"
      ],
      "metadata": {
        "id": "vNlW8Lqnk_xz"
      }
    },
    {
      "cell_type": "markdown",
      "source": [
        " * **Função** `abs`: retorna o valor absoluto da variável, ou seja, seu valor positivo."
      ],
      "metadata": {
        "id": "Z5GIvYVVl0Mg"
      }
    },
    {
      "cell_type": "code",
      "source": [
        "#Sintaxe: abs(variavel)\n",
        "abs (-3)"
      ],
      "metadata": {
        "colab": {
          "base_uri": "https://localhost:8080/"
        },
        "id": "Dob41g6CmGSR",
        "outputId": "939d5ae1-51d3-4a4c-918b-f22a31ce0efe"
      },
      "execution_count": null,
      "outputs": [
        {
          "output_type": "execute_result",
          "data": {
            "text/plain": [
              "3"
            ]
          },
          "metadata": {},
          "execution_count": 6
        }
      ]
    },
    {
      "cell_type": "markdown",
      "source": [
        "* **Função** `round`: retorna o número arrendondado com uma precisão definida *n* casas decimais após o ponto decimal. Se não especificarmos as casas, será retornado o inteiro mais as casas, será retornado o inteiro mais próximo do ponto flutuante."
      ],
      "metadata": {
        "id": "UeNltpjWmYOE"
      }
    },
    {
      "cell_type": "code",
      "source": [
        "#Sintaxe: round(variavel, numero_de_casas)\n",
        "round(14.3213,2)"
      ],
      "metadata": {
        "colab": {
          "base_uri": "https://localhost:8080/"
        },
        "id": "9fB-mxH2mRY9",
        "outputId": "ccf194af-fb6a-46d2-dd8c-88a19689b637"
      },
      "execution_count": null,
      "outputs": [
        {
          "output_type": "execute_result",
          "data": {
            "text/plain": [
              "14.32"
            ]
          },
          "metadata": {},
          "execution_count": 7
        }
      ]
    },
    {
      "cell_type": "markdown",
      "source": [
        "* **Função** `pow`: retorna a potenciação de uma base por seu expoente, funciona do mesmo modo que o operador **."
      ],
      "metadata": {
        "id": "Qc0j_d_jnEnl"
      }
    },
    {
      "cell_type": "code",
      "source": [
        "#Sintaxe: pow(base, expoente)\n",
        "pow(3,2)"
      ],
      "metadata": {
        "colab": {
          "base_uri": "https://localhost:8080/"
        },
        "id": "LujZHLsonCoj",
        "outputId": "4b6ead2f-c5e3-4ef0-d4b1-f7ee82774e07"
      },
      "execution_count": null,
      "outputs": [
        {
          "output_type": "execute_result",
          "data": {
            "text/plain": [
              "9"
            ]
          },
          "metadata": {},
          "execution_count": 8
        }
      ]
    },
    {
      "cell_type": "markdown",
      "source": [
        "## 2.2.3 Variáveis numéricas\n",
        "\n",
        "Entre os tipos de dados numéricos vamos nos focar no tipo `inteiro` e `float`.\n",
        "\n",
        "Temos uma tabela de informação de empregos quanto ao cargo, quantidade de pessoas empregadas e o salário correspondente:\n",
        "\n",
        "|Cargo | Quantidade | Salário|\n",
        "|---|---|---|\n",
        "|Segurança | 5 | 3000 |\n",
        "|Docente | 16| 6000|\n",
        "|Diretoria| 1 |12500|\n",
        "\n",
        "Precisamos trabalhar com esses dados fornecendo:\n",
        "\n",
        "- A quantidade total de empregados;\n",
        "- A diferença entre o salário mais baixo e mais alto; e\n",
        "- A média ponderada da faixa salarial da escola."
      ],
      "metadata": {
        "id": "vogbdJlHohlx"
      }
    },
    {
      "cell_type": "code",
      "source": [
        "q_seguranca = 5\n",
        "s_seguranca = 3000\n",
        "\n",
        "q_docente = 16\n",
        "s_docente = 6000\n",
        "\n",
        "q_diretoria = 1\n",
        "s_diretoria = 12500"
      ],
      "metadata": {
        "id": "HJlK-LGXo93v"
      },
      "execution_count": null,
      "outputs": []
    },
    {
      "cell_type": "code",
      "source": [
        "# Total de empregados\n",
        "total_empregados = q_seguranca + q_diretoria + q_docente\n",
        "total_empregados"
      ],
      "metadata": {
        "colab": {
          "base_uri": "https://localhost:8080/"
        },
        "id": "mZf6xdSTo--S",
        "outputId": "72892bbb-16e2-44f0-8b7c-5b2e38a8844c"
      },
      "execution_count": null,
      "outputs": [
        {
          "output_type": "execute_result",
          "data": {
            "text/plain": [
              "22"
            ]
          },
          "metadata": {},
          "execution_count": 3
        }
      ]
    },
    {
      "cell_type": "code",
      "source": [
        "# A diferença entre o salário mais baixo e mais alto\n",
        "diferenca_salario = s_diretoria - s_seguranca\n",
        "diferenca_salario"
      ],
      "metadata": {
        "colab": {
          "base_uri": "https://localhost:8080/"
        },
        "id": "u-6_q12Bc_LF",
        "outputId": "7c61c552-3d7c-4392-edd4-52f20056da5d"
      },
      "execution_count": null,
      "outputs": [
        {
          "output_type": "execute_result",
          "data": {
            "text/plain": [
              "9500"
            ]
          },
          "metadata": {},
          "execution_count": 5
        }
      ]
    },
    {
      "cell_type": "code",
      "source": [
        "#média ponderada da faixa salarial\n",
        "media = (q_seguranca*s_seguranca + q_docente*s_docente + q_diretoria*s_diretoria) / (total_empregados)\n",
        "media"
      ],
      "metadata": {
        "colab": {
          "base_uri": "https://localhost:8080/"
        },
        "id": "LcEiwY1ndU5G",
        "outputId": "da1ea2e7-41d1-4439-e003-4dd991a4c77f"
      },
      "execution_count": null,
      "outputs": [
        {
          "output_type": "execute_result",
          "data": {
            "text/plain": [
              "5613.636363636364"
            ]
          },
          "metadata": {},
          "execution_count": 7
        }
      ]
    },
    {
      "cell_type": "code",
      "source": [
        "round(5613.636363636364,3)"
      ],
      "metadata": {
        "colab": {
          "base_uri": "https://localhost:8080/"
        },
        "id": "0SQzR2s7deUD",
        "outputId": "ce88bd81-fd42-4589-a817-124879025f30"
      },
      "execution_count": null,
      "outputs": [
        {
          "output_type": "execute_result",
          "data": {
            "text/plain": [
              "5613.636"
            ]
          },
          "metadata": {},
          "execution_count": 8
        }
      ]
    },
    {
      "cell_type": "markdown",
      "source": [
        "## 2.4 Manipulação de strings\n",
        "\n",
        "As strings são usadas para armazenar valores de texto.\n",
        "\n",
        "Assim como nas variáveis numéricas, é possível manipular as strings a partir de **operações**, **funções** e até **métodos**. Por serem imutáveis, **sua manipulação resulta em cópias**, ou seja, são criadas novas strings a partir de uma original que foi manipulada."
      ],
      "metadata": {
        "id": "peNb-oWmh1D2"
      }
    },
    {
      "cell_type": "markdown",
      "source": [
        "### → Operadores"
      ],
      "metadata": {
        "id": "J1gt2D2Wn67f"
      }
    },
    {
      "cell_type": "markdown",
      "source": [
        "* O **operador de soma**, permite unir duas ou mais strings e gerar uma tring única"
      ],
      "metadata": {
        "id": "pIxm4ZCvmDAP"
      }
    },
    {
      "cell_type": "code",
      "source": [
        "cor = 'verde limão '\n",
        "varias = 'várias cores'\n",
        "frase = cor+varias\n",
        "print (frase)\n"
      ],
      "metadata": {
        "colab": {
          "base_uri": "https://localhost:8080/"
        },
        "id": "7-DjrH4Dlwp1",
        "outputId": "725ba553-76a7-4516-bc49-e9d5383de642"
      },
      "execution_count": null,
      "outputs": [
        {
          "output_type": "stream",
          "name": "stdout",
          "text": [
            "verde limão várias cores\n"
          ]
        }
      ]
    },
    {
      "cell_type": "markdown",
      "source": [
        "* O **operador de multiplicação** vai repetir a string em uma quantidade de vezes iguais à especificada."
      ],
      "metadata": {
        "id": "Wl3QRFD7m78c"
      }
    },
    {
      "cell_type": "code",
      "source": [
        "parte_1 = 'Não posso ser seu, '\n",
        "parte_2 = 'oh ' * 3\n",
        "palavra = parte_1 + parte_2\n",
        "print (palavra)"
      ],
      "metadata": {
        "colab": {
          "base_uri": "https://localhost:8080/"
        },
        "id": "2GL_51ERmB1y",
        "outputId": "1a659fb7-0c2e-4e0b-ce92-5aaf7f4cd23b"
      },
      "execution_count": null,
      "outputs": [
        {
          "output_type": "stream",
          "name": "stdout",
          "text": [
            "Não posso ser seu, oh oh oh \n"
          ]
        }
      ]
    },
    {
      "cell_type": "markdown",
      "source": [
        "### → Função\n"
      ],
      "metadata": {
        "id": "C1NYsRaQoJMe"
      }
    },
    {
      "cell_type": "markdown",
      "source": [
        "* A função `len ()` a quantidade de caracteres que a frase tem. (também conta o espaço entre as palavras)\n"
      ],
      "metadata": {
        "id": "WYPLcqsOoQ2-"
      }
    },
    {
      "cell_type": "code",
      "source": [
        "frase = 'Hoje eu acordei tão cedo'\n",
        "print (len(frase))"
      ],
      "metadata": {
        "colab": {
          "base_uri": "https://localhost:8080/"
        },
        "id": "DURD4wNonrmu",
        "outputId": "72b738ac-dd22-43ce-c56b-5926c844581a"
      },
      "execution_count": null,
      "outputs": [
        {
          "output_type": "stream",
          "name": "stdout",
          "text": [
            "23\n"
          ]
        }
      ]
    },
    {
      "cell_type": "markdown",
      "source": [
        "* A função `str ()` retorna a a representação de uma string para uma entrada.\n"
      ],
      "metadata": {
        "id": "HjxN3oa9pNFe"
      }
    },
    {
      "cell_type": "code",
      "source": [
        "ano = str (2013)\n",
        "ano"
      ],
      "metadata": {
        "colab": {
          "base_uri": "https://localhost:8080/",
          "height": 35
        },
        "id": "Nzdkqn8toqrZ",
        "outputId": "a307c37e-3622-4f0d-bbd1-75f647e31030"
      },
      "execution_count": null,
      "outputs": [
        {
          "output_type": "execute_result",
          "data": {
            "text/plain": [
              "'2013'"
            ],
            "application/vnd.google.colaboratory.intrinsic+json": {
              "type": "string"
            }
          },
          "metadata": {},
          "execution_count": 22
        }
      ]
    },
    {
      "cell_type": "markdown",
      "source": [
        "### → Métodos\n",
        "\n",
        "📢 **Métodos** são funções que são associadas a objetos de uma string.\n",
        "\n",
        "Métodos podem ser executados ao definirmos um objeto seguindo a seguinte\n",
        "estrutura: `objeto.metodo()`\n",
        "\n",
        "---\n"
      ],
      "metadata": {
        "id": "LCA2Fi6kplqE"
      }
    },
    {
      "cell_type": "markdown",
      "source": [
        "*Situação hipotética*\n",
        "\n",
        " Recebi uma variável com o nome de uma professora da escola para inserir no cadastro. No entanto, precisamos tratar esse texto antes de inserir no sistema."
      ],
      "metadata": {
        "id": "TrunTYyewZaQ"
      }
    },
    {
      "cell_type": "code",
      "source": [
        "professor = ' Ales pereira Lima '"
      ],
      "metadata": {
        "id": "GeTSgZaGwRLB"
      },
      "execution_count": null,
      "outputs": []
    },
    {
      "cell_type": "code",
      "source": [
        "professor = professor.strip().replace('s','x').upper()\n",
        "professor"
      ],
      "metadata": {
        "colab": {
          "base_uri": "https://localhost:8080/",
          "height": 35
        },
        "id": "9ZJO2mYVxKri",
        "outputId": "2f0ef076-f235-4fc9-d9a7-dc83f90cdfef"
      },
      "execution_count": null,
      "outputs": [
        {
          "output_type": "execute_result",
          "data": {
            "text/plain": [
              "'ALEX PEREIRA LIMA'"
            ],
            "application/vnd.google.colaboratory.intrinsic+json": {
              "type": "string"
            }
          },
          "metadata": {},
          "execution_count": 55
        }
      ]
    },
    {
      "cell_type": "markdown",
      "source": [
        "Os métodos que utilizamos para tratar esses dados, foram:\n",
        "\n",
        "* `strip ()` → remove espaços extras no início e fim do texto.\n",
        "\n",
        "* `replace ('a', 'b')` → troca letras ou trechos de texto.\n",
        "\n",
        "* `upper ( )`→ transforma todas as letras em maiúsculas.\n",
        "\n"
      ],
      "metadata": {
        "id": "ShuR1pJjnWtL"
      }
    },
    {
      "cell_type": "markdown",
      "source": [
        "## 3. Estruturas condicionais\n"
      ],
      "metadata": {
        "id": "qWxS3Bv916Hr"
      }
    },
    {
      "cell_type": "markdown",
      "source": [
        "### → `IF` e `ELSE`\n",
        "\n",
        "O `if` e `else` são duas estruturas condicionais. O `if` executará o bloco de comando caso a condição colocada for **verdadeira**. O `else` é um caso  em que a condicional de `if` seja **falsa**."
      ],
      "metadata": {
        "id": "qXZqg9aYEhAh"
      }
    },
    {
      "cell_type": "markdown",
      "source": [
        "O `if` é uma palavra-chave em Python que significa \"se\". Ele é usado para formar uma estrutura condicional, que permite que você verifique se uma determinada condição é verdadeira ou falsa e, em seguida, execute um bloco de código específico dependendo do resultado da verificação. A sintaxe para usar o `if` é:\n",
        "\n",
        "\n",
        "\n",
        "```\n",
        "if condição:\n",
        "    # faça algo\n",
        "```\n",
        "\n"
      ],
      "metadata": {
        "id": "EIhlqHXd2Gil"
      }
    },
    {
      "cell_type": "code",
      "source": [
        "if 2<7: #se eu trocar o simbolo o código não rodara, porque a condição será falsa\n",
        "  print('Condição verdadeira')"
      ],
      "metadata": {
        "id": "tKtzkTXW4j73",
        "colab": {
          "base_uri": "https://localhost:8080/"
        },
        "outputId": "c8b2c68f-293e-4b81-dbd5-0049c221e808"
      },
      "execution_count": null,
      "outputs": [
        {
          "output_type": "stream",
          "name": "stdout",
          "text": [
            "Condição verdadeira\n"
          ]
        }
      ]
    },
    {
      "cell_type": "markdown",
      "source": [
        "Já o `else` em Python é usada em conjunto com a palavra-chave `if` para formar uma estrutura condicional. A sintaxe para usar o `else` é:\n",
        "\n",
        "```\n",
        "if condição:\n",
        "  # código caso seja verdade\n",
        "else:\n",
        "  # código caso seja falso\n",
        "```\n",
        "\n",
        "O `else` é executado quando a condição verificada pelo `if` é avaliada como `False`."
      ],
      "metadata": {
        "id": "27RW2v_sIKct"
      }
    },
    {
      "cell_type": "markdown",
      "source": [
        "---\n",
        "*Situação hipótetica:*\n",
        "\n",
        "Receberemos a média de estudantes e precisamos de um algoritmo que execute a análise e decida se esse estudante está **Aprovado** ou **Reprovado**, mostrando uma mensagem do resultado. **Para ser aprovado, a média precisa ser igual ou superior à 6.0.**"
      ],
      "metadata": {
        "id": "BqORg85XX-Nl"
      }
    },
    {
      "cell_type": "code",
      "source": [
        "media = float(input('Digite a média: '))\n",
        "if media >= 6.0:\n",
        "  print('Aprovado')\n",
        "else:\n",
        "  print('Reprovado')"
      ],
      "metadata": {
        "id": "yaR8bt1P4iCv",
        "colab": {
          "base_uri": "https://localhost:8080/"
        },
        "outputId": "d57a953e-84e1-4b1b-b23d-2b174606f18c"
      },
      "execution_count": null,
      "outputs": [
        {
          "output_type": "stream",
          "name": "stdout",
          "text": [
            "Digite a média: 4.0\n",
            "Reprovado\n"
          ]
        }
      ]
    },
    {
      "cell_type": "markdown",
      "source": [
        "Agora a instituição de ensino lançou uma nota oficial que pessoas que tenham   **média entre 4.0 e 6.0** podem fazer os cursos de **Recuperação** nas férias para poder recuperar a nota.\n",
        "\n",
        "Então podemos agora fazer um **conjunto de** `if`s para que possamos estruturar essa nova condição."
      ],
      "metadata": {
        "id": "bD9O17HB6LUo"
      }
    },
    {
      "cell_type": "code",
      "source": [
        "media = float(input('Digite a média: '))\n",
        "if media >= 6.0:\n",
        "  print('Aprovado')\n",
        "if 6.0 > media >= 4.0:\n",
        "  print ('Recuperação')\n",
        "if media < 4.0:\n",
        "  print('Reprovado')"
      ],
      "metadata": {
        "id": "Rkde8bai4gvq",
        "colab": {
          "base_uri": "https://localhost:8080/"
        },
        "outputId": "4d503a26-2f54-47db-a516-5e3a48504390"
      },
      "execution_count": null,
      "outputs": [
        {
          "output_type": "stream",
          "name": "stdout",
          "text": [
            "Digite a média: 5.0\n",
            "Recuperação\n"
          ]
        }
      ]
    },
    {
      "cell_type": "markdown",
      "source": [
        " Em casos com **3 situações** como esse precisamos definir bem nossas condições. Pois foi feita uma construção com `else` no final, ele irá considerar apenas a alguma condicional para ser o caso **falso** podendo resultar em duas (ou mais) execuções.\n",
        "\n",
        "Por exemplo:"
      ],
      "metadata": {
        "id": "D5e2mByjvycO"
      }
    },
    {
      "cell_type": "code",
      "source": [
        "media = float(input('Digite a média: '))\n",
        "if media >= 6.0:\n",
        "  print('Aprovado(a)') #não vai considerar essa\n",
        "if 6.0 > media >= 4.0:\n",
        "  print('Recuperação') #vai considerar essa falsa\n",
        "else:\n",
        "  print('Reprovado(a)') #vai imprimir esse resultado como verdadeiro\n"
      ],
      "metadata": {
        "id": "tKvjzq414fAN",
        "colab": {
          "base_uri": "https://localhost:8080/"
        },
        "outputId": "ff5e9f2f-6b4b-4d7b-a24b-1b47b7fb9c88"
      },
      "execution_count": null,
      "outputs": [
        {
          "output_type": "stream",
          "name": "stdout",
          "text": [
            "Digite a média: 8.5\n",
            "Aprovado(a)\n",
            "Reprovado(a)\n"
          ]
        }
      ]
    },
    {
      "cell_type": "markdown",
      "source": [
        "### → `ELIF`\n",
        "\n",
        "O `elif` é uma palavra-chave em Python que significa \"senão, se\" e pode ser considerado uma união do `else` com um `if`. Ela é usada em conjunto com a palavra-chave `if` para formar uma estrutura condicional encadeada.\n",
        "\n"
      ],
      "metadata": {
        "id": "04T5g-7h4zWx"
      }
    },
    {
      "cell_type": "markdown",
      "source": [
        "A sintaxe para usar o `elif` é:\n",
        "\n",
        "```\n",
        "if condição1:\n",
        "    # faça algo\n",
        "elif condição2:\n",
        "    # faça outra coisa\n",
        "elif condição3:\n",
        "    # faça mais alguma coisa\n",
        "else:\n",
        "    # faça algo diferente\n",
        "```\n",
        "\n",
        "O `elif` permite que você verifique várias condições de forma encadeada, economizando espaço em seu código. Se a primeira condição for avaliada como `False`, o interpretador Python avaliará a próxima condição no `elif`. Isso continuará até que uma condição seja avaliada como `True` ou até que o `else` seja atingido. Se nenhuma das condições forem avaliadas como `True`, a execução do código do `else` será iniciada."
      ],
      "metadata": {
        "id": "rNBHr5mm1Lm6"
      }
    },
    {
      "cell_type": "markdown",
      "source": [
        "Vamos usar o mesmo caso anterior:"
      ],
      "metadata": {
        "id": "MVoykFbB4bd4"
      }
    },
    {
      "cell_type": "code",
      "source": [
        "media = float(input('Digite a média: '))\n",
        "if media >= 6.0:\n",
        "  print('Aprovado(a)') #não vai considerar essa\n",
        "elif 6.0 > media >= 4.0:\n",
        "  print('Recuperação') #vai considerar essa falsa\n",
        "else:\n",
        "  print('Reprovado(a)') #vai imprimir esse resultado como verdadeiro"
      ],
      "metadata": {
        "id": "UJCHKoX54dc2",
        "colab": {
          "base_uri": "https://localhost:8080/"
        },
        "outputId": "933e7f63-f40d-421c-9526-441b1621dae2"
      },
      "execution_count": null,
      "outputs": [
        {
          "output_type": "stream",
          "name": "stdout",
          "text": [
            "Digite a média: 5.0\n",
            "Recuperação\n"
          ]
        }
      ]
    },
    {
      "cell_type": "markdown",
      "source": [
        "# Operadores"
      ],
      "metadata": {
        "id": "Zx-QJsPTthB0"
      }
    },
    {
      "cell_type": "markdown",
      "source": [
        "## → Operadores Relacionais\n",
        "\n",
        "| Operadores | Nome | Exemplo | Resultado esperado |\n",
        "|---|---|---|---|\n",
        "|`>`| Maior que | 5 > 3 | verdadeiro se o primeiro valor fpr maior |\n",
        "|`<`| Menor que | 2 < 4 | verdadeiro se o primeiro valor for menos |\n",
        "|`>=`| Maior ou igual a| 7 >= | verdadeiro se for maior ou igual |\n",
        "| `<=`| Menor ou igual a| 6 <= 6 |  verdadeiro se for manor ou igual |\n",
        "| `==` | igual a | 10 == 10 | verdadeiro se forem iguais |\n",
        "| `!=` | Diferente de | 8 != 9 | Verdadeira se forem diferentes |\n",
        "\n",
        "⚠️ **Analogias do Crocodilo:**\n",
        "\n",
        "O crocodilo \"come\" o número maior.\n",
        "**Para 3 < 5:** o crocodilo abre a boca para o 5 (verdadeiro, pois 3 é menor).\n",
        "**Para 7 > 4:** o crocodilo abre a boca para o 7 (verdadeiro, pois 7 é maior).\n",
        "\n",
        "**Lembre-se:** o símbolo < aponta para o menor e > aponta para o maior!"
      ],
      "metadata": {
        "id": "CMFlL17YukB7"
      }
    },
    {
      "cell_type": "markdown",
      "source": [
        "## → Operadores de atribuição\n",
        "\n",
        "**Operadores de atribuição** permitem atribuir um dado a uma variável.\n",
        "\n",
        "| Sintaxe do operador| Descrição |\n",
        "|---|---|\n",
        "| a = b | Atribui o valor de *b* em *a* |\n",
        "| a += b | Soma o valor de *b* na variável *a* |\n",
        "| a -= b | Subtrai o valor de *b* na variável *a* |\n",
        "| a *= b  |Multiplica o valor de *b* por *a* |\n",
        "| a /= b | Divide o valor de *b* por *a* |\n",
        "| a //= b | Realiza divisão inteira da variável *b* por *a* |\n",
        "| a %= b | O resto da divisão de *b* por a é atribuído à *a* |"
      ],
      "metadata": {
        "id": "bCEcyUU1kZQJ"
      }
    },
    {
      "cell_type": "markdown",
      "source": [
        "## → Operadores Lógicos"
      ],
      "metadata": {
        "id": "0JjyX0WI0Ih0"
      }
    },
    {
      "cell_type": "markdown",
      "source": [
        "### →  `AND`, `OR`, `NOT`\n",
        "\n",
        "Os operadores lógicos `and`, `or` e `not` são usados para combinar expressões lógicas em Python. Eles são usados frequentemente em conjunto com o `if` para criar estruturas condicionais mais complexas.\n"
      ],
      "metadata": {
        "id": "GFIZnRWXGPWO"
      }
    },
    {
      "cell_type": "markdown",
      "source": [
        "- `AND` é usado para verificar se duas condições são verdadeiras. A expressão lógica¹ `x and y` é avaliada como `True` apenas se **ambas as condições `x` e `y` forem verdadeiras**, e como `False` caso contrário.\n",
        "\n",
        "- `OR` é usado para verificar se pelo menos uma das condições é verdadeira. A expressão lógica `x or y` é avaliada como `True` **se pelo menos uma das condições `x` ou `y` for verdadeira**, e como `False` se ambas forem falsas.\n",
        "\n",
        "- `NOT` é usado para **negar uma condição**. A expressão lógica not `x` é avaliada como `True` se a condição `x`  for `False`, e como `False` se a condição `x` for verdadeira.\n",
        "\n",
        "¹ Uma expressão lógica é uma declaração que pode ser avaliada como verdadeira ou falsa. Ela é composta por operandos lógicos² e operadores lógicos³, que são usados ​​para combinar várias expressões lógicas em uma única expressão.\n",
        "\n",
        "² Os operandos lógicos são os elementos que são comparados ou avaliados em uma expressão lógica. Eles são geralmente valores verdadeiros ou falsos, mas também podem ser expressões lógicas mais complexas. Em Python, os operandos lógicos são os valores `True` e `False`.\n",
        "\n",
        "³ Os operadores lógicos são os símbolos ou palavras-chave que são usados ​​para combinar várias expressões lógicas em uma única expressão. Em Python, os operadores lógicos são `and`, `or` e `not`, bem como as palavras-chave `if`, `elif` e `else`."
      ],
      "metadata": {
        "id": "Z_dgAoHXJbzB"
      }
    },
    {
      "cell_type": "code",
      "source": [
        "t1 = t2 = True\n",
        "f1 = f2 = False"
      ],
      "metadata": {
        "id": "Fs_qb0dLOXsj"
      },
      "execution_count": null,
      "outputs": []
    },
    {
      "cell_type": "code",
      "source": [
        "if t1 and f2:\n",
        "  print('expressão verdadeira') # pra ser verdadeiro a condição tem que ser t1 and t2\n",
        "else:\n",
        "  print('expressão falsa')"
      ],
      "metadata": {
        "id": "kL4QVdlZ4O43",
        "colab": {
          "base_uri": "https://localhost:8080/"
        },
        "outputId": "721660a5-936c-45d7-8a53-02efc990ae6f"
      },
      "execution_count": null,
      "outputs": [
        {
          "output_type": "stream",
          "name": "stdout",
          "text": [
            "expressão falsa\n"
          ]
        }
      ]
    },
    {
      "cell_type": "markdown",
      "source": [
        "⚠️ Em todas as outras modalidades, o resultado também será **falso**, porque o `and` só retorna verdadeiro quando há duas entradas verdadeiras."
      ],
      "metadata": {
        "id": "Y_fTlaCQ5qGN"
      }
    },
    {
      "cell_type": "code",
      "source": [
        "if f1 or t2 :\n",
        "  print('expressão verdadeira')\n",
        "else:\n",
        "  print('expressão falsa') #pra ser falsa a condição deveria ser f1 or f2"
      ],
      "metadata": {
        "id": "JmQYjvsz4Pw5",
        "colab": {
          "base_uri": "https://localhost:8080/"
        },
        "outputId": "d8ac931d-ddc8-4c94-b0e0-72bba319fe9c"
      },
      "execution_count": null,
      "outputs": [
        {
          "output_type": "stream",
          "name": "stdout",
          "text": [
            "expressão verdadeira\n"
          ]
        }
      ]
    },
    {
      "cell_type": "markdown",
      "source": [
        "⚠️ A condição **or** só será dada como **falsa** apenas quando as duas entradas forem falsas. No caso de uma ou duas condições verdadeiras, ela também será dada como verdadeira.\n",
        "\n"
      ],
      "metadata": {
        "id": "sREN9H1b6YiR"
      }
    },
    {
      "cell_type": "code",
      "source": [
        "if not t1:\n",
        "  print('expressão verdadeira')\n",
        "else:\n",
        "  print('expressão falsa')"
      ],
      "metadata": {
        "id": "WHfJ-ZLM4Q3k",
        "colab": {
          "base_uri": "https://localhost:8080/"
        },
        "outputId": "dfa01b6c-8f02-45ac-a5e6-10d69d4eb9e4"
      },
      "execution_count": null,
      "outputs": [
        {
          "output_type": "stream",
          "name": "stdout",
          "text": [
            "expressão falsa\n"
          ]
        }
      ]
    },
    {
      "cell_type": "markdown",
      "source": [
        "⚠️ O operador **not** inverte o resultado booleano. Um True se transformará em False."
      ],
      "metadata": {
        "id": "NegjSMhW7cZ5"
      }
    },
    {
      "cell_type": "markdown",
      "source": [
        "### → `IN`\n",
        "\n",
        "É usado para verificar se um elemento está presente em uma lista, tupla ou outra variável de conjunto. A expressão `x in y` é avaliada como `True` se o elemento `x` estiver presente na variável de conjunto `y`, e como `False` caso contrário."
      ],
      "metadata": {
        "id": "w7EXG1dhWtja"
      }
    },
    {
      "cell_type": "markdown",
      "source": [
        "Podemos verificar isso com variáveis de texto.\n",
        "\n",
        "---\n",
        "\n",
        "*Situação hipótetica:*\n",
        "\n",
        "Na escola foi passada uma lista com nomes de estudantes que foram aprovados por média no semestre, mas é preciso verificar se alguns nomes estão nessa lista para verificar se os dados estão corretos.\n",
        "\n",
        "A lista distribuida pode ser observada abaixo:\n",
        "\n",
        "```\n",
        "lista = 'José da Silva, Maria Oliveira, Pedro Martins, Ana Souza, Carlos Rodrigues, Juliana Santos, Bruno Gomes, Beatriz Costa, Felipe Almeida, Mariana Fernandes, João Pinto, Luísa Nascimento, Gabriel Souza, Manuela Santos, Thiago Oliveira, Sofia Ferreira, Rafael Albuquerque, Isabella Gomes, Bruno Costa, Maria Martins, Rafaela Souza, Matheus Fernandes, Luísa Almeida, Beatriz Pinto, Mariana Rodrigues, Gabriel Nascimento, João Ferreira, Maria Albuquerque, Felipe Oliveira\n",
        "'\n",
        "```\n",
        "\n",
        "Os nomes que precisam ser verificados são os seguintes:\n",
        "\n",
        "```\n",
        "nome_1 = 'Mariana Rodrigues'\n",
        "nome_2 = 'Marcelo Nogueira'\n",
        "```"
      ],
      "metadata": {
        "id": "enJNp6JenQbq"
      }
    },
    {
      "cell_type": "code",
      "source": [
        "lista = 'José da Silva, Maria Oliveira, Pedro Martins, Ana Souza, Carlos Rodrigues, Juliana Santos, Bruno Gomes, Beatriz Costa, Felipe Almeida, Mariana Fernandes, João Pinto, Luísa Nascimento, Gabriel Souza, Manuela Santos, Thiago Oliveira, Sofia Ferreira, Rafael Albuquerque, Isabella Gomes, Bruno Costa, Maria Martins, Rafaela Souza, Matheus Fernandes, Luísa Almeida, Beatriz Pinto, Mariana Rodrigues, Gabriel Nascimento, João Ferreira, Maria Albuquerque, Felipe Oliveira'\n",
        "lista"
      ],
      "metadata": {
        "id": "kU25ABUQ5NBe",
        "colab": {
          "base_uri": "https://localhost:8080/",
          "height": 70
        },
        "outputId": "851b1c11-fa39-46c5-c258-3620f087754f"
      },
      "execution_count": null,
      "outputs": [
        {
          "output_type": "execute_result",
          "data": {
            "text/plain": [
              "'José da Silva, Maria Oliveira, Pedro Martins, Ana Souza, Carlos Rodrigues, Juliana Santos, Bruno Gomes, Beatriz Costa, Felipe Almeida, Mariana Fernandes, João Pinto, Luísa Nascimento, Gabriel Souza, Manuela Santos, Thiago Oliveira, Sofia Ferreira, Rafael Albuquerque, Isabella Gomes, Bruno Costa, Maria Martins, Rafaela Souza, Matheus Fernandes, Luísa Almeida, Beatriz Pinto, Mariana Rodrigues, Gabriel Nascimento, João Ferreira, Maria Albuquerque, Felipe Oliveira'"
            ],
            "application/vnd.google.colaboratory.intrinsic+json": {
              "type": "string"
            }
          },
          "metadata": {},
          "execution_count": 30
        }
      ]
    },
    {
      "cell_type": "code",
      "source": [
        "nome_1 = 'Mariana Rodrigues'\n",
        "nome_2 = 'Marcelo Nogueira'"
      ],
      "metadata": {
        "id": "GY82qLpivC6Y"
      },
      "execution_count": null,
      "outputs": []
    },
    {
      "cell_type": "code",
      "source": [
        "if nome_1 in lista:\n",
        "  print(f'O nome {nome_1} está na lista')\n",
        "else:\n",
        "  print(f'O nome {nome_1} não está na lista')"
      ],
      "metadata": {
        "id": "ipyXfbpb37b0",
        "colab": {
          "base_uri": "https://localhost:8080/"
        },
        "outputId": "0aab14c6-58f2-4955-903b-c32f53056a0e"
      },
      "execution_count": null,
      "outputs": [
        {
          "output_type": "stream",
          "name": "stdout",
          "text": [
            "O nome Mariana Rodrigues está na lista\n"
          ]
        }
      ]
    },
    {
      "cell_type": "code",
      "source": [
        "if nome_2 in lista:\n",
        "  print (f'O nome {nome_2} está na lista')\n",
        "else:\n",
        "  print(f'O nome {nome_2} não está na lista')"
      ],
      "metadata": {
        "id": "KfXxC9A537RP",
        "colab": {
          "base_uri": "https://localhost:8080/"
        },
        "outputId": "39e098d2-ea26-4911-bab4-84b3de87a8ee"
      },
      "execution_count": null,
      "outputs": [
        {
          "output_type": "stream",
          "name": "stdout",
          "text": [
            "O nome Marcelo Nogueira não está na lista\n"
          ]
        }
      ]
    },
    {
      "cell_type": "markdown",
      "source": [
        "---\n",
        "####*   Terceiro Desafio Desafio\n"
      ],
      "metadata": {
        "id": "a-dmIYBdB238"
      }
    },
    {
      "cell_type": "markdown",
      "source": [
        "##### Aquecendo na programação"
      ],
      "metadata": {
        "id": "Pr9HTW0UHCdD"
      }
    },
    {
      "cell_type": "markdown",
      "source": [
        "*Questão 1*\n",
        "\n",
        "Escreva um programa que peça à pessoa usuária para fornecer dois números e exibir o número maior."
      ],
      "metadata": {
        "id": "xBZHqhVg80Fy"
      }
    },
    {
      "cell_type": "code",
      "source": [
        "# Coleta os números\n",
        "num1 = int(input('Digite o primeiro número: '))\n",
        "num2 = int (input('Digite o segundo número: '))\n",
        "\n",
        "# Imprima os resultados\n",
        "if num1 > num2:\n",
        "   print(f'O primeiro número é maior: {num1}')\n",
        "\n",
        "elif num2 > num1:\n",
        "  print(f'O segundo número é maior: {num2}')\n",
        "\n",
        "else:\n",
        "  print(f'Os dois números são iguais.')\n"
      ],
      "metadata": {
        "id": "GJlGnzjc-xyF",
        "colab": {
          "base_uri": "https://localhost:8080/"
        },
        "outputId": "6e97861d-1e55-4fb7-c6d4-4f94444cca3e"
      },
      "execution_count": null,
      "outputs": [
        {
          "output_type": "stream",
          "name": "stdout",
          "text": [
            "Digite o primeiro número: 7\n",
            "Digite o segundo número: 10\n",
            "O segundo número é maior: 10\n"
          ]
        }
      ]
    },
    {
      "cell_type": "markdown",
      "source": [
        " *Questão 2*\n",
        "\n",
        "Escreva um programa que solicite o percentual de crescimento de produção de uma empresa e informe se houve um crescimento (porcentagem positiva) ou decrescimento (porcentagem negativa)."
      ],
      "metadata": {
        "id": "H4sgN7dyHNJF"
      }
    },
    {
      "cell_type": "code",
      "source": [
        "# Coleta do percentual\n",
        "verificacao = float (input('Digite o percentual de crescimento: '))\n",
        "\n",
        "# Verifica se o valor é positivo ou negativo com uma verificação se o número\n",
        "# é maior ou menor que 0\n",
        "\n",
        "if verificacao > 0:\n",
        "  print(f'Houve um crescimento de {verificacao}%')\n",
        "\n",
        "elif verificacao < 0:\n",
        "  print(f'Houve um decrescimento de {verificacao}%')\n",
        "\n",
        "else:\n",
        "  print('Não houve crescimento ou decrescimento.')"
      ],
      "metadata": {
        "id": "-2_Ry5XJ-yZW",
        "colab": {
          "base_uri": "https://localhost:8080/"
        },
        "outputId": "5a508612-141d-4514-ce32-a5892f81deaf"
      },
      "execution_count": null,
      "outputs": [
        {
          "output_type": "stream",
          "name": "stdout",
          "text": [
            "Digite o percentual de crescimento: 50\n",
            "Houve um crescimento de 50.0%\n"
          ]
        }
      ]
    },
    {
      "cell_type": "markdown",
      "source": [
        "*Questão 3*\n",
        "\n",
        "Escreva um programa que determine se uma letra fornecida pela pessoa usuária é uma vogal ou consoante."
      ],
      "metadata": {
        "id": "a_mzNOBDHNny"
      }
    },
    {
      "cell_type": "code",
      "source": [
        "# Vogais\n",
        "vogais = 'aeiou'\n",
        "\n",
        "# Coletar letras\n",
        "letras = input('Digite uma letra: ').lower()\n",
        "\n",
        "#Imprimir dados\n",
        "if letras in vogais :\n",
        "  print('É uma vogal')\n",
        "\n",
        "else:\n",
        "  print ('É uma cosoante')"
      ],
      "metadata": {
        "id": "NbgndVyg-zFJ",
        "colab": {
          "base_uri": "https://localhost:8080/"
        },
        "outputId": "67514088-f9bc-49c1-e95b-e22850b9ac3b"
      },
      "execution_count": null,
      "outputs": [
        {
          "output_type": "stream",
          "name": "stdout",
          "text": [
            "Digite uma letra: A\n",
            "É uma vogal\n"
          ]
        }
      ]
    },
    {
      "cell_type": "markdown",
      "source": [
        "*Questão 4*\n",
        "\n",
        "Escreva um programa que leia valores médios de preços de um modelo de carro por 3 anos consecutivos e exiba o valor mais alto e mais baixo entre esses três anos."
      ],
      "metadata": {
        "id": "mofMRjSZHP99"
      }
    },
    {
      "cell_type": "code",
      "source": [
        "# Coletando valor\n",
        "ano_1 = float (input('Digite o valor do primeiro ano:'))\n",
        "ano_2 = float (input('Digite o valor do segundo ano:'))\n",
        "ano_3 = float (input('Digite o valor do terceiro ano:'))\n",
        "\n",
        "# Determinar o maior valor\n",
        "maior = ano_1\n",
        "if ano_2 > maior:\n",
        "  maior = ano_2\n",
        "if ano_3 > maior:\n",
        "  maior = ano_3\n",
        "\n",
        "# Determinar o menor valor\n",
        "menor = ano_1\n",
        "if ano_2 < menor:\n",
        "  menor = ano_2\n",
        "if ano_3 < menor:\n",
        "  menor = ano_3\n",
        "\n",
        "# Imprimir o resultado\n",
        "print(f'O preço mais alto foi {maior}')\n",
        "print(f'O preço mais baixo foi {menor}')"
      ],
      "metadata": {
        "id": "TX--d3k9-02c",
        "colab": {
          "base_uri": "https://localhost:8080/"
        },
        "outputId": "2aea5f90-e983-47ec-f3fa-9c2e590de05d"
      },
      "execution_count": null,
      "outputs": [
        {
          "output_type": "stream",
          "name": "stdout",
          "text": [
            "Digite o valor do primeiro ano:40700\n",
            "Digite o valor do segundo ano:87500\n",
            "Digite o valor do terceiro ano:60000\n",
            "O preço mais alto foi 87500.0\n",
            "O preço mais baixo foi 40700.0\n"
          ]
        }
      ]
    },
    {
      "cell_type": "markdown",
      "source": [
        "*Questão 5*\n",
        "\n",
        "Escreva um programa que pergunte sobre o preço de três produtos e indique qual é o produto mais barato para comprar."
      ],
      "metadata": {
        "id": "jY5tIwd-HQzc"
      }
    },
    {
      "cell_type": "code",
      "source": [
        "# Coletar o preço dos produtps\n",
        "p1 = float(input('Digite o preço do primeiro produto: '))\n",
        "p2 = float(input('Digite o preço do segundo produto: '))\n",
        "p3 = float(input('Digite o preço do terceiro produto: '))\n",
        "\n",
        "# Verificamos qual produto é o mais barato usando o operador lógico 'and'\n",
        "if p1 < p2 and p1 < p3:\n",
        "  print('O primeiro produto é o mais barato.')\n",
        "elif p2 < p1 and p2 < p3:\n",
        "  print('O segundo produto é o mais barato.')\n",
        "elif p3 < p1 and p3 < p2:\n",
        "  print('O terceiro produto é o mais barato.')\n",
        "elif p1 == p2 == p3:\n",
        "  print('Os produtos tem o mesmo preço.')\n",
        "\n",
        "# Identificar quais produtos possuem o mesmo preço, se for o caso\n",
        "else:\n",
        "  if p1 == p2:\n",
        "    print('O primeiro produto e o segundo são os mais baratos.')\n",
        "  elif p1 == p3:\n",
        "    print('O primeiro produto e o terceiro produto são os mais baratos.')\n",
        "  elif p2 == p3:\n",
        "    print('O segundo produto e o terceiro produto são os mais baratos')"
      ],
      "metadata": {
        "colab": {
          "base_uri": "https://localhost:8080/"
        },
        "id": "AkTSp3AUkURX",
        "outputId": "24b74c54-1bc8-4be0-c8fa-9b540370aec0"
      },
      "execution_count": null,
      "outputs": [
        {
          "output_type": "stream",
          "name": "stdout",
          "text": [
            "Digite o preço do primeiro produto: 100.99\n",
            "Digite o preço do segundo produto: 530\n",
            "Digite o preço do terceiro produto: 240.50\n",
            "O primeiro produto é o mais barato.\n"
          ]
        }
      ]
    },
    {
      "cell_type": "markdown",
      "source": [
        "*Questão 6*\n",
        "\n",
        "Escreva um programa que leia três números e os exiba em ordem decrescente."
      ],
      "metadata": {
        "id": "1r6aVxtTHR4E"
      }
    },
    {
      "cell_type": "code",
      "source": [
        "# Coleta de números\n",
        "num1 = int(input('Digite o primeiro número:'))\n",
        "num2 = int(input('Digite o segundo número:'))\n",
        "num3 = int(input('Digite o terceiro número:'))\n",
        "\n",
        "# Comparação para ordenar os números\n",
        "if (num1 >= num2) and (num1 >= num3):\n",
        "  print(num1)\n",
        "  if num2 >= num3:\n",
        "    print(num2)\n",
        "    print(num3)\n",
        "  else:\n",
        "    print(num3)\n",
        "    print(num2)\n",
        "\n",
        "elif (num2 >= num1) and (num2 >= num3):\n",
        "  print(num2)\n",
        "  if num1 >= num3:\n",
        "    print(num1)\n",
        "    print(num3)\n",
        "  else:\n",
        "    print(num3)\n",
        "    print(num1)\n",
        "\n",
        "else:\n",
        "  print(num3)\n",
        "  if (num1 >= num2):\n",
        "    print(num1)\n",
        "    print(num2)\n",
        "  else:\n",
        "   print(num2)\n",
        "   print(num1)"
      ],
      "metadata": {
        "colab": {
          "base_uri": "https://localhost:8080/"
        },
        "id": "iR9MJxtrtJHG",
        "outputId": "9a7efbcc-7bee-4b0c-a589-3a59f31df444"
      },
      "execution_count": null,
      "outputs": [
        {
          "output_type": "stream",
          "name": "stdout",
          "text": [
            "Digite o primeiro número:100\n",
            "Digite o segundo número:250\n",
            "Digite o terceiro número:50\n",
            "250\n",
            "100\n",
            "50\n"
          ]
        }
      ]
    },
    {
      "cell_type": "markdown",
      "source": [
        " *Questão 7*\n",
        "\n",
        "Escreva um programa que pergunte em qual turno a pessoa usuária estuda (\"manhã\", \"tarde\" ou \"noite\") e exiba a mensagem \"Bom Dia!\", \"Boa Tarde!\", \"Boa Noite!\", ou \"Valor Inválido!\", conforme o caso."
      ],
      "metadata": {
        "id": "inW3F-hAHS_X"
      }
    },
    {
      "cell_type": "code",
      "source": [
        "# Coletar informação\n",
        "turno = input('Digite em qual turno você estuda (manhã, tarde ou noite): ')\n",
        "\n",
        "# Comparam a entrada com todas as opções e imprimimos o resultado.\n",
        "if turno == 'manhã':\n",
        "  print('Bom dia!')\n",
        "if turno == 'tarde': #também poderia utilizar o 'elif'\n",
        "  print('Boa tarde!')\n",
        "if turno == 'noite':\n",
        "  print('Boa noite!')\n",
        "else:\n",
        "  print('Valor Inválido!')\n"
      ],
      "metadata": {
        "id": "-_q-Pcr_-zth",
        "colab": {
          "base_uri": "https://localhost:8080/"
        },
        "outputId": "cc4c655a-7258-4bf9-f278-b9b2beb2f750"
      },
      "execution_count": null,
      "outputs": [
        {
          "output_type": "stream",
          "name": "stdout",
          "text": [
            "Digite em qual turno você estuda (manhã, tarde ou noite): noite\n",
            "Boa noite!\n"
          ]
        }
      ]
    },
    {
      "cell_type": "markdown",
      "source": [
        "*Questão 8*\n",
        "\n",
        "Escreva um programa que peça um número inteiro à pessoa usuária e determine se ele é par ou ímpar. Dica: Você pode utilizar o operador módulo `%`."
      ],
      "metadata": {
        "id": "NCCPF3QqHTw-"
      }
    },
    {
      "cell_type": "code",
      "source": [
        "# Coletar os dado\n",
        "num = int (input(\"Digite um número: \"))\n",
        "\n",
        "# Verificar dado\n",
        "if num % 2 == 0:\n",
        "  print('É um número par')\n",
        "else:\n",
        "  print('É um número ímpar.')"
      ],
      "metadata": {
        "id": "OmZJt1nQ-3e6",
        "colab": {
          "base_uri": "https://localhost:8080/"
        },
        "outputId": "8c82c129-3111-4169-fb6b-b60cad40c2da"
      },
      "execution_count": null,
      "outputs": [
        {
          "output_type": "stream",
          "name": "stdout",
          "text": [
            "Digite um número: 6\n",
            "É um número par\n"
          ]
        }
      ]
    },
    {
      "cell_type": "markdown",
      "source": [
        "*Questão 9*\n",
        "\n",
        "Escreva um programa que peça um número à pessoa usuária e informe se ele é inteiro ou decimal."
      ],
      "metadata": {
        "id": "h93Ck1tQHUwE"
      }
    },
    {
      "cell_type": "code",
      "source": [
        "# Coleta os dado\n",
        "num = float(input('Digite um número: '))\n",
        "\n",
        "#verificar dado\n",
        "if num % 1 == 00:\n",
        "  print('É um número inteiro.')\n",
        "else:\n",
        "  print('É um número decimal.')\n"
      ],
      "metadata": {
        "id": "sLMlZcx8-20N",
        "colab": {
          "base_uri": "https://localhost:8080/"
        },
        "outputId": "f0837838-c2db-4ad6-ff24-96e79a925045"
      },
      "execution_count": null,
      "outputs": [
        {
          "output_type": "stream",
          "name": "stdout",
          "text": [
            "Digite um número: 5.25\n",
            "É um número decimal.\n"
          ]
        }
      ]
    },
    {
      "cell_type": "markdown",
      "source": [
        "----"
      ],
      "metadata": {
        "id": "VmwO0q9USY2_"
      }
    },
    {
      "cell_type": "markdown",
      "source": [
        "## 4. Estruturas de repetição"
      ],
      "metadata": {
        "id": "5EMB4INlsjQZ"
      }
    },
    {
      "cell_type": "markdown",
      "source": [
        "**Estruturas ou laços de repetição são capazes de repetir um mesmo bloco de comandos quantas vezes forem definidas.**"
      ],
      "metadata": {
        "id": "GvR8Z-EtucC9"
      }
    },
    {
      "cell_type": "markdown",
      "source": [
        "### → `WHILE`"
      ],
      "metadata": {
        "id": "uLO9-aE4-wx8"
      }
    },
    {
      "cell_type": "markdown",
      "source": [
        "O laço `while` é uma estrutura de controle de repetição em Python que permite executar um bloco de código repetidamente enquanto uma determinada condição é verdadeira. Sua estrutura é:\n",
        "\n",
        "\n",
        "\n",
        "```\n",
        "while condição:\n",
        "    # bloco de código\n",
        "```\n",
        "\n",
        "⚠️ O bloco de código dentro do laço\n",
        "```while``` será executado repetidamente\n",
        "enquanto a condição for avaliada como\n",
        "```True```. Quando a condição for avaliada\n",
        "como ```False```, o laço será interrompido e o\n",
        "programa continuará a executar o código\n",
        "depois do laço.\n",
        "\n",
        "---\n",
        "\n",
        "\n",
        "\n",
        "Vamos construir um exemplo com um contador de 1 até 10.\n"
      ],
      "metadata": {
        "id": "rXZxDMiqHxm9"
      }
    },
    {
      "cell_type": "code",
      "source": [
        "contador = 1\n",
        "while contador <= 10:\n",
        "  print(contador)\n",
        "  contador += 1"
      ],
      "metadata": {
        "id": "6b_izu633j0O",
        "colab": {
          "base_uri": "https://localhost:8080/"
        },
        "outputId": "09fb160c-4294-4e9d-ffb5-7b6943916de3"
      },
      "execution_count": null,
      "outputs": [
        {
          "output_type": "stream",
          "name": "stdout",
          "text": [
            "1\n",
            "2\n",
            "3\n",
            "4\n",
            "5\n",
            "6\n",
            "7\n",
            "8\n",
            "9\n",
            "10\n"
          ]
        }
      ]
    },
    {
      "cell_type": "markdown",
      "source": [
        "*Situação hipotética*\n",
        "\n",
        "* É preciso coletar as três notas e médias de cada aluno da escpla. E para isso vamos utilizar o  ```while```."
      ],
      "metadata": {
        "id": "W4KZPBJuIrut"
      }
    },
    {
      "cell_type": "code",
      "source": [
        "contador = 1\n",
        "while contador <= 3:\n",
        "  nota_1 = float(input('Digite a 1° nota: '))\n",
        "  nota_2 = float(input('Digite a 2° nota: '))\n",
        "\n",
        "  print(f'Média: {(nota_1+nota_2)/2}')\n",
        "  contador +=1"
      ],
      "metadata": {
        "id": "aIeQ_CzW3jiP",
        "colab": {
          "base_uri": "https://localhost:8080/"
        },
        "outputId": "853868be-1807-481e-8a09-158c98b7a7c3"
      },
      "execution_count": null,
      "outputs": [
        {
          "output_type": "stream",
          "name": "stdout",
          "text": [
            "Digite a 1° nota: 5\n",
            "Digite a 2° nota: 7\n",
            "Média: 6.0\n",
            "Digite a 1° nota: 10\n",
            "Digite a 2° nota: 3\n",
            "Média: 6.5\n",
            "Digite a 1° nota: 9\n",
            "Digite a 2° nota: 10\n",
            "Média: 9.5\n"
          ]
        }
      ]
    },
    {
      "cell_type": "markdown",
      "source": [],
      "metadata": {
        "id": "Zd1403DHZDhN"
      }
    },
    {
      "cell_type": "markdown",
      "source": [
        "## ⚠️ Quando usar ```If``` e ```While```\n",
        "\n",
        "\n"
      ],
      "metadata": {
        "id": "JUO4k7LbyVPn"
      }
    },
    {
      "cell_type": "markdown",
      "source": [
        "```if``` → Verifica uma vez só\n",
        "\n",
        "* Serve para **tomar uma decisão única**.\n",
        "\n",
        "* Se a condição for verdadeira, ele **executa o bloco***.\n",
        "\n",
        "* **Não repete**.\n",
        "\n",
        "```\n",
        "if nota > 5:\n",
        "    print(\"Nota inválida\")  # Verifica só 1 vez\n",
        "\n",
        "```\n",
        "\n",
        "```while``` → Repete até a condição mudar\n",
        "\n",
        "* Serve para **repetir um bloco de código** enquanto a condição for verdadeira.\n",
        "\n",
        "* Ele **verifica e repete** várias vezes até a condição ficar falsa.\n",
        "\n",
        "```\n",
        "while nota > 5:\n",
        "    print(\"Nota inválida\")  # Repete até o valor ser válido\n",
        "    nota = int(input(\"Digite de novo: \"))\n",
        "\n",
        "```\n",
        "\n",
        "✨ **Dica para lembrar:**\n",
        "* ```if``` = \"Se...\"\n",
        "\n",
        "* ```while``` = \"Enquanto...\""
      ],
      "metadata": {
        "id": "E1FJL9GBzKhS"
      }
    },
    {
      "cell_type": "markdown",
      "source": [
        "### → `FOR`"
      ],
      "metadata": {
        "id": "WgAIaENMMfCP"
      }
    },
    {
      "cell_type": "markdown",
      "source": [
        "O laço `for` é um tipo de estrutura de controle de fluxo em Python que permite iterar sobre um conjunto de elementos. A sua estrutura é:\n",
        "\n",
        "\n",
        "\n",
        "```\n",
        "for elemento in conjunto:\n",
        "    # código a ser executado para cada elemento\n",
        "```\n",
        "\n",
        "O laço for itera sobre cada elemento do conjunto especificado e executa o bloco de código dentro do laço para cada elemento. Quando o laço chega ao final do conjunto, ele é interrompido e o programa continua a execução após o laço.\n",
        "\n"
      ],
      "metadata": {
        "id": "HxrSZoRAMh-x"
      }
    },
    {
      "cell_type": "markdown",
      "source": [
        "O conjunto pode ser gerado com a função `range()`. Que é uma função capaz de gerar uma sequência de números inteiros. A estrutura dessa função é:\n",
        "\n",
        "```\n",
        "range(inicio, fim, passo)\n",
        "```\n",
        "\n",
        "Segundo a documentação, o `range()` gera uma sequência de números inteiros a partir do valor do parâmetro `inicio` até o valor do parâmetro `fim`, de acordo com o valor do parâmetro `passo`. Se `inicio` não for especificado, o valor padrão é 0. Se `passo` não for especificado, o valor padrão é 1.\n",
        "\n",
        "\n"
      ],
      "metadata": {
        "id": "6VgjyoQtPHBM"
      }
    },
    {
      "cell_type": "markdown",
      "source": [
        "Vamos fazer o mesmo contador `while` agora com `for`."
      ],
      "metadata": {
        "id": "ryn0hfdlUwC8"
      }
    },
    {
      "cell_type": "code",
      "source": [
        "for contador in range (1,11):\n",
        "  print (contador)"
      ],
      "metadata": {
        "id": "t6qcdPyP3YgZ",
        "colab": {
          "base_uri": "https://localhost:8080/"
        },
        "outputId": "904020e8-069f-4c0c-d235-4e779df97f14"
      },
      "execution_count": null,
      "outputs": [
        {
          "output_type": "stream",
          "name": "stdout",
          "text": [
            "1\n",
            "2\n",
            "3\n",
            "4\n",
            "5\n",
            "6\n",
            "7\n",
            "8\n",
            "9\n",
            "10\n"
          ]
        }
      ]
    },
    {
      "cell_type": "code",
      "source": [
        "for contador in range(1,4):\n",
        "  nota_1 = float(input('Digite a 1° nota: '))\n",
        "  nota_2 = float(input('Digite a 2° nota: '))\n",
        "\n",
        "  print(f'Média: {(nota_1+nota_2)/2}')"
      ],
      "metadata": {
        "id": "KBeY8z573YWz",
        "colab": {
          "base_uri": "https://localhost:8080/"
        },
        "outputId": "19f3ce41-878b-49c7-ffc8-a7ca4eb9faf3"
      },
      "execution_count": null,
      "outputs": [
        {
          "output_type": "stream",
          "name": "stdout",
          "text": [
            "Digite a 1° nota: 8\n",
            "Digite a 2° nota: 3\n",
            "Média: 5.5\n",
            "Digite a 1° nota: 9\n",
            "Digite a 2° nota: 7\n",
            "Média: 8.0\n",
            "Digite a 1° nota: 2\n",
            "Digite a 2° nota: 5\n",
            "Média: 3.5\n"
          ]
        }
      ]
    },
    {
      "cell_type": "markdown",
      "source": [
        "#### Comandos relacionados aos laços"
      ],
      "metadata": {
        "id": "tGAn0wo2yQCV"
      }
    },
    {
      "cell_type": "markdown",
      "source": [
        "Conseguimos controlar o fluxo de\n",
        "execuções dentro do bloco de código dos\n",
        "laços ```while``` e ```for``` através dos comandos\n",
        "de controle ```continue``` e ```break```.\n",
        "\n",
        "\n",
        "O ```continue``` interrompe a iteração\n",
        "atual do laço e salta para a próxima\n",
        "iteração, ou seja, retorna ao início do\n",
        "código. Já o ```break``` vai interromper a\n",
        "execução do laço completamente, saindo\n",
        "do bloco de código."
      ],
      "metadata": {
        "id": "nHigT5y_yaQ8"
      }
    },
    {
      "cell_type": "markdown",
      "source": [
        "→ ```Continue```\n",
        "\n",
        "\n",
        "```\n",
        "for elemento in conjunto:\n",
        "    # código dentro do laço\n",
        "    continue\n",
        "    # código dentro do laço\n",
        "# código fora do laço\n",
        "```\n",
        "\n",
        "\n",
        "```\n",
        "while condição:\n",
        "    # código dentro do laço\n",
        "    continue\n",
        "    # código dentro do laço\n",
        "# código fora do laço\n",
        "```"
      ],
      "metadata": {
        "id": "MDJapb9HzVim"
      }
    },
    {
      "cell_type": "code",
      "source": [
        "for i in range(1,6):\n",
        "    if i == 4:\n",
        "        continue\n",
        "    print(i)"
      ],
      "metadata": {
        "colab": {
          "base_uri": "https://localhost:8080/"
        },
        "id": "Pp3ZC8g0wcQp",
        "outputId": "5242b060-26ac-4d0b-fe4a-56aa2f69a84e"
      },
      "execution_count": null,
      "outputs": [
        {
          "output_type": "stream",
          "name": "stdout",
          "text": [
            "1\n",
            "2\n",
            "3\n",
            "5\n"
          ]
        }
      ]
    },
    {
      "cell_type": "markdown",
      "source": [
        "→ ```Break```\n",
        "\n",
        "\n",
        "```\n",
        "for elemento in conjunto:\n",
        "    # código dentro do laço\n",
        "    break\n",
        "    # código dentro do laço\n",
        "# código fora do laço\n",
        "```\n",
        "\n",
        "\n",
        "```\n",
        "while condição:\n",
        "    # código dentro do laço\n",
        "    break\n",
        "    # código dentro do laço\n",
        "# código fora do laço\n",
        "```"
      ],
      "metadata": {
        "id": "B2rcvcJL0h12"
      }
    },
    {
      "cell_type": "code",
      "source": [
        "for i in range(1,6):\n",
        "    if i == 4:\n",
        "        break\n",
        "    print(i)"
      ],
      "metadata": {
        "colab": {
          "base_uri": "https://localhost:8080/"
        },
        "id": "hyfTVUMJ0gUu",
        "outputId": "728800a9-83c6-450c-9678-b06d6edcd75b"
      },
      "execution_count": null,
      "outputs": [
        {
          "output_type": "stream",
          "name": "stdout",
          "text": [
            "1\n",
            "2\n",
            "3\n"
          ]
        }
      ]
    },
    {
      "cell_type": "markdown",
      "source": [
        "### → `WHILE TRUE `"
      ],
      "metadata": {
        "id": "Q6VO1h5MZK-j"
      }
    },
    {
      "cell_type": "markdown",
      "source": [
        "**O** ```while True``` **é um tipom de laço de repetição infinito**\n",
        "\n",
        "Isso significa que ele nunca para sozinho, a menos que você mande parar com um ```break```.\n",
        "\n",
        "* É como dizer:  \n",
        " *\"*Enquanto for verdade (sempre é), continue repetindo isso aqui\"**\n"
      ],
      "metadata": {
        "id": "dgVyqrWxZwrv"
      }
    },
    {
      "cell_type": "code",
      "source": [
        "# While True e Break\n",
        "# ------------------\n",
        "# while true: cria um laço infinito (nunca para sozinho)\n",
        "# break: usado para interroper e sair do laço\n",
        "\n",
        "while True:\n",
        "  nome = input('Digite seu nome: ')\n",
        "  if nome == 'sair':\n",
        "    break\n",
        "  print(f'Olá, {nome}!')"
      ],
      "metadata": {
        "colab": {
          "base_uri": "https://localhost:8080/"
        },
        "id": "w8CcbGACcUbv",
        "outputId": "7f9a65cb-7a17-4bdf-b00c-7576408d8676"
      },
      "execution_count": 3,
      "outputs": [
        {
          "name": "stdout",
          "output_type": "stream",
          "text": [
            "Digite seu nome: Alexandra \n",
            "Olá, Alexandra !\n",
            "Digite seu nome: Liz\n",
            "Olá, Liz!\n",
            "Digite seu nome: sair\n"
          ]
        }
      ]
    },
    {
      "cell_type": "markdown",
      "source": [
        "🧾**O que esse código faz:**\n",
        "* Ele fica **pedindo o nome infinitamente**.\n",
        "* Se você digitar **\"sair\"**, ele usa o ```break``` para sair do laço\n",
        "* Senão, ele continua\n"
      ],
      "metadata": {
        "id": "KrC_0uq4c4wo"
      }
    },
    {
      "cell_type": "markdown",
      "source": [
        "---\n",
        "####*   Quarto Desafio Desafio"
      ],
      "metadata": {
        "id": "AuaWh4-d2Itt"
      }
    },
    {
      "cell_type": "markdown",
      "source": [
        "*Questão 1*\n",
        "\n",
        "Escreva um programa que peça dois números inteiros e imprima todos os números inteiros entre eles."
      ],
      "metadata": {
        "id": "9eGGyCnAJRdQ"
      }
    },
    {
      "cell_type": "code",
      "source": [
        "# Entrada de dados\n",
        "num1 = int(input('Digite o primeiro número: '))\n",
        "num2 = int(input('Digite o segundo número: '))\n",
        "\n",
        "# Troca de valores se necessário\n",
        "if num1 > num2:\n",
        "  num1, num2 = num2, num1\n",
        "\n",
        "# Saída de Dados\n",
        "for i in range(num1,num2 + 1):\n",
        "  print(i)"
      ],
      "metadata": {
        "id": "ID1oc1hxJRdQ",
        "colab": {
          "base_uri": "https://localhost:8080/"
        },
        "outputId": "a4da128c-e336-4bee-b915-81203ea76813"
      },
      "execution_count": null,
      "outputs": [
        {
          "output_type": "stream",
          "name": "stdout",
          "text": [
            "Digite o primeiro número: 15\n",
            "Digite o segundo número: 10\n",
            "10\n",
            "11\n",
            "12\n",
            "13\n",
            "14\n",
            "15\n"
          ]
        }
      ]
    },
    {
      "cell_type": "markdown",
      "source": [
        "*Questão 2*\n",
        "\n",
        "Crie um programa que:\n",
        "\n",
        "* Peça para a pessoa digitar uma senha.\n",
        "\n",
        "* Se a senha estiver errada, mostre a mensagem \"Senha incorreta. Tente novamente.\"\n",
        "\n",
        "* Se a senha estiver certa, mostre a mensagem \"Acesso liberado!\".\n"
      ],
      "metadata": {
        "id": "9wAJOzW0ewKa"
      }
    },
    {
      "cell_type": "code",
      "source": [
        "while True:\n",
        "  senha = input('Digite a sua senha: ')\n",
        "\n",
        "  if senha == '4428@dog':\n",
        "    print('Acesso liberado!')\n",
        "    break\n",
        "  else:\n",
        "    print('Senha incorreta. Tente novamente.!')\n",
        "\n"
      ],
      "metadata": {
        "colab": {
          "base_uri": "https://localhost:8080/"
        },
        "id": "4DpIgzRafMI7",
        "outputId": "08b6384a-28e5-4650-e350-f67dd83d6712"
      },
      "execution_count": 10,
      "outputs": [
        {
          "output_type": "stream",
          "name": "stdout",
          "text": [
            "Digite a sua senha: 4428@eu\n",
            "Senha incorreta. Tente novamente.!\n",
            "Digite a sua senha: 4428@dog\n",
            "Acesso liberado!\n"
          ]
        }
      ]
    },
    {
      "cell_type": "markdown",
      "source": [
        "*Questão 3*\n",
        "\n",
        "Para tratar uma quantidade de 15 dados de avaliações de pessoas usuárias de um serviço da empresa, precisamos verificar se as notas são válidas. Então, escreva um programa que vai receber a nota de 0 a 5 de todos os dados e verificar se é um valor válido. Caso seja inserido uma nota acima de 5 ou abaixo de 0, repita até que a pessoa usuária insira um valor válido."
      ],
      "metadata": {
        "id": "UiOZRlqoJRdR"
      }
    },
    {
      "cell_type": "code",
      "source": [
        "for i in range(15):\n",
        "    nota = int(input('Digite uma nota de 0 a 5: '))\n",
        "\n",
        "    while nota < 0 or nota > 5:\n",
        "        print('Nota inválida. Tente novamente!')\n",
        "        nota = int(input('Digite uma nota de 0 a 5: '))"
      ],
      "metadata": {
        "colab": {
          "base_uri": "https://localhost:8080/"
        },
        "id": "wChua4rg5yO1",
        "outputId": "862a35cf-dc1c-49db-b74b-ca9b9362b5b8"
      },
      "execution_count": null,
      "outputs": [
        {
          "name": "stdout",
          "output_type": "stream",
          "text": [
            "Digite uma nota de 0 a 5: 5\n",
            "Digite uma nota de 0 a 5: 0\n",
            "Digite uma nota de 0 a 5: 6\n",
            "Nota inválida. Tente novamente!\n",
            "Digite uma nota de 0 a 5: 10\n",
            "Nota inválida. Tente novamente!\n",
            "Digite uma nota de 0 a 5: 0\n",
            "Digite uma nota de 0 a 5: 5\n",
            "Digite uma nota de 0 a 5: 5\n",
            "Digite uma nota de 0 a 5: 3\n",
            "Digite uma nota de 0 a 5: 4\n",
            "Digite uma nota de 0 a 5: 1\n",
            "Digite uma nota de 0 a 5: 9\n",
            "Nota inválida. Tente novamente!\n",
            "Digite uma nota de 0 a 5: 8\n",
            "Nota inválida. Tente novamente!\n",
            "Digite uma nota de 0 a 5: 3\n",
            "Digite uma nota de 0 a 5: 2\n",
            "Digite uma nota de 0 a 5: 4\n",
            "Digite uma nota de 0 a 5: 5\n",
            "Digite uma nota de 0 a 5: 1\n",
            "Digite uma nota de 0 a 5: 2\n",
            "Digite uma nota de 0 a 5: 3\n"
          ]
        }
      ]
    }
  ]
}