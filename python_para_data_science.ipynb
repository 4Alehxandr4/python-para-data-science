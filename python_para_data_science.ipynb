{
  "nbformat": 4,
  "nbformat_minor": 0,
  "metadata": {
    "colab": {
      "provenance": [],
      "toc_visible": true,
      "authorship_tag": "ABX9TyO921D754Db+mnNtMbESxak",
      "include_colab_link": true
    },
    "kernelspec": {
      "name": "python3",
      "display_name": "Python 3"
    },
    "language_info": {
      "name": "python"
    }
  },
  "cells": [
    {
      "cell_type": "markdown",
      "metadata": {
        "id": "view-in-github",
        "colab_type": "text"
      },
      "source": [
        "<a href=\"https://colab.research.google.com/github/4Alehxandr4/python-para-data-science/blob/main/python_para_data_science.ipynb\" target=\"_parent\"><img src=\"https://colab.research.google.com/assets/colab-badge.svg\" alt=\"Open In Colab\"/></a>"
      ]
    },
    {
      "cell_type": "markdown",
      "source": [
        "#Python para Data Science\n",
        "\n",
        "*Meu notebook de estudos sobre Python aplicado à Ciência de Dados.*\n",
        "\n",
        "Aqui você vai encontrar anotações, exercícios, gráficos e mini projetos que estou desenvolvendo ao longo do meu aprendizado com a linguagem Python."
      ],
      "metadata": {
        "id": "F-h2kj-I7t7F"
      }
    },
    {
      "cell_type": "markdown",
      "source": [
        "# Notebook\n",
        "\n",
        "Um **Notebook** é como um caderno digital, usado para contar uma história com dados e códigos. Nele, escrevemos passo a passo a nossa lógica de raciocínio, desde o problema até a solução.\n",
        "\n",
        "No notebook, você pode usar dois tipos de **blocos**, também chamados de **células**:\n",
        "\n",
        "- **Blocos de textos:** para explicar o contexto, os objetivos do projeto, conclusões etc.\n",
        "- **Blocos de códigos:**  para programar, explorar dados, criar gráficos e mais."
      ],
      "metadata": {
        "id": "d26CbyF28hgN"
      }
    },
    {
      "cell_type": "markdown",
      "source": [
        "# 1. Introdução ao Python: Meus primeiros passos na linguagem\n",
        "\n",
        "Python é uma **linguagem de programação versátil**, fácil de aprender e com uma **sintaxe clara** que  permite focar na lógica do problema, sem complicações técnicas.\n",
        "\n",
        "Ela conta com muitas **bibliotecas** prontas, como:\n",
        "\n",
        "* **NumPy** (cálculos),\n",
        "\n",
        "* **Pandas** (análise de dados),\n",
        "\n",
        "* **Matplotlib** (gráficos).\n",
        "\n",
        "Além disso, é **multiplataforma**, ou seja, funciona em Windows, Mac e Linux, facilitando o uso em diferentes computadores.\n",
        "\n"
      ],
      "metadata": {
        "id": "6rOQ2T1e-4F2"
      }
    },
    {
      "cell_type": "markdown",
      "source": [
        "## 1.1 Comando\n",
        "Os comandos básicos em Python variam de acordo com o tipo de variável manipulada. Existem **operações possíveis com valores numéricos** e também **manipulações possíveis para strings(valores textuais)**.\n",
        "\n",
        "Dentre os comandos básicos gerais podemos citar o **print()** e o **input()**, que conseguimos utilizar com as\n",
        "variáveis."
      ],
      "metadata": {
        "id": "KDHCYIHAGsEm"
      }
    },
    {
      "cell_type": "markdown",
      "source": [
        "### → Função print ( )\n",
        "A **função print** é utilizada para exibir informações na tela, ou seja, ela imprime ou exibe o conteúdo passado como argumento. Um exemplo de uso dessa função é o seguinte código:"
      ],
      "metadata": {
        "id": "vU6QpqmR32Pk"
      }
    },
    {
      "cell_type": "code",
      "execution_count": null,
      "metadata": {
        "colab": {
          "base_uri": "https://localhost:8080/"
        },
        "id": "S1aOH4Q1MS57",
        "outputId": "85a5478d-fc06-4c46-d6a0-9d502b7d1f76"
      },
      "outputs": [
        {
          "output_type": "stream",
          "name": "stdout",
          "text": [
            "Olá Mundo!\n"
          ]
        }
      ],
      "source": [
        "print ('Olá Mundo!')"
      ]
    },
    {
      "cell_type": "markdown",
      "source": [
        "O **print()** não imprime apenas textos, mas números e também é possível imprimir vários dados em conjunto dentro dessa função"
      ],
      "metadata": {
        "id": "_bXdZKT05HBb"
      }
    },
    {
      "cell_type": "code",
      "source": [
        "print (2013)"
      ],
      "metadata": {
        "colab": {
          "base_uri": "https://localhost:8080/"
        },
        "id": "rXZ5ATxL6Uli",
        "outputId": "fa58ea3d-29fa-40da-d8d1-957d632a984e"
      },
      "execution_count": null,
      "outputs": [
        {
          "output_type": "stream",
          "name": "stdout",
          "text": [
            "2013\n"
          ]
        }
      ]
    },
    {
      "cell_type": "code",
      "source": [
        "print ('Alexandra,', 19)"
      ],
      "metadata": {
        "colab": {
          "base_uri": "https://localhost:8080/"
        },
        "id": "8T8OHsCd_KjP",
        "outputId": "5574099a-d3d5-48a3-bd5e-5399ed691a3a"
      },
      "execution_count": null,
      "outputs": [
        {
          "output_type": "stream",
          "name": "stdout",
          "text": [
            "Alexandra, 19\n"
          ]
        }
      ]
    },
    {
      "cell_type": "markdown",
      "source": [
        "#### → Primeiro Desafio"
      ],
      "metadata": {
        "id": "3zQ25V5p_drq"
      }
    },
    {
      "cell_type": "code",
      "source": [
        "print ('Escola de Dados da Alura!')"
      ],
      "metadata": {
        "colab": {
          "base_uri": "https://localhost:8080/"
        },
        "id": "R8GyaK11_otU",
        "outputId": "17f0b63f-37b4-4d31-b2b2-5d7a0f2d65f4"
      },
      "execution_count": null,
      "outputs": [
        {
          "output_type": "stream",
          "name": "stdout",
          "text": [
            "Escola de Dados da Alura!\n"
          ]
        }
      ]
    },
    {
      "cell_type": "markdown",
      "source": [
        "*Quando colocamos dois print em sequência (um abaixo do outro) conseguimos obter uma quebra de linhas:*"
      ],
      "metadata": {
        "id": "elrgMpwqCi75"
      }
    },
    {
      "cell_type": "code",
      "source": [
        "print ('Nome: Alexandra')\n",
        "print('Sobrenome: Rocha')"
      ],
      "metadata": {
        "colab": {
          "base_uri": "https://localhost:8080/"
        },
        "id": "yH0rPp0zAIn-",
        "outputId": "7a11b639-3206-4c36-9307-a4d00d0fa076"
      },
      "execution_count": null,
      "outputs": [
        {
          "output_type": "stream",
          "name": "stdout",
          "text": [
            "Nome: Alexandra\n",
            "Sobrenome: Rocha\n"
          ]
        }
      ]
    },
    {
      "cell_type": "markdown",
      "source": [
        "*Se você quiser que o texto pule linha dentro do print(), use o \\\\n (que significa “nova linha”):*"
      ],
      "metadata": {
        "id": "QhzlMZl6CusT"
      }
    },
    {
      "cell_type": "code",
      "source": [
        "print ('A\\nL\\nE\\nX\\nA\\nN\\nD\\nD\\nR\\nA')"
      ],
      "metadata": {
        "colab": {
          "base_uri": "https://localhost:8080/"
        },
        "id": "wIuaXnxGBRIA",
        "outputId": "71e93a12-3153-4f5b-ff08-e6df4184bd07"
      },
      "execution_count": null,
      "outputs": [
        {
          "output_type": "stream",
          "name": "stdout",
          "text": [
            "A\n",
            "L\n",
            "E\n",
            "X\n",
            "A\n",
            "N\n",
            "D\n",
            "D\n",
            "R\n",
            "A\n"
          ]
        }
      ]
    },
    {
      "cell_type": "code",
      "source": [
        "print(28, 'Abril' ,2006)"
      ],
      "metadata": {
        "colab": {
          "base_uri": "https://localhost:8080/"
        },
        "id": "f-tlXZoqB_Ar",
        "outputId": "dfe935dc-0ca5-45b4-a025-42cef2464f89"
      },
      "execution_count": null,
      "outputs": [
        {
          "output_type": "stream",
          "name": "stdout",
          "text": [
            "28 Abril 2006\n"
          ]
        }
      ]
    },
    {
      "cell_type": "code",
      "source": [
        "print ('Ano atual:',2025)"
      ],
      "metadata": {
        "colab": {
          "base_uri": "https://localhost:8080/"
        },
        "id": "kZsuhLX-CNMc",
        "outputId": "b6b45a1f-1c1c-4a6d-8b85-d2ac48e66c98"
      },
      "execution_count": null,
      "outputs": [
        {
          "output_type": "stream",
          "name": "stdout",
          "text": [
            "Ano atual: 2025\n"
          ]
        }
      ]
    },
    {
      "cell_type": "markdown",
      "source": [
        "# 2. Variáveis\n",
        "\n",
        "Podemos entender as **variáveis** como nomes que armazenam valores. Se quisermos acessar uma informação, usamos o nome da variável para isso.\n",
        "\n",
        "Em **Python, não é necessário definir o tipo da variável previamente**, pois o tipo é **determinado automaticamente pelo valor atribuído**, isso se chama ***tipagem dinâmica***.\n",
        "\n",
        "✅ Com isso:\n",
        "\n",
        "* Podemos **atribuir qualquer tipo de valor** a uma variável (texto, número, etc.).\n",
        "\n",
        "* Podemos **alterar esse valor a qualquer momento**, trocando por outro dado diferente.\n",
        "\n",
        "\n",
        "\n"
      ],
      "metadata": {
        "id": "qv7o8qmHCcEq"
      }
    },
    {
      "cell_type": "markdown",
      "source": [
        "### → Regras para Variáveis\n",
        "Nomes que **não** podemos definir para variáveis:\n",
        "\n",
        "* Nomes que **começam com números**. **Exemplos**: 10_notas, 2_nomes_casa.\n",
        "\n",
        "* Palavras **separadas por espaço**. **Exemplos**: Nome escola, notas estudantes.\n",
        "\n",
        "* **Nomes de funções** do Python. **Exemplos**: print, type.\n",
        "\n",
        "Letras **maiúsculas** e **minúscula**s vão gerar **diferentes** variáveis. A variável **idadeé** diferente de **Idade**, que por sua vez, também é diferente de **IDADE**."
      ],
      "metadata": {
        "id": "IHLXH-sTK6cx"
      }
    },
    {
      "cell_type": "code",
      "source": [
        "idade = 1\n",
        "\n",
        "Idade = 2\n",
        "\n",
        "IDADE = 3\n",
        "\n",
        "_idade = 4\n",
        "\n",
        "_idade_ = 5\n",
        "\n",
        "print(idade, Idade, IDADE, _idade, _idade_)"
      ],
      "metadata": {
        "colab": {
          "base_uri": "https://localhost:8080/"
        },
        "id": "TlutdF9SIsS1",
        "outputId": "5077587c-52ba-407d-acba-9a0854ee9ecc"
      },
      "execution_count": null,
      "outputs": [
        {
          "output_type": "stream",
          "name": "stdout",
          "text": [
            "1 2 3 4 5\n"
          ]
        }
      ]
    },
    {
      "cell_type": "markdown",
      "source": [
        "## 2.1 Atribuição\n",
        "*Situação hipotética*\n",
        "\n",
        "\n",
        "*  Eu preciso trabalhar com a idade de um estudante qualquer de na minha escola, para armazenarmos a idade desse aluno, é preciso criar uma variável.\n",
        "\n",
        "\n"
      ],
      "metadata": {
        "id": "1Ab6_BrmJb1t"
      }
    },
    {
      "cell_type": "code",
      "source": [
        "nome_da_variável = valor # O (=) é o operador de atribuição"
      ],
      "metadata": {
        "id": "Rdgk3NXmUfiM"
      },
      "execution_count": null,
      "outputs": []
    },
    {
      "cell_type": "code",
      "source": [
        "idade = 5 #Aqui estou ligando a váriavel 'idade' ao ao valor"
      ],
      "metadata": {
        "id": "5OzkEYpPLoSJ"
      },
      "execution_count": null,
      "outputs": []
    },
    {
      "cell_type": "markdown",
      "source": [
        "⚠️ **Shift + Enter** para que o dado seja salvo na memória do executador"
      ],
      "metadata": {
        "id": "ZGvj5s_UMNuR"
      }
    },
    {
      "cell_type": "code",
      "source": [
        "print (idade) #saída do valor"
      ],
      "metadata": {
        "colab": {
          "base_uri": "https://localhost:8080/"
        },
        "id": "UhTImp57MGox",
        "outputId": "6c2b7a74-5cd7-4a8b-956d-66ccff96fe49"
      },
      "execution_count": null,
      "outputs": [
        {
          "output_type": "stream",
          "name": "stdout",
          "text": [
            "5\n"
          ]
        }
      ]
    },
    {
      "cell_type": "markdown",
      "source": [
        "\n",
        "\n",
        "*   Se passou 5 anos,  o mesmo estudante agora tem 10 anos é preciso alterar a sua idade.\n",
        "\n"
      ],
      "metadata": {
        "id": "a2EUCRpCNUSQ"
      }
    },
    {
      "cell_type": "code",
      "source": [
        "idade = 10 #Aqui estou modificando o valor da da variável idade"
      ],
      "metadata": {
        "id": "5m0dU6SINDs9"
      },
      "execution_count": null,
      "outputs": []
    },
    {
      "cell_type": "code",
      "source": [
        "print (idade) #saída do novo valor da idade"
      ],
      "metadata": {
        "colab": {
          "base_uri": "https://localhost:8080/"
        },
        "id": "I34grd0nN1sz",
        "outputId": "887454c1-20e1-4204-8874-d8db89d34f22"
      },
      "execution_count": null,
      "outputs": [
        {
          "output_type": "stream",
          "name": "stdout",
          "text": [
            "10\n"
          ]
        }
      ]
    },
    {
      "cell_type": "markdown",
      "source": [
        "* Se passou mais 5 anos, o mesmo estudante agora tem 15 anos é preciso modificar a sua idade."
      ],
      "metadata": {
        "id": "-VA6eJC7OM6X"
      }
    },
    {
      "cell_type": "code",
      "source": [
        "idade = 15 #troquei novamente a sua idade"
      ],
      "metadata": {
        "id": "v9EvUyZ-OMKv"
      },
      "execution_count": null,
      "outputs": []
    },
    {
      "cell_type": "code",
      "source": [
        "idade #Essa aqui é outra forma de vizualizar a variável idade. O notebook executará todas as linhas, atribuirá o valor 15 à variável e lerá apenas o valor de idade."
      ],
      "metadata": {
        "colab": {
          "base_uri": "https://localhost:8080/"
        },
        "id": "faDp94HSOGfs",
        "outputId": "66c1dd20-635d-4b0d-dea7-619595e95baa"
      },
      "execution_count": null,
      "outputs": [
        {
          "output_type": "execute_result",
          "data": {
            "text/plain": [
              "15"
            ]
          },
          "metadata": {},
          "execution_count": 16
        }
      ]
    },
    {
      "cell_type": "markdown",
      "source": [
        "⚠️**Lembrando** que usar apenas o nome, como neste caso, idade, só funciona quando está na última linha da célula."
      ],
      "metadata": {
        "id": "7R9AdHVGPo2H"
      }
    },
    {
      "cell_type": "code",
      "source": [
        "nome = 'Gabriel'\n",
        "nome"
      ],
      "metadata": {
        "colab": {
          "base_uri": "https://localhost:8080/",
          "height": 35
        },
        "id": "hcYy05AdO1oA",
        "outputId": "0c4dbb43-dc5f-42a0-c633-4d049e9c2c0f"
      },
      "execution_count": null,
      "outputs": [
        {
          "output_type": "execute_result",
          "data": {
            "text/plain": [
              "'Gabriel'"
            ],
            "application/vnd.google.colaboratory.intrinsic+json": {
              "type": "string"
            }
          },
          "metadata": {},
          "execution_count": 17
        }
      ]
    },
    {
      "cell_type": "markdown",
      "source": [
        "## 2.2 Tipos de variáveis\n",
        "\n",
        "Cada **variável contém uma classe específica** quanto ao tipo de objeto que ela está referenciando. Essas classes vão ser diferentes a partir do **tipo de dado que nós atribuimos a uma variável**."
      ],
      "metadata": {
        "id": "-D-4zsD0USef"
      }
    },
    {
      "cell_type": "markdown",
      "source": [
        "![Captura de tela 2025-07-09 151950.png](data:image/png;base64,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)"
      ],
      "metadata": {
        "id": "kioZFAdoazkK"
      }
    },
    {
      "cell_type": "markdown",
      "source": [
        "\n",
        "\n",
        "*   ***Exemplo***\n",
        "\n"
      ],
      "metadata": {
        "id": "8_yI8svHa6qS"
      }
    },
    {
      "cell_type": "code",
      "source": [
        "i = 5\n",
        "type (i) # Para saber a classe de cada elemento, usamos a função type()"
      ],
      "metadata": {
        "colab": {
          "base_uri": "https://localhost:8080/"
        },
        "id": "u0-zcTALbi1O",
        "outputId": "729bf7d9-3ee2-4fee-da7f-ccb34e7ae560"
      },
      "execution_count": 1,
      "outputs": [
        {
          "output_type": "execute_result",
          "data": {
            "text/plain": [
              "int"
            ]
          },
          "metadata": {},
          "execution_count": 1
        }
      ]
    },
    {
      "cell_type": "markdown",
      "source": [
        "⚠️ O Python está dizendo que **i** é uma variável de tipo **inteiro**."
      ],
      "metadata": {
        "id": "oXqD4uw0b9sc"
      }
    },
    {
      "cell_type": "code",
      "source": [
        "f = 20.13\n",
        "type (f)"
      ],
      "metadata": {
        "colab": {
          "base_uri": "https://localhost:8080/"
        },
        "id": "EAPcmdlZbzqR",
        "outputId": "5fab139c-326a-4b95-a42e-cff0ba5dc59e"
      },
      "execution_count": 2,
      "outputs": [
        {
          "output_type": "execute_result",
          "data": {
            "text/plain": [
              "float"
            ]
          },
          "metadata": {},
          "execution_count": 2
        }
      ]
    },
    {
      "cell_type": "markdown",
      "source": [
        "⚠️ O Python está dizendo que **f** é uma variável de tipo **float (decimal)**."
      ],
      "metadata": {
        "id": "iudGc1JyciTe"
      }
    },
    {
      "cell_type": "code",
      "source": [
        "s = 'Alexandra'\n",
        "type (s)"
      ],
      "metadata": {
        "colab": {
          "base_uri": "https://localhost:8080/"
        },
        "id": "qKopaNRBchoF",
        "outputId": "52e1830f-ca5c-492f-da15-17b5968da740"
      },
      "execution_count": 3,
      "outputs": [
        {
          "output_type": "execute_result",
          "data": {
            "text/plain": [
              "str"
            ]
          },
          "metadata": {},
          "execution_count": 3
        }
      ]
    },
    {
      "cell_type": "markdown",
      "source": [
        "⚠️ O Python está dizendo que **s** é uma variável de tipo **string (texto)**."
      ],
      "metadata": {
        "id": "b80ZUcFBc5z9"
      }
    },
    {
      "cell_type": "code",
      "source": [
        "b = False\n",
        "type (b)\n"
      ],
      "metadata": {
        "colab": {
          "base_uri": "https://localhost:8080/"
        },
        "id": "EnvekGV6cc5f",
        "outputId": "c3002454-f1ac-4c48-dd74-4df1d3943833"
      },
      "execution_count": 4,
      "outputs": [
        {
          "output_type": "execute_result",
          "data": {
            "text/plain": [
              "bool"
            ]
          },
          "metadata": {},
          "execution_count": 4
        }
      ]
    },
    {
      "cell_type": "markdown",
      "source": [
        "⚠️ O Python está dizendo que **b** é uma variável de tipo **bool (lógico)**."
      ],
      "metadata": {
        "id": "BW0T8JS5dJXu"
      }
    },
    {
      "cell_type": "markdown",
      "source": [
        "*Situação hipotética*\n",
        "\n",
        "\n",
        "* A equipe de dados pediu para eu criar uma ficha do aluno \"Monkey D. Luffy\".\n",
        "\n",
        "É preciso criar variáveis que armazenem os dados da ficha desse aluno. São eles:\n",
        "\n",
        "* **Nome:** Monkey D. Luffy\n",
        "* **Idade:** 15 anos\n",
        "* **Media do semestre:** 8,45\n",
        "* **Situaçao de aprovação:** Verdadeira (aprovado)\n",
        "\n",
        "Na célula abaixo, conseguimos criar esses valores.\n",
        "\n"
      ],
      "metadata": {
        "id": "NBGg3yyWdjUJ"
      }
    },
    {
      "cell_type": "code",
      "source": [
        "nome_aluno = 'Monkey D.Luffy'\n",
        "idade_aluno = 15\n",
        "media_aluno = 8.45\n",
        "situacao_aprovado = True\n",
        "# se usa underline para substituir o espaço e manter a variável única\n",
        "\n",
        "print (nome_aluno, idade_aluno, media_aluno, situacao_aprovado) #imprimir os resultados"
      ],
      "metadata": {
        "colab": {
          "base_uri": "https://localhost:8080/"
        },
        "id": "eTPF4E_Veijc",
        "outputId": "9e1a6599-5da3-4c5f-9d31-d275b9d3d8f7"
      },
      "execution_count": 5,
      "outputs": [
        {
          "output_type": "stream",
          "name": "stdout",
          "text": [
            "Monkey D.Luffy 15 8.45 True\n"
          ]
        }
      ]
    },
    {
      "cell_type": "markdown",
      "source": [
        "## 2.3 Operações com valores numéricos\n",
        "\n",
        "Abaixo, uma tabela descrevendo a **função dos operadores** e sua **sintaxe de uso**, sendo **a** e **b** variáveis numéricas:"
      ],
      "metadata": {
        "id": "_zevrw88i-oN"
      }
    },
    {
      "cell_type": "markdown",
      "source": [
        "![Captura de tela 2025-07-09 160243.png](data:image/png;base64,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)"
      ],
      "metadata": {
        "id": "tHPlPFUzk0gN"
      }
    },
    {
      "cell_type": "markdown",
      "source": [
        "Além deles, existem também **funções** que podem ser aplicadas a valores numéricos para executar outros cálculos:\n"
      ],
      "metadata": {
        "id": "vNlW8Lqnk_xz"
      }
    },
    {
      "cell_type": "markdown",
      "source": [
        " * **Função** *abs*: retorna o valor absoluto da variável, ou seja, seu valor positivo."
      ],
      "metadata": {
        "id": "Z5GIvYVVl0Mg"
      }
    },
    {
      "cell_type": "code",
      "source": [
        "#Sintaxe: abs(variavel)\n",
        "abs (-3)"
      ],
      "metadata": {
        "colab": {
          "base_uri": "https://localhost:8080/"
        },
        "id": "Dob41g6CmGSR",
        "outputId": "939d5ae1-51d3-4a4c-918b-f22a31ce0efe"
      },
      "execution_count": 6,
      "outputs": [
        {
          "output_type": "execute_result",
          "data": {
            "text/plain": [
              "3"
            ]
          },
          "metadata": {},
          "execution_count": 6
        }
      ]
    },
    {
      "cell_type": "markdown",
      "source": [
        "* **Função** *round*: retorna o número arrendondado com uma precisão definida *n* casas decimais após o ponto decimal. Se não especificarmos as casas, será retornado o inteiro mais as casas, será retornado o inteiro mais próximo do ponto flutuante."
      ],
      "metadata": {
        "id": "UeNltpjWmYOE"
      }
    },
    {
      "cell_type": "code",
      "source": [
        "#Sintaxe: round(variavel, numero_de_casas)\n",
        "round(14.3213,2)"
      ],
      "metadata": {
        "colab": {
          "base_uri": "https://localhost:8080/"
        },
        "id": "9fB-mxH2mRY9",
        "outputId": "ccf194af-fb6a-46d2-dd8c-88a19689b637"
      },
      "execution_count": 7,
      "outputs": [
        {
          "output_type": "execute_result",
          "data": {
            "text/plain": [
              "14.32"
            ]
          },
          "metadata": {},
          "execution_count": 7
        }
      ]
    },
    {
      "cell_type": "markdown",
      "source": [
        "* **Função** *pow*: retorna a potenciação de uma base por seu expoente, funciona do mesmo modo que o operador **."
      ],
      "metadata": {
        "id": "Qc0j_d_jnEnl"
      }
    },
    {
      "cell_type": "code",
      "source": [
        "#Sintaxe: pow(base, expoente)\n",
        "pow(3,2)"
      ],
      "metadata": {
        "colab": {
          "base_uri": "https://localhost:8080/"
        },
        "id": "LujZHLsonCoj",
        "outputId": "4b6ead2f-c5e3-4ef0-d4b1-f7ee82774e07"
      },
      "execution_count": 8,
      "outputs": [
        {
          "output_type": "execute_result",
          "data": {
            "text/plain": [
              "9"
            ]
          },
          "metadata": {},
          "execution_count": 8
        }
      ]
    },
    {
      "cell_type": "markdown",
      "source": [
        "## 2.2.3 Variáveis numéricas\n",
        "\n",
        "Entre os tipos de dados numéricos vamos nos focar no tipo `inteiro` e `float`.\n",
        "\n",
        "Temos uma tabela de informação de empregos quanto ao cargo, quantidade de pessoas empregadas e o salário correspondente:\n",
        "\n",
        "|Cargo | Quantidade | Salário|\n",
        "|---|---|---|\n",
        "|Segurança | 5 | 3000 |\n",
        "|Docente | 16| 6000|\n",
        "|Diretoria| 1 |12500|\n",
        "\n",
        "Precisamos trabalhar com esses dados fornecendo:\n",
        "\n",
        "- A quantidade total de empregados;\n",
        "- A diferença entre o salário mais baixo e mais alto; e\n",
        "- A média ponderada da faixa salarial da escola."
      ],
      "metadata": {
        "id": "vogbdJlHohlx"
      }
    },
    {
      "cell_type": "code",
      "source": [
        "q_seguranca = 5\n",
        "s_seguranca = 3000\n",
        "\n",
        "q_docente = 16\n",
        "s_docente = 6000\n",
        "\n",
        "q_diretoria = 1\n",
        "s_diretoria = 12500"
      ],
      "metadata": {
        "id": "HJlK-LGXo93v"
      },
      "execution_count": 9,
      "outputs": []
    },
    {
      "cell_type": "code",
      "source": [],
      "metadata": {
        "id": "mZf6xdSTo--S"
      },
      "execution_count": null,
      "outputs": []
    }
  ]
}