{
  "nbformat": 4,
  "nbformat_minor": 0,
  "metadata": {
    "colab": {
      "provenance": [],
      "toc_visible": true,
      "authorship_tag": "ABX9TyPKtcqENXsMyG6tAlqqHNwV",
      "include_colab_link": true
    },
    "kernelspec": {
      "name": "python3",
      "display_name": "Python 3"
    },
    "language_info": {
      "name": "python"
    }
  },
  "cells": [
    {
      "cell_type": "markdown",
      "metadata": {
        "id": "view-in-github",
        "colab_type": "text"
      },
      "source": [
        "<a href=\"https://colab.research.google.com/github/4Alehxandr4/python-para-data-science/blob/main/python_para_data_science.ipynb\" target=\"_parent\"><img src=\"https://colab.research.google.com/assets/colab-badge.svg\" alt=\"Open In Colab\"/></a>"
      ]
    },
    {
      "cell_type": "markdown",
      "source": [
        "#Python para Data Science\n",
        "\n",
        "*Meu notebook de estudos sobre Python aplicado à Ciência de Dados.*\n",
        "\n",
        "Aqui você vai encontrar anotações, exercícios, gráficos e mini projetos que estou desenvolvendo ao longo do meu aprendizado com a linguagem Python."
      ],
      "metadata": {
        "id": "F-h2kj-I7t7F"
      }
    },
    {
      "cell_type": "markdown",
      "source": [
        "# Notebook\n",
        "\n",
        "Um **Notebook** é como um caderno digital, usado para contar uma história com dados e códigos. Nele, escrevemos passo a passo a nossa lógica de raciocínio, desde o problema até a solução.\n",
        "\n",
        "No notebook, você pode usar dois tipos de **blocos**, também chamados de **células**:\n",
        "\n",
        "- **Blocos de textos:** para explicar o contexto, os objetivos do projeto, conclusões etc.\n",
        "- **Blocos de códigos:**  para programar, explorar dados, criar gráficos e mais."
      ],
      "metadata": {
        "id": "d26CbyF28hgN"
      }
    },
    {
      "cell_type": "code",
      "execution_count": null,
      "metadata": {
        "id": "gTAszKgv7s0b"
      },
      "outputs": [],
      "source": []
    }
  ]
}