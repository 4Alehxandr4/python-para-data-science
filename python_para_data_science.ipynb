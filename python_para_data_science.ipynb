{
  "nbformat": 4,
  "nbformat_minor": 0,
  "metadata": {
    "colab": {
      "provenance": [],
      "toc_visible": true,
      "authorship_tag": "ABX9TyMxdMe9JqBLaT+bY0xzWuZF",
      "include_colab_link": true
    },
    "kernelspec": {
      "name": "python3",
      "display_name": "Python 3"
    },
    "language_info": {
      "name": "python"
    }
  },
  "cells": [
    {
      "cell_type": "markdown",
      "metadata": {
        "id": "view-in-github",
        "colab_type": "text"
      },
      "source": [
        "<a href=\"https://colab.research.google.com/github/4Alehxandr4/python-para-data-science/blob/main/python_para_data_science.ipynb\" target=\"_parent\"><img src=\"https://colab.research.google.com/assets/colab-badge.svg\" alt=\"Open In Colab\"/></a>"
      ]
    },
    {
      "cell_type": "markdown",
      "source": [
        "#Python para Data Science\n",
        "\n",
        "*Meu notebook de estudos sobre Python aplicado à Ciência de Dados.*\n",
        "\n",
        "Aqui você vai encontrar anotações, exercícios, gráficos e mini projetos que estou desenvolvendo ao longo do meu aprendizado com a linguagem Python."
      ],
      "metadata": {
        "id": "F-h2kj-I7t7F"
      }
    },
    {
      "cell_type": "markdown",
      "source": [
        "# Notebook\n",
        "\n",
        "Um **Notebook** é como um caderno digital, usado para contar uma história com dados e códigos. Nele, escrevemos passo a passo a nossa lógica de raciocínio, desde o problema até a solução.\n",
        "\n",
        "No notebook, você pode usar dois tipos de **blocos**, também chamados de **células**:\n",
        "\n",
        "- **Blocos de textos:** para explicar o contexto, os objetivos do projeto, conclusões etc.\n",
        "- **Blocos de códigos:**  para programar, explorar dados, criar gráficos e mais."
      ],
      "metadata": {
        "id": "d26CbyF28hgN"
      }
    },
    {
      "cell_type": "markdown",
      "source": [
        "# 1. Introdução ao Python: Meus primeiros passos na linguagem\n",
        "\n",
        "Python é uma **linguagem de programação versátil**, fácil de aprender e com uma **sintaxe clara** que  permite focar na lógica do problema, sem complicações técnicas.\n",
        "\n",
        "Ela conta com muitas **bibliotecas** prontas, como:\n",
        "\n",
        "* **NumPy** (cálculos),\n",
        "\n",
        "* **Pandas** (análise de dados),\n",
        "\n",
        "* **Matplotlib** (gráficos).\n",
        "\n",
        "Além disso, é **multiplataforma**, ou seja, funciona em Windows, Mac e Linux, facilitando o uso em diferentes computadores.\n",
        "\n"
      ],
      "metadata": {
        "id": "6rOQ2T1e-4F2"
      }
    },
    {
      "cell_type": "markdown",
      "source": [
        "## → Comando\n",
        "Os comandos básicos em Python variam de acordo com o tipo de variável manipulada. Existem **operações possíveis com valores numéricos** e também **manipulações possíveis para strings(valores textuais)**.\n",
        "\n",
        "Dentre os comandos básicos gerais podemos citar o **print()** e o **input()**, que conseguimos utilizar com as\n",
        "variáveis."
      ],
      "metadata": {
        "id": "KDHCYIHAGsEm"
      }
    },
    {
      "cell_type": "markdown",
      "source": [
        "**Python é uma linguagem de programação de uso um geral.** Isso significa que ela pode ser usada para criar diversos tipos de aplicações"
      ],
      "metadata": {
        "id": "rk9pRLxj03S8"
      }
    },
    {
      "cell_type": "markdown",
      "source": [
        "###Função print ( )\n",
        "A **função print** é utilizada para exibir informações na tela, ou seja, ela imprime ou exibe o conteúdo passado como argumento. Um exemplo de uso dessa função é o seguinte código:"
      ],
      "metadata": {
        "id": "vU6QpqmR32Pk"
      }
    },
    {
      "cell_type": "code",
      "execution_count": 2,
      "metadata": {
        "colab": {
          "base_uri": "https://localhost:8080/"
        },
        "id": "S1aOH4Q1MS57",
        "outputId": "85a5478d-fc06-4c46-d6a0-9d502b7d1f76"
      },
      "outputs": [
        {
          "output_type": "stream",
          "name": "stdout",
          "text": [
            "Olá Mundo!\n"
          ]
        }
      ],
      "source": [
        "print ('Olá Mundo!')"
      ]
    },
    {
      "cell_type": "markdown",
      "source": [
        "O **print()** não imprime apenas textos, mas números e também é possível imprimir vários dados em conjunto dentro dessa função"
      ],
      "metadata": {
        "id": "_bXdZKT05HBb"
      }
    },
    {
      "cell_type": "code",
      "source": [
        "print (2013)"
      ],
      "metadata": {
        "colab": {
          "base_uri": "https://localhost:8080/"
        },
        "id": "rXZ5ATxL6Uli",
        "outputId": "fa58ea3d-29fa-40da-d8d1-957d632a984e"
      },
      "execution_count": 3,
      "outputs": [
        {
          "output_type": "stream",
          "name": "stdout",
          "text": [
            "2013\n"
          ]
        }
      ]
    },
    {
      "cell_type": "code",
      "source": [
        "print ('Alexandra,', 19)"
      ],
      "metadata": {
        "colab": {
          "base_uri": "https://localhost:8080/"
        },
        "id": "8T8OHsCd_KjP",
        "outputId": "5574099a-d3d5-48a3-bd5e-5399ed691a3a"
      },
      "execution_count": 4,
      "outputs": [
        {
          "output_type": "stream",
          "name": "stdout",
          "text": [
            "Alexandra, 19\n"
          ]
        }
      ]
    },
    {
      "cell_type": "markdown",
      "source": [
        "####Primeiro Desafio"
      ],
      "metadata": {
        "id": "3zQ25V5p_drq"
      }
    },
    {
      "cell_type": "code",
      "source": [
        "print ('Escola de Dados da Alura!')"
      ],
      "metadata": {
        "colab": {
          "base_uri": "https://localhost:8080/"
        },
        "id": "R8GyaK11_otU",
        "outputId": "17f0b63f-37b4-4d31-b2b2-5d7a0f2d65f4"
      },
      "execution_count": 5,
      "outputs": [
        {
          "output_type": "stream",
          "name": "stdout",
          "text": [
            "Escola de Dados da Alura!\n"
          ]
        }
      ]
    },
    {
      "cell_type": "markdown",
      "source": [
        "*Quando colocamos dois print em sequência (um abaixo do outro) conseguimos obter uma quebra de linhas:*"
      ],
      "metadata": {
        "id": "elrgMpwqCi75"
      }
    },
    {
      "cell_type": "code",
      "source": [
        "print ('Nome: Alexandra')\n",
        "print('Sobrenome: Rocha')"
      ],
      "metadata": {
        "colab": {
          "base_uri": "https://localhost:8080/"
        },
        "id": "yH0rPp0zAIn-",
        "outputId": "7a11b639-3206-4c36-9307-a4d00d0fa076"
      },
      "execution_count": 6,
      "outputs": [
        {
          "output_type": "stream",
          "name": "stdout",
          "text": [
            "Nome: Alexandra\n",
            "Sobrenome: Rocha\n"
          ]
        }
      ]
    },
    {
      "cell_type": "markdown",
      "source": [
        "*Se você quiser que o texto pule linha dentro do print(), use o \\\\n (que significa “nova linha”):*"
      ],
      "metadata": {
        "id": "QhzlMZl6CusT"
      }
    },
    {
      "cell_type": "code",
      "source": [
        "print ('A\\nL\\nE\\nX\\nA\\nN\\nD\\nD\\nR\\nA')"
      ],
      "metadata": {
        "colab": {
          "base_uri": "https://localhost:8080/"
        },
        "id": "wIuaXnxGBRIA",
        "outputId": "71e93a12-3153-4f5b-ff08-e6df4184bd07"
      },
      "execution_count": 7,
      "outputs": [
        {
          "output_type": "stream",
          "name": "stdout",
          "text": [
            "A\n",
            "L\n",
            "E\n",
            "X\n",
            "A\n",
            "N\n",
            "D\n",
            "D\n",
            "R\n",
            "A\n"
          ]
        }
      ]
    },
    {
      "cell_type": "code",
      "source": [
        "print(28, 'Abril' ,2006)"
      ],
      "metadata": {
        "colab": {
          "base_uri": "https://localhost:8080/"
        },
        "id": "f-tlXZoqB_Ar",
        "outputId": "dfe935dc-0ca5-45b4-a025-42cef2464f89"
      },
      "execution_count": 8,
      "outputs": [
        {
          "output_type": "stream",
          "name": "stdout",
          "text": [
            "28 Abril 2006\n"
          ]
        }
      ]
    },
    {
      "cell_type": "code",
      "source": [
        "print ('Ano atual:',2025)"
      ],
      "metadata": {
        "colab": {
          "base_uri": "https://localhost:8080/"
        },
        "id": "kZsuhLX-CNMc",
        "outputId": "b6b45a1f-1c1c-4a6d-8b85-d2ac48e66c98"
      },
      "execution_count": 9,
      "outputs": [
        {
          "output_type": "stream",
          "name": "stdout",
          "text": [
            "Ano atual: 2025\n"
          ]
        }
      ]
    },
    {
      "cell_type": "markdown",
      "source": [
        "# Variáveis\n",
        "\n",
        "Podemos entender as **variáveis** como nomes que armazenam valores. Se quisermos acessar uma informação, usamos o nome da variável para isso.\n",
        "\n",
        "Em **Python, não é necessário definir o tipo da variável previamente**, pois o tipo é **determinado automaticamente pelo valor atribuído**, isso se chama ***tipagem dinâmica***.\n",
        "\n",
        "✅ Com isso:\n",
        "\n",
        "* Podemos **atribuir qualquer tipo de valor** a uma variável (texto, número, etc.).\n",
        "\n",
        "* Podemos **alterar esse valor a qualquer momento**, trocando por outro dado diferente.\n",
        "\n",
        "\n",
        "\n"
      ],
      "metadata": {
        "id": "qv7o8qmHCcEq"
      }
    },
    {
      "cell_type": "markdown",
      "source": [
        "###Regras para Variáveis\n",
        "Nomes que **não** podemos definir para variáveis:\n",
        "\n",
        "* Nomes que **começam com números**. **Exemplos**: 10_notas, 2_nomes_casa.\n",
        "\n",
        "* Palavras **separadas por espaço**. **Exemplos**: Nome escola, notas estudantes.\n",
        "\n",
        "* **Nomes de funções** do Python. **Exemplos**: print, type.\n",
        "\n",
        "Letras **maiúsculas** e **minúscula**s vão gerar **diferentes** variáveis. A variável **idadeé** diferente de **Idade**, que por sua vez, também é diferente de **IDADE**."
      ],
      "metadata": {
        "id": "IHLXH-sTK6cx"
      }
    },
    {
      "cell_type": "code",
      "source": [
        "idade = 1\n",
        "\n",
        "Idade = 2\n",
        "\n",
        "IDADE = 3\n",
        "\n",
        "_idade = 4\n",
        "\n",
        "_idade_ = 5\n",
        "\n",
        "print(idade, Idade, IDADE, _idade, _idade_)"
      ],
      "metadata": {
        "colab": {
          "base_uri": "https://localhost:8080/"
        },
        "id": "TlutdF9SIsS1",
        "outputId": "5077587c-52ba-407d-acba-9a0854ee9ecc"
      },
      "execution_count": 10,
      "outputs": [
        {
          "output_type": "stream",
          "name": "stdout",
          "text": [
            "1 2 3 4 5\n"
          ]
        }
      ]
    },
    {
      "cell_type": "markdown",
      "source": [
        "## → Atribuição\n",
        "*Situação hipotética*\n",
        "\n",
        "\n",
        "*  Eu preciso trabalhar com a idade de um estudante qualquer de na minha escola, para armazenarmos a idade desse aluno, é preciso criar uma variável.\n",
        "\n",
        "\n"
      ],
      "metadata": {
        "id": "1Ab6_BrmJb1t"
      }
    },
    {
      "cell_type": "code",
      "source": [
        "idade = 5 #Aqui estou ligando a váriavel 'idade' ao ao valor"
      ],
      "metadata": {
        "id": "5OzkEYpPLoSJ"
      },
      "execution_count": 18,
      "outputs": []
    },
    {
      "cell_type": "markdown",
      "source": [
        "⚠️ **Shift + Enter** para que o dado seja salvo na memória do executador"
      ],
      "metadata": {
        "id": "ZGvj5s_UMNuR"
      }
    },
    {
      "cell_type": "code",
      "source": [
        "print (idade) #saída do valor"
      ],
      "metadata": {
        "colab": {
          "base_uri": "https://localhost:8080/"
        },
        "id": "UhTImp57MGox",
        "outputId": "6c2b7a74-5cd7-4a8b-956d-66ccff96fe49"
      },
      "execution_count": 12,
      "outputs": [
        {
          "output_type": "stream",
          "name": "stdout",
          "text": [
            "5\n"
          ]
        }
      ]
    },
    {
      "cell_type": "markdown",
      "source": [
        "\n",
        "\n",
        "*   Se passou 5 anos,  o mesmo estudante agora tem 10 anos é preciso alterar a sua idade.\n",
        "\n"
      ],
      "metadata": {
        "id": "a2EUCRpCNUSQ"
      }
    },
    {
      "cell_type": "code",
      "source": [
        "idade = 10 #Aqui estou modificando o valor da da variável idade"
      ],
      "metadata": {
        "id": "5m0dU6SINDs9"
      },
      "execution_count": 13,
      "outputs": []
    },
    {
      "cell_type": "code",
      "source": [
        "print (idade) #saída do novo valor da idade"
      ],
      "metadata": {
        "colab": {
          "base_uri": "https://localhost:8080/"
        },
        "id": "I34grd0nN1sz",
        "outputId": "887454c1-20e1-4204-8874-d8db89d34f22"
      },
      "execution_count": 14,
      "outputs": [
        {
          "output_type": "stream",
          "name": "stdout",
          "text": [
            "10\n"
          ]
        }
      ]
    },
    {
      "cell_type": "markdown",
      "source": [
        "* Se passou mais 5 anos, o mesmo estudante agora tem 15 anos é preciso modificar a sua idade."
      ],
      "metadata": {
        "id": "-VA6eJC7OM6X"
      }
    },
    {
      "cell_type": "code",
      "source": [
        "idade = 15 #troquei novamente a sua idade"
      ],
      "metadata": {
        "id": "v9EvUyZ-OMKv"
      },
      "execution_count": 15,
      "outputs": []
    },
    {
      "cell_type": "code",
      "source": [
        "idade #Essa aqui é outra forma de vizualizar a variável idade. O notebook executará todas as linhas, atribuirá o valor 15 à variável e lerá apenas o valor de idade."
      ],
      "metadata": {
        "colab": {
          "base_uri": "https://localhost:8080/"
        },
        "id": "faDp94HSOGfs",
        "outputId": "66c1dd20-635d-4b0d-dea7-619595e95baa"
      },
      "execution_count": 16,
      "outputs": [
        {
          "output_type": "execute_result",
          "data": {
            "text/plain": [
              "15"
            ]
          },
          "metadata": {},
          "execution_count": 16
        }
      ]
    },
    {
      "cell_type": "markdown",
      "source": [
        "⚠️**Lembrando** que usar apenas o nome, como neste caso, idade, só funciona quando está na última linha da célula."
      ],
      "metadata": {
        "id": "7R9AdHVGPo2H"
      }
    },
    {
      "cell_type": "code",
      "source": [
        "nome = 'Gabriel'\n",
        "nome"
      ],
      "metadata": {
        "colab": {
          "base_uri": "https://localhost:8080/",
          "height": 35
        },
        "id": "hcYy05AdO1oA",
        "outputId": "0c4dbb43-dc5f-42a0-c633-4d049e9c2c0f"
      },
      "execution_count": 17,
      "outputs": [
        {
          "output_type": "execute_result",
          "data": {
            "text/plain": [
              "'Gabriel'"
            ],
            "application/vnd.google.colaboratory.intrinsic+json": {
              "type": "string"
            }
          },
          "metadata": {},
          "execution_count": 17
        }
      ]
    }
  ]
}