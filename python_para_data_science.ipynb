{
  "nbformat": 4,
  "nbformat_minor": 0,
  "metadata": {
    "colab": {
      "provenance": [],
      "authorship_tag": "ABX9TyPBi8HiPRMoPrubzpkp5vS9",
      "include_colab_link": true
    },
    "kernelspec": {
      "name": "python3",
      "display_name": "Python 3"
    },
    "language_info": {
      "name": "python"
    }
  },
  "cells": [
    {
      "cell_type": "markdown",
      "metadata": {
        "id": "view-in-github",
        "colab_type": "text"
      },
      "source": [
        "<a href=\"https://colab.research.google.com/github/4Alehxandr4/python-para-data-science/blob/main/python_para_data_science.ipynb\" target=\"_parent\"><img src=\"https://colab.research.google.com/assets/colab-badge.svg\" alt=\"Open In Colab\"/></a>"
      ]
    },
    {
      "cell_type": "markdown",
      "source": [
        "#Python para Data Science\n",
        "\n",
        "*Meu notebook de estudos sobre Python aplicado à Ciência de Dados.*\n",
        "\n",
        "Aqui você vai encontrar anotações, exercícios, gráficos e mini projetos que estou desenvolvendo ao longo do meu aprendizado com a linguagem Python."
      ],
      "metadata": {
        "id": "F-h2kj-I7t7F"
      }
    },
    {
      "cell_type": "markdown",
      "source": [
        "# Notebook\n",
        "\n",
        "Um **Notebook** é como um caderno digital, usado para contar uma história com dados e códigos. Nele, escrevemos passo a passo a nossa lógica de raciocínio, desde o problema até a solução.\n",
        "\n",
        "No notebook, você pode usar dois tipos de **blocos**, também chamados de **células**:\n",
        "\n",
        "- **Blocos de textos:** para explicar o contexto, os objetivos do projeto, conclusões etc.\n",
        "- **Blocos de códigos:**  para programar, explorar dados, criar gráficos e mais."
      ],
      "metadata": {
        "id": "d26CbyF28hgN"
      }
    },
    {
      "cell_type": "markdown",
      "source": [
        "# 1. Introdução ao Python: Meus primeiros passos na linguagem\n",
        "\n",
        "Python é uma **linguagem de programação versátil**, fácil de aprender e com uma **sintaxe clara** que  permite focar na lógica do problema, sem complicações técnicas.\n",
        "\n",
        "Ela conta com muitas **bibliotecas** prontas, como:\n",
        "\n",
        "* **NumPy** (cálculos),\n",
        "\n",
        "* **Pandas** (análise de dados),\n",
        "\n",
        "* **Matplotlib** (gráficos).\n",
        "\n",
        "Além disso, é **multiplataforma**, ou seja, funciona em Windows, Mac e Linux, facilitando o uso em diferentes computadores.\n",
        "\n"
      ],
      "metadata": {
        "id": "6rOQ2T1e-4F2"
      }
    },
    {
      "cell_type": "markdown",
      "source": [
        "## 1.1 Comando\n",
        "Os comandos básicos em Python variam de acordo com o tipo de variável manipulada. Existem **operações possíveis com valores numéricos** e também **manipulações possíveis para strings(valores textuais)**.\n",
        "\n",
        "Dentre os comandos básicos gerais podemos citar o **print()** e o **input()**, que conseguimos utilizar com as\n",
        "variáveis."
      ],
      "metadata": {
        "id": "KDHCYIHAGsEm"
      }
    },
    {
      "cell_type": "markdown",
      "source": [
        "### → Função print ( )\n",
        "A **função print** é utilizada para exibir informações na tela, ou seja, ela imprime ou exibe o conteúdo passado como argumento. Um exemplo de uso dessa função é o seguinte código:"
      ],
      "metadata": {
        "id": "vU6QpqmR32Pk"
      }
    },
    {
      "cell_type": "code",
      "execution_count": null,
      "metadata": {
        "colab": {
          "base_uri": "https://localhost:8080/"
        },
        "id": "S1aOH4Q1MS57",
        "outputId": "85a5478d-fc06-4c46-d6a0-9d502b7d1f76"
      },
      "outputs": [
        {
          "output_type": "stream",
          "name": "stdout",
          "text": [
            "Olá Mundo!\n"
          ]
        }
      ],
      "source": [
        "print('Olá Mundo!')"
      ]
    },
    {
      "cell_type": "markdown",
      "source": [
        "O **print()** não imprime apenas textos, mas números e também é possível imprimir vários dados em conjunto dentro dessa função"
      ],
      "metadata": {
        "id": "_bXdZKT05HBb"
      }
    },
    {
      "cell_type": "code",
      "source": [
        "print (2013)"
      ],
      "metadata": {
        "colab": {
          "base_uri": "https://localhost:8080/"
        },
        "id": "rXZ5ATxL6Uli",
        "outputId": "fa58ea3d-29fa-40da-d8d1-957d632a984e"
      },
      "execution_count": null,
      "outputs": [
        {
          "output_type": "stream",
          "name": "stdout",
          "text": [
            "2013\n"
          ]
        }
      ]
    },
    {
      "cell_type": "code",
      "source": [
        "print ('Alexandra,', 19)"
      ],
      "metadata": {
        "colab": {
          "base_uri": "https://localhost:8080/"
        },
        "id": "8T8OHsCd_KjP",
        "outputId": "5574099a-d3d5-48a3-bd5e-5399ed691a3a"
      },
      "execution_count": null,
      "outputs": [
        {
          "output_type": "stream",
          "name": "stdout",
          "text": [
            "Alexandra, 19\n"
          ]
        }
      ]
    },
    {
      "cell_type": "markdown",
      "source": [
        "####*  Primeiro Desafio"
      ],
      "metadata": {
        "id": "3zQ25V5p_drq"
      }
    },
    {
      "cell_type": "code",
      "source": [
        "print('Escola de Dados da Alura!')"
      ],
      "metadata": {
        "colab": {
          "base_uri": "https://localhost:8080/"
        },
        "id": "R8GyaK11_otU",
        "outputId": "17f0b63f-37b4-4d31-b2b2-5d7a0f2d65f4"
      },
      "execution_count": null,
      "outputs": [
        {
          "output_type": "stream",
          "name": "stdout",
          "text": [
            "Escola de Dados da Alura!\n"
          ]
        }
      ]
    },
    {
      "cell_type": "markdown",
      "source": [
        "*Quando colocamos dois print em sequência (um abaixo do outro) conseguimos obter uma quebra de linhas:*"
      ],
      "metadata": {
        "id": "elrgMpwqCi75"
      }
    },
    {
      "cell_type": "code",
      "source": [
        "print('Nome: Alexandra')\n",
        "print('Sobrenome: Rocha')"
      ],
      "metadata": {
        "colab": {
          "base_uri": "https://localhost:8080/"
        },
        "id": "yH0rPp0zAIn-",
        "outputId": "7a11b639-3206-4c36-9307-a4d00d0fa076"
      },
      "execution_count": null,
      "outputs": [
        {
          "output_type": "stream",
          "name": "stdout",
          "text": [
            "Nome: Alexandra\n",
            "Sobrenome: Rocha\n"
          ]
        }
      ]
    },
    {
      "cell_type": "markdown",
      "source": [
        "*Se você quiser que o texto pule linha dentro do print(), use o \\\\n (que significa “nova linha”):*"
      ],
      "metadata": {
        "id": "QhzlMZl6CusT"
      }
    },
    {
      "cell_type": "code",
      "source": [
        "print('A\\nL\\nE\\nX\\nA\\nN\\nD\\nD\\nR\\nA')"
      ],
      "metadata": {
        "colab": {
          "base_uri": "https://localhost:8080/"
        },
        "id": "wIuaXnxGBRIA",
        "outputId": "71e93a12-3153-4f5b-ff08-e6df4184bd07"
      },
      "execution_count": null,
      "outputs": [
        {
          "output_type": "stream",
          "name": "stdout",
          "text": [
            "A\n",
            "L\n",
            "E\n",
            "X\n",
            "A\n",
            "N\n",
            "D\n",
            "D\n",
            "R\n",
            "A\n"
          ]
        }
      ]
    },
    {
      "cell_type": "code",
      "source": [
        "print(28, 'Abril' ,2006)"
      ],
      "metadata": {
        "colab": {
          "base_uri": "https://localhost:8080/"
        },
        "id": "f-tlXZoqB_Ar",
        "outputId": "dfe935dc-0ca5-45b4-a025-42cef2464f89"
      },
      "execution_count": null,
      "outputs": [
        {
          "output_type": "stream",
          "name": "stdout",
          "text": [
            "28 Abril 2006\n"
          ]
        }
      ]
    },
    {
      "cell_type": "code",
      "source": [
        "print('Ano atual:',2025)"
      ],
      "metadata": {
        "colab": {
          "base_uri": "https://localhost:8080/"
        },
        "id": "kZsuhLX-CNMc",
        "outputId": "b6b45a1f-1c1c-4a6d-8b85-d2ac48e66c98"
      },
      "execution_count": null,
      "outputs": [
        {
          "output_type": "stream",
          "name": "stdout",
          "text": [
            "Ano atual: 2025\n"
          ]
        }
      ]
    },
    {
      "cell_type": "markdown",
      "source": [
        "### → input ( )\n",
        "\n",
        "A função **input ( )** permite a quem programa **receber dados** da pessoa\n",
        "usuária. É usado para ler e retornar uma **entrada digitada pelo usuário** como string.\n",
        "\n",
        "Para fazer essa coleta podemos atribuir essa função à uma variável.\n"
      ],
      "metadata": {
        "id": "V2q0k7gP77F7"
      }
    },
    {
      "cell_type": "code",
      "source": [
        "nome = input('Escreva o seu nome: ')"
      ],
      "metadata": {
        "colab": {
          "base_uri": "https://localhost:8080/"
        },
        "id": "k_uGVwyx84BD",
        "outputId": "69741f2c-151d-4bea-d2f5-6a50869d082d"
      },
      "execution_count": 60,
      "outputs": [
        {
          "name": "stdout",
          "output_type": "stream",
          "text": [
            "Escreva o seu nome: Alexandra\n"
          ]
        }
      ]
    },
    {
      "cell_type": "code",
      "source": [
        "nome"
      ],
      "metadata": {
        "colab": {
          "base_uri": "https://localhost:8080/",
          "height": 35
        },
        "id": "ZrSPg_taAxEp",
        "outputId": "d5d4f89b-091a-4064-c8ce-2273831e417c"
      },
      "execution_count": 61,
      "outputs": [
        {
          "output_type": "execute_result",
          "data": {
            "text/plain": [
              "'Alexandra'"
            ],
            "application/vnd.google.colaboratory.intrinsic+json": {
              "type": "string"
            }
          },
          "metadata": {},
          "execution_count": 61
        }
      ]
    },
    {
      "cell_type": "markdown",
      "source": [
        "⚠️ Note que o nome está entre aspas simples. Isso quer dizer que a **função inpu( ) sempre retorna um valor textual**. Se quisermos, por exemplo, coletar um número, temos que fazer a **conversão** dessa saída para outro tipo de valor."
      ],
      "metadata": {
        "id": "AjCswY6oA8Qs"
      }
    },
    {
      "cell_type": "markdown",
      "source": [
        "####*  Conversão de dados"
      ],
      "metadata": {
        "id": "ptzaHNCnBPFR"
      }
    },
    {
      "cell_type": "markdown",
      "source": [
        "O retorno desse comando sempre será uma *string*. Isso quer dizer que mesmo que façamos uma coleta de algo que deva ser numérico, ele será uma string.\n",
        "\n",
        "Então, será preciso **converter o resultado caso não seja desejável obter uma string**."
      ],
      "metadata": {
        "id": "7z7hcLCk_aCY"
      }
    },
    {
      "cell_type": "markdown",
      "source": [
        "Existem funções para conversão de valores:\n",
        "\n",
        "- **Inteiros:** int(dado_para_conversao) → converte o dado para o\n",
        "tipo inteiro\n",
        "- **Float:** float(dado_para_conversao) → converte o dado para o\n",
        "tipo ponto flutuante (decimal)\n",
        "- **String:** str(dado_para_conversao) → converte o dado para o\n",
        "tipo string (texto)\n",
        "- **Booleano:** bool(dado_para_conversao) → converte o dado para o\n",
        "tipo booleano (lógico)"
      ],
      "metadata": {
        "id": "TOlegATj1Jfp"
      }
    },
    {
      "cell_type": "code",
      "source": [
        "ano_entrada = input('Escreva o ano de ingresso do(a) estudante: ')"
      ],
      "metadata": {
        "id": "MQRu7y9646S9",
        "colab": {
          "base_uri": "https://localhost:8080/"
        },
        "outputId": "007647e4-a806-4629-85cb-14a976147765"
      },
      "execution_count": 62,
      "outputs": [
        {
          "name": "stdout",
          "output_type": "stream",
          "text": [
            "Escreva o ano de ingresso do(a) estudante: 2013\n"
          ]
        }
      ]
    },
    {
      "cell_type": "code",
      "source": [
        "type(ano_entrada)"
      ],
      "metadata": {
        "id": "FwezgXQA48VF",
        "colab": {
          "base_uri": "https://localhost:8080/"
        },
        "outputId": "c6fb741b-167e-4b84-d61f-2f26f3e0b529"
      },
      "execution_count": 63,
      "outputs": [
        {
          "output_type": "execute_result",
          "data": {
            "text/plain": [
              "str"
            ]
          },
          "metadata": {},
          "execution_count": 63
        }
      ]
    },
    {
      "cell_type": "code",
      "source": [
        "ano_entrada = int(input('Escreva o ano de ingresso do (a) estudante: '))"
      ],
      "metadata": {
        "id": "bbRqzmOJ49Q1",
        "colab": {
          "base_uri": "https://localhost:8080/"
        },
        "outputId": "4fc8f971-49e3-4c25-dca6-3076585576e4"
      },
      "execution_count": 64,
      "outputs": [
        {
          "name": "stdout",
          "output_type": "stream",
          "text": [
            "Escreva o ano de ingresso do (a) estudante: 2013\n"
          ]
        }
      ]
    },
    {
      "cell_type": "code",
      "source": [
        "type(ano_entrada)"
      ],
      "metadata": {
        "id": "nu5xycbG4-X1",
        "colab": {
          "base_uri": "https://localhost:8080/"
        },
        "outputId": "202b2465-50a1-4788-fcaf-0f03263aaa7a"
      },
      "execution_count": 65,
      "outputs": [
        {
          "output_type": "execute_result",
          "data": {
            "text/plain": [
              "int"
            ]
          },
          "metadata": {},
          "execution_count": 65
        }
      ]
    },
    {
      "cell_type": "markdown",
      "source": [
        "Para exibir resultados misturando texto com valores numéricos (ou de outros tipos), utilizamos a formatação com '**f**' strings.\n",
        "\n",
        "Essa estrutura permite incorporar variáveis diretamente dentro da string, facilitando a leitura e organização da saída."
      ],
      "metadata": {
        "id": "yNI2-XTbB3aS"
      }
    },
    {
      "cell_type": "code",
      "source": [
        "nota_entrada = float(input('Digite a nota do teste de ingresso: '))"
      ],
      "metadata": {
        "id": "b1eYnEX-4wXz",
        "colab": {
          "base_uri": "https://localhost:8080/"
        },
        "outputId": "196d0446-c14f-489d-e18c-ae477aafafb9"
      },
      "execution_count": 66,
      "outputs": [
        {
          "name": "stdout",
          "output_type": "stream",
          "text": [
            "Digite a nota do teste de ingresso: 9.0\n"
          ]
        }
      ]
    },
    {
      "cell_type": "code",
      "source": [
        "nota_entrada = float(input('Digite a nota do teste de ingresso: '))\n",
        "print(f'Ano da entrada {ano_entrada} \\nNota do teste de ingresso {nota_entrada}')"
      ],
      "metadata": {
        "colab": {
          "base_uri": "https://localhost:8080/"
        },
        "id": "h5QbEaGxBNaD",
        "outputId": "4d7d972d-baf8-45c4-bd55-e8762ffc312c"
      },
      "execution_count": 72,
      "outputs": [
        {
          "output_type": "stream",
          "name": "stdout",
          "text": [
            "Digite a nota do teste de ingresso: 9.0\n",
            "Ano da entrada 2013 \n",
            "Nota do teste de ingresso 9.0\n"
          ]
        }
      ]
    },
    {
      "cell_type": "markdown",
      "source": [
        "####*   Segundo Desafio Desafio"
      ],
      "metadata": {
        "id": "xaFTVFV4pg0j"
      }
    },
    {
      "cell_type": "markdown",
      "source": [
        "##### Coleta e amostragem de dados"
      ],
      "metadata": {
        "id": "n6o7C1Ze2cRe"
      }
    },
    {
      "cell_type": "markdown",
      "source": [
        "*Questão 1*\n",
        "\n",
        "Crie um programa que solicite à pessoa usuária digitar seu nome, e imprima “Olá, [nome]!”."
      ],
      "metadata": {
        "id": "sRneWag9PV5Q"
      }
    },
    {
      "cell_type": "code",
      "source": [
        "nome = input('Qual o seu nome?')\n",
        "print(f'Olá, {nome}!')"
      ],
      "metadata": {
        "id": "dbX1fKqy2HnE",
        "outputId": "bf99fe30-bc41-4a05-f961-d4bcfb57106e",
        "colab": {
          "base_uri": "https://localhost:8080/"
        }
      },
      "execution_count": 6,
      "outputs": [
        {
          "output_type": "stream",
          "name": "stdout",
          "text": [
            "Qual o seu nome?Ale\n",
            "Olá, Ale!\n"
          ]
        }
      ]
    },
    {
      "cell_type": "markdown",
      "source": [
        "*Questão 2*\n",
        "\n",
        "Crie um programa que solicite à pessoa usuária digitar seu nome e idade, e imprima “Olá, [nome], você tem [idade] anos.”."
      ],
      "metadata": {
        "id": "BJ1SznEp70d5"
      }
    },
    {
      "cell_type": "code",
      "source": [
        "nome = input('Qual o seu nome? ')\n",
        "idade = int (input('Qual a sua idade? '))\n",
        "print(f'Olá, {nome}! você tem {idade} anos')"
      ],
      "metadata": {
        "id": "jKz-0Sq8PFkp",
        "outputId": "03cf6ca8-cb1e-4c04-9c48-4b34de7a3752",
        "colab": {
          "base_uri": "https://localhost:8080/"
        }
      },
      "execution_count": 9,
      "outputs": [
        {
          "output_type": "stream",
          "name": "stdout",
          "text": [
            "Qual o seu nome? Ale\n",
            "Qual a sua idade? 19\n",
            "Olá, Ale! você tem 19 anos\n"
          ]
        }
      ]
    },
    {
      "cell_type": "markdown",
      "source": [
        "*Questão 3*\n",
        "\n",
        "Crie um programa que solicite à pessoa usuária digitar seu nome, idade e altura em metros, e imprima “Olá, [nome], você tem [idade] anos e mede [altura] metros!”."
      ],
      "metadata": {
        "id": "2T0jNYZt70aa"
      }
    },
    {
      "cell_type": "code",
      "source": [
        "nome = input ('Qual o seu nome? ')\n",
        "idade = int (input('Qual a sua idade? '))\n",
        "altura = float (input('Qual a sua alura em metro? '))\n",
        "\n",
        "print(f'Olá, {nome}! você tem {idade} anos e {altura} metros.')"
      ],
      "metadata": {
        "id": "pI4kHNzTPIXh",
        "outputId": "2d82f478-9f39-42c1-c716-d95e6ec5ecea",
        "colab": {
          "base_uri": "https://localhost:8080/"
        }
      },
      "execution_count": 12,
      "outputs": [
        {
          "output_type": "stream",
          "name": "stdout",
          "text": [
            "Qual o seu nome? Ale\n",
            "Qual a sua idade? 19\n",
            "Qual a sua alura em metro? 1.60\n",
            "Olá, Ale! você tem 19 anos e 1.6 metros.\n"
          ]
        }
      ]
    },
    {
      "cell_type": "markdown",
      "source": [
        "##### Calculadora com operadores"
      ],
      "metadata": {
        "id": "mEBFwKkC70KP"
      }
    },
    {
      "cell_type": "markdown",
      "source": [
        "*Questão 1*\n",
        "\n",
        "Crie um programa que solicite dois valores numéricos à pessoa usuária e imprima a soma dos dois valores."
      ],
      "metadata": {
        "id": "H-IV1oAPPSqK"
      }
    },
    {
      "cell_type": "code",
      "source": [
        "a = int (input('Valor a: '))\n",
        "b = int (input('Valor b: '))\n",
        "\n",
        "print(f'Resultado:{a+b}')"
      ],
      "metadata": {
        "id": "Zb0W84sy8rnp",
        "outputId": "16586406-06b3-4592-e1df-4ab7b058fb21",
        "colab": {
          "base_uri": "https://localhost:8080/"
        }
      },
      "execution_count": 17,
      "outputs": [
        {
          "output_type": "stream",
          "name": "stdout",
          "text": [
            "Valor a: 5\n",
            "Valor b: 2\n",
            "Resultado: 7\n"
          ]
        }
      ]
    },
    {
      "cell_type": "markdown",
      "source": [
        "*Questão 2*\n",
        "\n",
        "Crie um programa que solicite três valores numéricos à pessoa usuária e imprima a soma dos três valores."
      ],
      "metadata": {
        "id": "LUoi2MOu70Em"
      }
    },
    {
      "cell_type": "code",
      "source": [
        "a = int (input('Valor a: '))\n",
        "b = float (input('Valor b: '))\n",
        "c = int (input('Valor c: '))\n",
        "\n",
        "print(f'Resultado:{a+b+c}')"
      ],
      "metadata": {
        "id": "4FYjWyBS8rDm",
        "outputId": "351c4c83-283d-426b-a193-106fb02148f4",
        "colab": {
          "base_uri": "https://localhost:8080/"
        }
      },
      "execution_count": 19,
      "outputs": [
        {
          "output_type": "stream",
          "name": "stdout",
          "text": [
            "Valor a: 5\n",
            "Valor b: 7.5\n",
            "Valor c: 10\n",
            "Resultado: 22.5\n"
          ]
        }
      ]
    },
    {
      "cell_type": "markdown",
      "source": [
        "*Questão 3*\n",
        "\n",
        "Crie um programa que solicite dois valores numéricos à pessoa usuária e imprima a subtração do primeiro pelo o segundo valor."
      ],
      "metadata": {
        "id": "lezGctF07z8i"
      }
    },
    {
      "cell_type": "code",
      "source": [
        "a = float (input ('Valor a: '))\n",
        "b = float (input ('Valor b: '))\n",
        "\n",
        "print(f'Resultado:{a-b}')"
      ],
      "metadata": {
        "id": "k0GE1z4w8p3J",
        "outputId": "bad2cf6c-db9b-432b-ba6b-9a36cdbf6ca5",
        "colab": {
          "base_uri": "https://localhost:8080/"
        }
      },
      "execution_count": 20,
      "outputs": [
        {
          "output_type": "stream",
          "name": "stdout",
          "text": [
            "Valor a: 5.8\n",
            "Valor b: 2.3\n",
            "Resultado: 3.5\n"
          ]
        }
      ]
    },
    {
      "cell_type": "markdown",
      "source": [
        "*Questão 4*\n",
        "\n",
        "Crie um programa que solicite dois valores numéricos à pessoa usuária e imprima a multiplicação dos dois valores.\n"
      ],
      "metadata": {
        "id": "wwMP-dPU7zxW"
      }
    },
    {
      "cell_type": "code",
      "source": [
        "a = float (input('Valor de a:'))\n",
        "b = int (input('Valor b: '))\n",
        "\n",
        "print(f'Resultado:{a*b}')"
      ],
      "metadata": {
        "id": "GzFCVHfp8peZ",
        "outputId": "13f6197a-df11-481d-b3a7-bb0079c2b545",
        "colab": {
          "base_uri": "https://localhost:8080/"
        }
      },
      "execution_count": 21,
      "outputs": [
        {
          "output_type": "stream",
          "name": "stdout",
          "text": [
            "Valor de a:5.12\n",
            "Valor b: 5\n",
            "Resultado: 25.6\n"
          ]
        }
      ]
    },
    {
      "cell_type": "markdown",
      "source": [
        "*Questão 5*\n",
        "\n",
        "Crie um programa que solicite dois valores numéricos, um numerador e um denominador, e realize a divisão entre os dois valores. Deixe claro que o valor do denominador não pode ser `0`.\n"
      ],
      "metadata": {
        "id": "9kxyHxUo7zRD"
      }
    },
    {
      "cell_type": "code",
      "source": [
        "numerador = int (input('Valor do numerador: '))\n",
        "denominador = int (input('Valor denominador (diferente de zero) : '))\n",
        "\n",
        "print(f'Resultado:{numerador/denominador}')"
      ],
      "metadata": {
        "id": "ytJ8l5KH8ozc",
        "outputId": "d22e42a0-642a-493a-8134-e48f10df164f",
        "colab": {
          "base_uri": "https://localhost:8080/"
        }
      },
      "execution_count": 25,
      "outputs": [
        {
          "output_type": "stream",
          "name": "stdout",
          "text": [
            "Valor do numerador: 6\n",
            "Valor denominador: (Diferente de zero) 2\n",
            "Resultado: 3.0\n"
          ]
        }
      ]
    },
    {
      "cell_type": "markdown",
      "source": [
        "*Questão 6*\n",
        "\n",
        "Crie um programa que solicite dois valores numéricos, um operador e uma potência, e realize a exponenciação entre esses dois valores.\n"
      ],
      "metadata": {
        "id": "zkUSBTQq8Hxt"
      }
    },
    {
      "cell_type": "code",
      "source": [
        "operador = int (input('Valor operador: '))\n",
        "potencia = int (input('Valor da potência: '))\n",
        "\n",
        "print(f'Resultado:{operador**potencia}')"
      ],
      "metadata": {
        "id": "RPj36jq08oZp",
        "outputId": "7dc574ce-df2f-4333-ad36-2f0b3aaa46c9",
        "colab": {
          "base_uri": "https://localhost:8080/"
        }
      },
      "execution_count": 26,
      "outputs": [
        {
          "output_type": "stream",
          "name": "stdout",
          "text": [
            "Valor operador: 2\n",
            "Valor da potência: 3\n",
            "Resultado:8\n"
          ]
        }
      ]
    },
    {
      "cell_type": "markdown",
      "source": [
        "*Questão 7*\n",
        "\n",
        "Crie um programa que solicite dois valores numéricos, um numerador e um denominador e realize a divisão inteira entre os dois valores. Deixe claro que o valor do denominador não pode ser `0`."
      ],
      "metadata": {
        "id": "yiunIusZ8Huj"
      }
    },
    {
      "cell_type": "code",
      "source": [
        "numerador = int (input(\"Valor numerador: \"))\n",
        "denominador = int (input(\"Valor denominador (diferente de zero): \"))\n",
        "\n",
        "print(f'Resultado:{numerador//denominador}')"
      ],
      "metadata": {
        "id": "UHK8xITf8oCg",
        "outputId": "256d2319-37ad-491a-9324-9d91fb9ce056",
        "colab": {
          "base_uri": "https://localhost:8080/"
        }
      },
      "execution_count": 27,
      "outputs": [
        {
          "output_type": "stream",
          "name": "stdout",
          "text": [
            "Valor numerador: 7\n",
            "Valor denominador:(diferente de zero) 9\n",
            "Resultado:0\n"
          ]
        }
      ]
    },
    {
      "cell_type": "markdown",
      "source": [
        "*Questão 8*\n",
        "\n",
        "Crie um programa que solicite dois valores numéricos, um numerador e um denominador, e retorne o resto da divisão entre os dois valores. Deixe claro que o valor do denominador não pode ser `0`."
      ],
      "metadata": {
        "id": "z_D_JiLX8Hra"
      }
    },
    {
      "cell_type": "code",
      "source": [
        "numerador = int (input('Valor numerador: '))\n",
        "denominador = int (input('Valor numerador (diferente de zero): '))\n",
        "\n",
        "print(f'Resultado:{numerador%denominador}')"
      ],
      "metadata": {
        "id": "EWGJeukO8nqx",
        "outputId": "6e861f96-9e6d-44fe-b662-1e8029e88d33",
        "colab": {
          "base_uri": "https://localhost:8080/"
        }
      },
      "execution_count": 28,
      "outputs": [
        {
          "output_type": "stream",
          "name": "stdout",
          "text": [
            "Valor numerador: 7\n",
            "Valor numerador (diferente de zero): 9\n",
            "Resultado:7\n"
          ]
        }
      ]
    },
    {
      "cell_type": "markdown",
      "source": [
        "*Questão 9*\n",
        "\n",
        "Crie um código que solicita 3 notas de um estudante e imprima a média das notas."
      ],
      "metadata": {
        "id": "RDRajNkU8N8N"
      }
    },
    {
      "cell_type": "code",
      "source": [
        "media_1 = float (input(\"Nota 1: \"))\n",
        "media_2 = float (input(\"Nota 2: \"))\n",
        "media_3 = float (input(\"Nota 3: \"))\n",
        "\n",
        "print(f'Nota final: {(media_1 + media_2 + media_3)/3}')"
      ],
      "metadata": {
        "id": "H6F4Ojzt8nSR",
        "outputId": "6b81ad83-690f-4b22-f961-3b2e1d00d2dc",
        "colab": {
          "base_uri": "https://localhost:8080/"
        }
      },
      "execution_count": 31,
      "outputs": [
        {
          "output_type": "stream",
          "name": "stdout",
          "text": [
            "Nota 1: 5.0\n",
            "Nota 2: 7.5\n",
            "Nota 3: 10.0\n",
            "Nota final: 7.5\n"
          ]
        }
      ]
    },
    {
      "cell_type": "markdown",
      "source": [
        "*Questão 10*\n",
        "\n",
        "Crie um código que calcule e imprima a média ponderada dos números 5, 12, 20 e 15 com pesos respectivamente iguais a 1, 2, 3 e 4."
      ],
      "metadata": {
        "id": "d7fjkne58N21"
      }
    },
    {
      "cell_type": "code",
      "source": [
        "media_ponderada = (5*1 + 12*2 + 20*3 + 15*4) / (1+2+3+4)\n",
        "print(f'Média {media_ponderada}.')"
      ],
      "metadata": {
        "id": "fwjoHlV48mkv",
        "outputId": "be39de24-ee2e-4cfb-d9a6-98f485fd7ec9",
        "colab": {
          "base_uri": "https://localhost:8080/"
        }
      },
      "execution_count": 32,
      "outputs": [
        {
          "output_type": "stream",
          "name": "stdout",
          "text": [
            "Média 14.9.\n"
          ]
        }
      ]
    },
    {
      "cell_type": "markdown",
      "source": [
        "##### Editando textos"
      ],
      "metadata": {
        "id": "GNmbX1OU8N0V"
      }
    },
    {
      "cell_type": "markdown",
      "source": [
        "*Questão 1*\n",
        "\n",
        "Crie uma variável chamada “`frase`” e atribua a ela uma string de sua escolha. Em seguida, imprima a frase na tela."
      ],
      "metadata": {
        "id": "6wZ85mCsRCV0"
      }
    },
    {
      "cell_type": "code",
      "source": [
        "frase = 'Todo verão termina'\n",
        "frase"
      ],
      "metadata": {
        "id": "eRqr_gh-8mFy",
        "outputId": "758032b5-2da1-4daa-f134-be6eb6300879",
        "colab": {
          "base_uri": "https://localhost:8080/",
          "height": 35
        }
      },
      "execution_count": 33,
      "outputs": [
        {
          "output_type": "execute_result",
          "data": {
            "text/plain": [
              "'Todo verão termina'"
            ],
            "application/vnd.google.colaboratory.intrinsic+json": {
              "type": "string"
            }
          },
          "metadata": {},
          "execution_count": 33
        }
      ]
    },
    {
      "cell_type": "markdown",
      "source": [
        "*Questão 2*\n",
        "\n",
        "Crie um código que solicite uma frase e depois imprima a frase na tela."
      ],
      "metadata": {
        "id": "Aac17z-18Nwv"
      }
    },
    {
      "cell_type": "code",
      "source": [
        "frase = input(\"Digite uma Frase:\")\n",
        "print(f'Frase: {frase}')"
      ],
      "metadata": {
        "id": "8zfE2hh98lb0",
        "outputId": "616f0260-d4a5-43c1-fc4e-785ddac44012",
        "colab": {
          "base_uri": "https://localhost:8080/"
        }
      },
      "execution_count": 35,
      "outputs": [
        {
          "output_type": "stream",
          "name": "stdout",
          "text": [
            "Digite uma Frase:Foi modo de dizer \n",
            "Frase: Foi modo de dizer \n"
          ]
        }
      ]
    },
    {
      "cell_type": "markdown",
      "source": [
        "*Questão 3*\n",
        "\n",
        "Crie um código que solicite uma frase à pessoa usuária e imprima a mesma frase digitada mas com todas as letras maiúsculas."
      ],
      "metadata": {
        "id": "DXVzqpN58Ntr"
      }
    },
    {
      "cell_type": "code",
      "source": [
        "maiuscula = input('Digite uma frase: ')\n",
        "print (maiuscula.upper())"
      ],
      "metadata": {
        "id": "d0VzoYP68k-I",
        "outputId": "c9139b46-9b0a-4e44-887b-1f2cf37936af",
        "colab": {
          "base_uri": "https://localhost:8080/"
        }
      },
      "execution_count": 36,
      "outputs": [
        {
          "output_type": "stream",
          "name": "stdout",
          "text": [
            "Digite uma frase: Acidente \n",
            "ACIDENTE \n"
          ]
        }
      ]
    },
    {
      "cell_type": "markdown",
      "source": [
        "*Questão 4*\n",
        "\n",
        "Crie um código que solicite uma frase à pessoa usuária e imprima a mesma frase digitada mas com todas as letras minúsculas."
      ],
      "metadata": {
        "id": "I12VeNPK8Nqb"
      }
    },
    {
      "cell_type": "code",
      "source": [
        "letras = input('Digite uma frase: ')\n",
        "print(letras.title())"
      ],
      "metadata": {
        "id": "KD8rNy2K8kox",
        "outputId": "535f765d-a728-4504-b976-66630fe4285b",
        "colab": {
          "base_uri": "https://localhost:8080/"
        }
      },
      "execution_count": 38,
      "outputs": [
        {
          "output_type": "stream",
          "name": "stdout",
          "text": [
            "Digite uma frase: alinhamento milenar\n",
            "Alinhamento Milenar\n"
          ]
        }
      ]
    },
    {
      "cell_type": "markdown",
      "source": [
        "*Questão 5*\n",
        "\n",
        "Crie uma variável chamada “`frase`” e atribua a ela uma string de sua escolha. Em seguida, imprima a frase sem espaços em branco no início e no fim."
      ],
      "metadata": {
        "id": "cRqngSE48Nog"
      }
    },
    {
      "cell_type": "code",
      "source": [
        "frase = ' Eu sempre fui o sol '\n",
        "print(frase.strip())"
      ],
      "metadata": {
        "id": "aSCpdF-o8kBs",
        "outputId": "719cb15b-50eb-48ee-b874-23045d6863cd",
        "colab": {
          "base_uri": "https://localhost:8080/"
        }
      },
      "execution_count": 41,
      "outputs": [
        {
          "output_type": "stream",
          "name": "stdout",
          "text": [
            "Eu sempre fui o sol\n"
          ]
        }
      ]
    },
    {
      "cell_type": "markdown",
      "source": [
        "#### Questão 6\n",
        "\n",
        "Crie um código que solicite uma frase à pessoa usuária e imprima a mesma frase sem espaços em branco no início e no fim."
      ],
      "metadata": {
        "id": "murIazpQ8Nkv"
      }
    },
    {
      "cell_type": "code",
      "source": [
        "espaço = input ('Digite uma frase: ')\n",
        "print(frase.strip())"
      ],
      "metadata": {
        "id": "tHunjwuG8jNq",
        "outputId": "01a1b59a-4dcb-41ec-9746-e68b30c6889f",
        "colab": {
          "base_uri": "https://localhost:8080/"
        }
      },
      "execution_count": 42,
      "outputs": [
        {
          "output_type": "stream",
          "name": "stdout",
          "text": [
            "Digite uma frase:      Eu sempre fui o sol \n",
            "Eu sempre fui o sol\n"
          ]
        }
      ]
    },
    {
      "cell_type": "markdown",
      "source": [
        "*Questão 7*\n",
        "\n",
        "\n",
        "Crie um código que solicite uma frase à pessoa usuária e imprima a mesma frase sem espaços em branco no início e no fim e em letras minúsculas."
      ],
      "metadata": {
        "id": "eRxc2OeX8Nh2"
      }
    },
    {
      "cell_type": "code",
      "source": [
        "minuscula = input ('Digite uma frase: ')\n",
        "print(minuscula.strip().lower())"
      ],
      "metadata": {
        "id": "DYm0_UwS8ih6",
        "outputId": "99603eba-090f-4161-d5e3-d9c7b2f99d55",
        "colab": {
          "base_uri": "https://localhost:8080/"
        }
      },
      "execution_count": 45,
      "outputs": [
        {
          "output_type": "stream",
          "name": "stdout",
          "text": [
            "Digite uma frase: TENHO PRESSA DE EXISTIR\n",
            "tenho pressa de existir\n"
          ]
        }
      ]
    },
    {
      "cell_type": "markdown",
      "source": [
        "*Questão 8*\n",
        "\n",
        "Crie um código que solicite uma frase à pessoa usuária e imprima a mesma frase com todas as vogais “`e`” trocadas pela letra “`f`”."
      ],
      "metadata": {
        "id": "UKATLavs8NfI"
      }
    },
    {
      "cell_type": "code",
      "source": [
        "vogais = input('Digite uma frase: ')\n",
        "print(vogais.lower().replace('e','f')) #colocamos o lower para que todas as letras sofram a mudança"
      ],
      "metadata": {
        "id": "k64C5G5S8iLO",
        "outputId": "29a4890b-1831-4ab9-cbc0-a367f426121b",
        "colab": {
          "base_uri": "https://localhost:8080/"
        }
      },
      "execution_count": 50,
      "outputs": [
        {
          "output_type": "stream",
          "name": "stdout",
          "text": [
            "Digite uma frase: Eu te leio\n",
            "fu tf lfio\n"
          ]
        }
      ]
    },
    {
      "cell_type": "markdown",
      "source": [
        "*Questão 9*\n",
        "\n",
        "\n",
        "Crie um código que solicite uma frase à pessoa usuária e imprima a mesma frase com todas as vogais “`a`” trocadas pela caractere  “`@`”."
      ],
      "metadata": {
        "id": "n_1SPchw8NdG"
      }
    },
    {
      "cell_type": "code",
      "source": [
        "vogais = input('Digite a frase: ')\n",
        "print(vogais.lower().replace('a','@'))"
      ],
      "metadata": {
        "id": "msaDNm_p8h0D",
        "outputId": "bd721245-abd4-480d-df7a-be2aae17c97b",
        "colab": {
          "base_uri": "https://localhost:8080/"
        }
      },
      "execution_count": 51,
      "outputs": [
        {
          "output_type": "stream",
          "name": "stdout",
          "text": [
            "Digite a frase: Alecis das meninas \n",
            "@lecis d@s menin@s \n"
          ]
        }
      ]
    },
    {
      "cell_type": "markdown",
      "source": [
        "*Questão 10*\n",
        "\n",
        "\n",
        "Crie um código que solicite uma frase à pessoa usuária e imprima a mesma frase com todas as consoantes “`s`” trocadas pelo caractere  “`$`”."
      ],
      "metadata": {
        "id": "H3sTTjqI8Naa"
      }
    },
    {
      "cell_type": "code",
      "source": [
        "cosoantes = input('Digite a frase: ')\n",
        "print(cosoantes.lower().replace('s','$'))"
      ],
      "metadata": {
        "id": "RPBIsWT68e-1",
        "outputId": "56457339-7821-4a88-8c86-665e4b2bf619",
        "colab": {
          "base_uri": "https://localhost:8080/"
        }
      },
      "execution_count": 52,
      "outputs": [
        {
          "output_type": "stream",
          "name": "stdout",
          "text": [
            "Digite a frase: Posso ser o seu gameboy\n",
            "po$$o $er o $eu gameboy\n"
          ]
        }
      ]
    },
    {
      "cell_type": "markdown",
      "source": [
        "# 2. Variáveis\n",
        "\n",
        "Podemos entender as **variáveis** como nomes que armazenam valores. Se quisermos acessar uma informação, usamos o nome da variável para isso.\n",
        "\n",
        "Em **Python, não é necessário definir o tipo da variável previamente**, pois o tipo é **determinado automaticamente pelo valor atribuído**, isso se chama ***tipagem dinâmica***.\n",
        "\n",
        "✅ Com isso:\n",
        "\n",
        "* Podemos **atribuir qualquer tipo de valor** a uma variável (texto, número, etc.).\n",
        "\n",
        "* Podemos **alterar esse valor a qualquer momento**, trocando por outro dado diferente.\n",
        "\n",
        "\n",
        "\n"
      ],
      "metadata": {
        "id": "qv7o8qmHCcEq"
      }
    },
    {
      "cell_type": "markdown",
      "source": [
        "###→ Regras para Variáveis\n",
        "Nomes que **não** podemos definir para variáveis:\n",
        "\n",
        "* Nomes que **começam com números**. **Exemplos**: 10_notas, 2_nomes_casa.\n",
        "\n",
        "* Palavras **separadas por espaço**. **Exemplos**: Nome escola, notas estudantes.\n",
        "\n",
        "* **Nomes de funções** do Python. **Exemplos**: print, type.\n",
        "\n",
        "Letras **maiúsculas** e **minúscula**s vão gerar **diferentes** variáveis. A variável **idadeé** diferente de **Idade**, que por sua vez, também é diferente de **IDADE**."
      ],
      "metadata": {
        "id": "IHLXH-sTK6cx"
      }
    },
    {
      "cell_type": "code",
      "source": [
        "idade = 1\n",
        "\n",
        "Idade = 2\n",
        "\n",
        "IDADE = 3\n",
        "\n",
        "_idade = 4\n",
        "\n",
        "_idade_ = 5\n",
        "\n",
        "print(idade, Idade, IDADE, _idade, _idade_)"
      ],
      "metadata": {
        "colab": {
          "base_uri": "https://localhost:8080/"
        },
        "id": "TlutdF9SIsS1",
        "outputId": "5077587c-52ba-407d-acba-9a0854ee9ecc"
      },
      "execution_count": null,
      "outputs": [
        {
          "output_type": "stream",
          "name": "stdout",
          "text": [
            "1 2 3 4 5\n"
          ]
        }
      ]
    },
    {
      "cell_type": "markdown",
      "source": [
        "## 2.1 Atribuição\n",
        "*Situação hipotética*\n",
        "\n",
        "\n",
        "*  Eu preciso trabalhar com a idade de um estudante qualquer de na minha escola, para armazenarmos a idade desse aluno, é preciso criar uma variável.\n",
        "\n",
        "\n"
      ],
      "metadata": {
        "id": "1Ab6_BrmJb1t"
      }
    },
    {
      "cell_type": "code",
      "source": [
        "nome_da_variável = valor # O (=) é o operador de atribuição"
      ],
      "metadata": {
        "id": "Rdgk3NXmUfiM"
      },
      "execution_count": null,
      "outputs": []
    },
    {
      "cell_type": "code",
      "source": [
        "idade = 5 #Aqui estou ligando a váriavel 'idade' ao ao valor"
      ],
      "metadata": {
        "id": "5OzkEYpPLoSJ"
      },
      "execution_count": null,
      "outputs": []
    },
    {
      "cell_type": "markdown",
      "source": [
        "⚠️ **Shift + Enter** para que o dado seja salvo na memória do executador"
      ],
      "metadata": {
        "id": "ZGvj5s_UMNuR"
      }
    },
    {
      "cell_type": "code",
      "source": [
        "print (idade) #saída do valor"
      ],
      "metadata": {
        "colab": {
          "base_uri": "https://localhost:8080/"
        },
        "id": "UhTImp57MGox",
        "outputId": "6c2b7a74-5cd7-4a8b-956d-66ccff96fe49"
      },
      "execution_count": null,
      "outputs": [
        {
          "output_type": "stream",
          "name": "stdout",
          "text": [
            "5\n"
          ]
        }
      ]
    },
    {
      "cell_type": "markdown",
      "source": [
        "\n",
        "\n",
        "*   Se passou 5 anos,  o mesmo estudante agora tem 10 anos é preciso alterar a sua idade.\n",
        "\n"
      ],
      "metadata": {
        "id": "a2EUCRpCNUSQ"
      }
    },
    {
      "cell_type": "code",
      "source": [
        "idade = 10 #Aqui estou modificando o valor da da variável idade"
      ],
      "metadata": {
        "id": "5m0dU6SINDs9"
      },
      "execution_count": null,
      "outputs": []
    },
    {
      "cell_type": "code",
      "source": [
        "print (idade) #saída do novo valor da idade"
      ],
      "metadata": {
        "colab": {
          "base_uri": "https://localhost:8080/"
        },
        "id": "I34grd0nN1sz",
        "outputId": "887454c1-20e1-4204-8874-d8db89d34f22"
      },
      "execution_count": null,
      "outputs": [
        {
          "output_type": "stream",
          "name": "stdout",
          "text": [
            "10\n"
          ]
        }
      ]
    },
    {
      "cell_type": "markdown",
      "source": [
        "* Se passou mais 5 anos, o mesmo estudante agora tem 15 anos é preciso modificar a sua idade."
      ],
      "metadata": {
        "id": "-VA6eJC7OM6X"
      }
    },
    {
      "cell_type": "code",
      "source": [
        "idade = 15 #troquei novamente a sua idade"
      ],
      "metadata": {
        "id": "v9EvUyZ-OMKv"
      },
      "execution_count": null,
      "outputs": []
    },
    {
      "cell_type": "code",
      "source": [
        "idade #Essa aqui é outra forma de vizualizar a variável idade. O notebook executará todas as linhas, atribuirá o valor 15 à variável e lerá apenas o valor de idade."
      ],
      "metadata": {
        "colab": {
          "base_uri": "https://localhost:8080/"
        },
        "id": "faDp94HSOGfs",
        "outputId": "66c1dd20-635d-4b0d-dea7-619595e95baa"
      },
      "execution_count": null,
      "outputs": [
        {
          "output_type": "execute_result",
          "data": {
            "text/plain": [
              "15"
            ]
          },
          "metadata": {},
          "execution_count": 16
        }
      ]
    },
    {
      "cell_type": "markdown",
      "source": [
        "⚠️**Lembrando** que usar apenas o nome, como neste caso, idade, só funciona quando está na última linha da célula."
      ],
      "metadata": {
        "id": "7R9AdHVGPo2H"
      }
    },
    {
      "cell_type": "code",
      "source": [
        "nome = 'Gabriel'\n",
        "nome"
      ],
      "metadata": {
        "colab": {
          "base_uri": "https://localhost:8080/",
          "height": 35
        },
        "id": "hcYy05AdO1oA",
        "outputId": "0c4dbb43-dc5f-42a0-c633-4d049e9c2c0f"
      },
      "execution_count": null,
      "outputs": [
        {
          "output_type": "execute_result",
          "data": {
            "text/plain": [
              "'Gabriel'"
            ],
            "application/vnd.google.colaboratory.intrinsic+json": {
              "type": "string"
            }
          },
          "metadata": {},
          "execution_count": 17
        }
      ]
    },
    {
      "cell_type": "markdown",
      "source": [
        "## 2.2 Tipos de variáveis\n",
        "\n",
        "Cada **variável contém uma classe específica** quanto ao tipo de objeto que ela está referenciando. Essas classes vão ser diferentes a partir do **tipo de dado que nós atribuimos a uma variável**."
      ],
      "metadata": {
        "id": "-D-4zsD0USef"
      }
    },
    {
      "cell_type": "markdown",
      "source": [
        "| CLASSE | DESCRIÇÃ0 | EXEMPLO |\n",
        "|---|---|---|\n",
        "|**Int**| Armazena números **inteiro**| 3, 100 ou -5 |\n",
        "|**float**| armazena números com ponto denominados flutuante, ou seja, números que possuem parte **fracionária** ou **reais**| 3.14, 100.0 ou -0.5|\n",
        "|**str**| Armazena strings, ou seja, um **texto** ou **sequências de caracteres**. As strings são geralmente usadas para armazenar texto e são **delimitadas por aspas simples ou duplas**| “Olá!”, ‘Alexandra’ ou ‘1234’|\n",
        "|**bool**| Armazena valores lógicos *verdadeiro* ou *falso*| True e False (a primeira letra tem que ser maiúscula)|\n"
      ],
      "metadata": {
        "id": "ZJZet6HM4LEq"
      }
    },
    {
      "cell_type": "markdown",
      "source": [
        "\n",
        "\n",
        "*   ***Exemplo***\n",
        "\n"
      ],
      "metadata": {
        "id": "8_yI8svHa6qS"
      }
    },
    {
      "cell_type": "code",
      "source": [
        "i = 5\n",
        "type (i) # Para saber a classe de cada elemento, usamos a função type()"
      ],
      "metadata": {
        "colab": {
          "base_uri": "https://localhost:8080/"
        },
        "id": "u0-zcTALbi1O",
        "outputId": "729bf7d9-3ee2-4fee-da7f-ccb34e7ae560"
      },
      "execution_count": 1,
      "outputs": [
        {
          "output_type": "execute_result",
          "data": {
            "text/plain": [
              "int"
            ]
          },
          "metadata": {},
          "execution_count": 1
        }
      ]
    },
    {
      "cell_type": "markdown",
      "source": [
        "⚠️ O Python está dizendo que **i** é uma variável de tipo **inteiro**."
      ],
      "metadata": {
        "id": "oXqD4uw0b9sc"
      }
    },
    {
      "cell_type": "code",
      "source": [
        "f = 20.13\n",
        "type (f)"
      ],
      "metadata": {
        "colab": {
          "base_uri": "https://localhost:8080/"
        },
        "id": "EAPcmdlZbzqR",
        "outputId": "5fab139c-326a-4b95-a42e-cff0ba5dc59e"
      },
      "execution_count": 2,
      "outputs": [
        {
          "output_type": "execute_result",
          "data": {
            "text/plain": [
              "float"
            ]
          },
          "metadata": {},
          "execution_count": 2
        }
      ]
    },
    {
      "cell_type": "markdown",
      "source": [
        "⚠️ O Python está dizendo que **f** é uma variável de tipo **float (decimal)**."
      ],
      "metadata": {
        "id": "iudGc1JyciTe"
      }
    },
    {
      "cell_type": "code",
      "source": [
        "s = 'Alexandra'\n",
        "type (s)"
      ],
      "metadata": {
        "colab": {
          "base_uri": "https://localhost:8080/"
        },
        "id": "qKopaNRBchoF",
        "outputId": "52e1830f-ca5c-492f-da15-17b5968da740"
      },
      "execution_count": 3,
      "outputs": [
        {
          "output_type": "execute_result",
          "data": {
            "text/plain": [
              "str"
            ]
          },
          "metadata": {},
          "execution_count": 3
        }
      ]
    },
    {
      "cell_type": "markdown",
      "source": [
        "⚠️ O Python está dizendo que **s** é uma variável de tipo **string (texto)**."
      ],
      "metadata": {
        "id": "b80ZUcFBc5z9"
      }
    },
    {
      "cell_type": "code",
      "source": [
        "b = False\n",
        "type (b)\n"
      ],
      "metadata": {
        "colab": {
          "base_uri": "https://localhost:8080/"
        },
        "id": "EnvekGV6cc5f",
        "outputId": "c3002454-f1ac-4c48-dd74-4df1d3943833"
      },
      "execution_count": 4,
      "outputs": [
        {
          "output_type": "execute_result",
          "data": {
            "text/plain": [
              "bool"
            ]
          },
          "metadata": {},
          "execution_count": 4
        }
      ]
    },
    {
      "cell_type": "markdown",
      "source": [
        "⚠️ O Python está dizendo que **b** é uma variável de tipo **bool (lógico)**."
      ],
      "metadata": {
        "id": "BW0T8JS5dJXu"
      }
    },
    {
      "cell_type": "markdown",
      "source": [
        "*Situação hipotética*\n",
        "\n",
        "\n",
        "* A equipe de dados pediu para eu criar uma ficha do aluno \"Monkey D. Luffy\".\n",
        "\n",
        "É preciso criar variáveis que armazenem os dados da ficha desse aluno. São eles:\n",
        "\n",
        "* **Nome:** Monkey D. Luffy\n",
        "* **Idade:** 15 anos\n",
        "* **Media do semestre:** 8,45\n",
        "* **Situaçao de aprovação:** Verdadeira (aprovado)\n",
        "\n",
        "Na célula abaixo, conseguimos criar esses valores.\n",
        "\n"
      ],
      "metadata": {
        "id": "NBGg3yyWdjUJ"
      }
    },
    {
      "cell_type": "code",
      "source": [
        "nome_aluno = 'Monkey D.Luffy'\n",
        "idade_aluno = 15\n",
        "media_aluno = 8.45\n",
        "situacao_aprovado = True\n",
        "# se usa underline para substituir o espaço e manter a variável única\n",
        "\n",
        "print (nome_aluno, idade_aluno, media_aluno, situacao_aprovado) #imprimir os resultados"
      ],
      "metadata": {
        "colab": {
          "base_uri": "https://localhost:8080/"
        },
        "id": "eTPF4E_Veijc",
        "outputId": "9e1a6599-5da3-4c5f-9d31-d275b9d3d8f7"
      },
      "execution_count": 5,
      "outputs": [
        {
          "output_type": "stream",
          "name": "stdout",
          "text": [
            "Monkey D.Luffy 15 8.45 True\n"
          ]
        }
      ]
    },
    {
      "cell_type": "markdown",
      "source": [
        "## 2.3 Operações com valores numéricos\n",
        "\n",
        "Abaixo, uma tabela descrevendo a **função dos operadores** e sua **sintaxe de uso**, sendo **a** e **b** variáveis numéricas:"
      ],
      "metadata": {
        "id": "_zevrw88i-oN"
      }
    },
    {
      "cell_type": "markdown",
      "source": [
        "|DESCRIÇÃO | QUANTIDADE |\n",
        "|---|---|\n",
        "|Soma |  a + b |\n",
        "|Subtração | a - b|\n",
        "|Multiplicação | a * b |\n",
        "| Divisão com resultados real | a / b |\n",
        "| Divisão com resultado inteiro | a // b |\n",
        "| Potência | a ** b |\n",
        "| Resto de divisão (Módulo) | a % b |"
      ],
      "metadata": {
        "id": "rb6TVUfa3ArC"
      }
    },
    {
      "cell_type": "code",
      "source": [
        "soma = 2 + 5\n",
        "print (soma)\n",
        "\n",
        "sub = 5 -2\n",
        "print (sub)\n",
        "\n",
        "mult = 5 * 2\n",
        "print (mult)\n",
        "\n",
        "div_real = 6/3\n",
        "print (div_real)\n",
        "\n",
        "div_int = 5.5//5\n",
        "print(div_int)\n",
        "\n",
        "pot = 2**3\n",
        "print (pot)\n",
        "\n",
        "rest_div = 7%3\n",
        "print (rest_div)\n"
      ],
      "metadata": {
        "colab": {
          "base_uri": "https://localhost:8080/"
        },
        "id": "vaEDDt6fegS1",
        "outputId": "cae771da-2091-454f-e21b-847cb750569c"
      },
      "execution_count": 13,
      "outputs": [
        {
          "output_type": "stream",
          "name": "stdout",
          "text": [
            "7\n",
            "3\n",
            "10\n",
            "2.0\n",
            "1.0\n",
            "8\n",
            "1\n"
          ]
        }
      ]
    },
    {
      "cell_type": "markdown",
      "source": [
        "Além deles, existem também **funções** que podem ser aplicadas a valores numéricos para executar outros cálculos:\n"
      ],
      "metadata": {
        "id": "vNlW8Lqnk_xz"
      }
    },
    {
      "cell_type": "markdown",
      "source": [
        " * **Função** *abs*: retorna o valor absoluto da variável, ou seja, seu valor positivo."
      ],
      "metadata": {
        "id": "Z5GIvYVVl0Mg"
      }
    },
    {
      "cell_type": "code",
      "source": [
        "#Sintaxe: abs(variavel)\n",
        "abs (-3)"
      ],
      "metadata": {
        "colab": {
          "base_uri": "https://localhost:8080/"
        },
        "id": "Dob41g6CmGSR",
        "outputId": "939d5ae1-51d3-4a4c-918b-f22a31ce0efe"
      },
      "execution_count": 6,
      "outputs": [
        {
          "output_type": "execute_result",
          "data": {
            "text/plain": [
              "3"
            ]
          },
          "metadata": {},
          "execution_count": 6
        }
      ]
    },
    {
      "cell_type": "markdown",
      "source": [
        "* **Função** *round*: retorna o número arrendondado com uma precisão definida *n* casas decimais após o ponto decimal. Se não especificarmos as casas, será retornado o inteiro mais as casas, será retornado o inteiro mais próximo do ponto flutuante."
      ],
      "metadata": {
        "id": "UeNltpjWmYOE"
      }
    },
    {
      "cell_type": "code",
      "source": [
        "#Sintaxe: round(variavel, numero_de_casas)\n",
        "round(14.3213,2)"
      ],
      "metadata": {
        "colab": {
          "base_uri": "https://localhost:8080/"
        },
        "id": "9fB-mxH2mRY9",
        "outputId": "ccf194af-fb6a-46d2-dd8c-88a19689b637"
      },
      "execution_count": 7,
      "outputs": [
        {
          "output_type": "execute_result",
          "data": {
            "text/plain": [
              "14.32"
            ]
          },
          "metadata": {},
          "execution_count": 7
        }
      ]
    },
    {
      "cell_type": "markdown",
      "source": [
        "* **Função** *pow*: retorna a potenciação de uma base por seu expoente, funciona do mesmo modo que o operador **."
      ],
      "metadata": {
        "id": "Qc0j_d_jnEnl"
      }
    },
    {
      "cell_type": "code",
      "source": [
        "#Sintaxe: pow(base, expoente)\n",
        "pow(3,2)"
      ],
      "metadata": {
        "colab": {
          "base_uri": "https://localhost:8080/"
        },
        "id": "LujZHLsonCoj",
        "outputId": "4b6ead2f-c5e3-4ef0-d4b1-f7ee82774e07"
      },
      "execution_count": 8,
      "outputs": [
        {
          "output_type": "execute_result",
          "data": {
            "text/plain": [
              "9"
            ]
          },
          "metadata": {},
          "execution_count": 8
        }
      ]
    },
    {
      "cell_type": "markdown",
      "source": [
        "## 2.2.3 Variáveis numéricas\n",
        "\n",
        "Entre os tipos de dados numéricos vamos nos focar no tipo `inteiro` e `float`.\n",
        "\n",
        "Temos uma tabela de informação de empregos quanto ao cargo, quantidade de pessoas empregadas e o salário correspondente:\n",
        "\n",
        "|Cargo | Quantidade | Salário|\n",
        "|---|---|---|\n",
        "|Segurança | 5 | 3000 |\n",
        "|Docente | 16| 6000|\n",
        "|Diretoria| 1 |12500|\n",
        "\n",
        "Precisamos trabalhar com esses dados fornecendo:\n",
        "\n",
        "- A quantidade total de empregados;\n",
        "- A diferença entre o salário mais baixo e mais alto; e\n",
        "- A média ponderada da faixa salarial da escola."
      ],
      "metadata": {
        "id": "vogbdJlHohlx"
      }
    },
    {
      "cell_type": "code",
      "source": [
        "q_seguranca = 5\n",
        "s_seguranca = 3000\n",
        "\n",
        "q_docente = 16\n",
        "s_docente = 6000\n",
        "\n",
        "q_diretoria = 1\n",
        "s_diretoria = 12500"
      ],
      "metadata": {
        "id": "HJlK-LGXo93v"
      },
      "execution_count": 1,
      "outputs": []
    },
    {
      "cell_type": "code",
      "source": [
        "# Total de empregados\n",
        "total_empregados = q_seguranca + q_diretoria + q_docente\n",
        "total_empregados"
      ],
      "metadata": {
        "colab": {
          "base_uri": "https://localhost:8080/"
        },
        "id": "mZf6xdSTo--S",
        "outputId": "72892bbb-16e2-44f0-8b7c-5b2e38a8844c"
      },
      "execution_count": 3,
      "outputs": [
        {
          "output_type": "execute_result",
          "data": {
            "text/plain": [
              "22"
            ]
          },
          "metadata": {},
          "execution_count": 3
        }
      ]
    },
    {
      "cell_type": "code",
      "source": [
        "# A diferença entre o salário mais baixo e mais alto\n",
        "diferenca_salario = s_diretoria - s_seguranca\n",
        "diferenca_salario"
      ],
      "metadata": {
        "colab": {
          "base_uri": "https://localhost:8080/"
        },
        "id": "u-6_q12Bc_LF",
        "outputId": "7c61c552-3d7c-4392-edd4-52f20056da5d"
      },
      "execution_count": 5,
      "outputs": [
        {
          "output_type": "execute_result",
          "data": {
            "text/plain": [
              "9500"
            ]
          },
          "metadata": {},
          "execution_count": 5
        }
      ]
    },
    {
      "cell_type": "code",
      "source": [
        "#média ponderada da faixa salarial\n",
        "media = (q_seguranca*s_seguranca + q_docente*s_docente + q_diretoria*s_diretoria) / (total_empregados)\n",
        "media"
      ],
      "metadata": {
        "colab": {
          "base_uri": "https://localhost:8080/"
        },
        "id": "LcEiwY1ndU5G",
        "outputId": "da1ea2e7-41d1-4439-e003-4dd991a4c77f"
      },
      "execution_count": 7,
      "outputs": [
        {
          "output_type": "execute_result",
          "data": {
            "text/plain": [
              "5613.636363636364"
            ]
          },
          "metadata": {},
          "execution_count": 7
        }
      ]
    },
    {
      "cell_type": "code",
      "source": [
        "round(5613.636363636364,3)"
      ],
      "metadata": {
        "colab": {
          "base_uri": "https://localhost:8080/"
        },
        "id": "0SQzR2s7deUD",
        "outputId": "ce88bd81-fd42-4589-a817-124879025f30"
      },
      "execution_count": 8,
      "outputs": [
        {
          "output_type": "execute_result",
          "data": {
            "text/plain": [
              "5613.636"
            ]
          },
          "metadata": {},
          "execution_count": 8
        }
      ]
    },
    {
      "cell_type": "markdown",
      "source": [
        "## 2.4 Manipulação de strings\n",
        "\n",
        "As strings são usadas para armazenar valores de texto.\n",
        "\n",
        "Assim como nas variáveis numéricas, é possível manipular as strings a partir de **operações**, **funções** e até **métodos**. Por serem imutáveis, **sua manipulação resulta em cópias**, ou seja, são criadas novas strings a partir de uma original que foi manipulada."
      ],
      "metadata": {
        "id": "peNb-oWmh1D2"
      }
    },
    {
      "cell_type": "markdown",
      "source": [
        "### → Operadores"
      ],
      "metadata": {
        "id": "J1gt2D2Wn67f"
      }
    },
    {
      "cell_type": "markdown",
      "source": [
        "* O **operador de soma**, permite unir duas ou mais strings e gerar uma tring única"
      ],
      "metadata": {
        "id": "pIxm4ZCvmDAP"
      }
    },
    {
      "cell_type": "code",
      "source": [
        "cor = 'verde limão '\n",
        "varias = 'várias cores'\n",
        "frase = cor+varias\n",
        "print (frase)\n"
      ],
      "metadata": {
        "colab": {
          "base_uri": "https://localhost:8080/"
        },
        "id": "7-DjrH4Dlwp1",
        "outputId": "725ba553-76a7-4516-bc49-e9d5383de642"
      },
      "execution_count": 16,
      "outputs": [
        {
          "output_type": "stream",
          "name": "stdout",
          "text": [
            "verde limão várias cores\n"
          ]
        }
      ]
    },
    {
      "cell_type": "markdown",
      "source": [
        "* O **operador de multiplicação** vai repetir a string em uma quantidade de vezes iguais à especificada."
      ],
      "metadata": {
        "id": "Wl3QRFD7m78c"
      }
    },
    {
      "cell_type": "code",
      "source": [
        "parte_1 = 'Não posso ser seu, '\n",
        "parte_2 = 'oh ' * 3\n",
        "palavra = parte_1 + parte_2\n",
        "print (palavra)"
      ],
      "metadata": {
        "colab": {
          "base_uri": "https://localhost:8080/"
        },
        "id": "2GL_51ERmB1y",
        "outputId": "1a659fb7-0c2e-4e0b-ce92-5aaf7f4cd23b"
      },
      "execution_count": 18,
      "outputs": [
        {
          "output_type": "stream",
          "name": "stdout",
          "text": [
            "Não posso ser seu, oh oh oh \n"
          ]
        }
      ]
    },
    {
      "cell_type": "markdown",
      "source": [
        "### → Função\n"
      ],
      "metadata": {
        "id": "C1NYsRaQoJMe"
      }
    },
    {
      "cell_type": "markdown",
      "source": [
        "* A função **len ( )** a quantidade de caracteres que a frase tem. (também conta o espaço entre as palavras)\n"
      ],
      "metadata": {
        "id": "WYPLcqsOoQ2-"
      }
    },
    {
      "cell_type": "code",
      "source": [
        "frase = 'Hoje eu acordei tão cedo'\n",
        "print (len(frase))"
      ],
      "metadata": {
        "colab": {
          "base_uri": "https://localhost:8080/"
        },
        "id": "DURD4wNonrmu",
        "outputId": "72b738ac-dd22-43ce-c56b-5926c844581a"
      },
      "execution_count": 21,
      "outputs": [
        {
          "output_type": "stream",
          "name": "stdout",
          "text": [
            "23\n"
          ]
        }
      ]
    },
    {
      "cell_type": "markdown",
      "source": [
        "* A função **str ( )** retorna a a representação de uma string para uma entrada.\n"
      ],
      "metadata": {
        "id": "HjxN3oa9pNFe"
      }
    },
    {
      "cell_type": "code",
      "source": [
        "ano = str (2013)\n",
        "ano"
      ],
      "metadata": {
        "colab": {
          "base_uri": "https://localhost:8080/",
          "height": 35
        },
        "id": "Nzdkqn8toqrZ",
        "outputId": "a307c37e-3622-4f0d-bbd1-75f647e31030"
      },
      "execution_count": 22,
      "outputs": [
        {
          "output_type": "execute_result",
          "data": {
            "text/plain": [
              "'2013'"
            ],
            "application/vnd.google.colaboratory.intrinsic+json": {
              "type": "string"
            }
          },
          "metadata": {},
          "execution_count": 22
        }
      ]
    },
    {
      "cell_type": "markdown",
      "source": [
        "### → Métodos\n",
        "\n",
        "📢 **Métodos** são funções que são associadas a objetos de uma string.\n",
        "\n",
        "Métodos podem ser executados ao definirmos um objeto seguindo a seguinte\n",
        "estrutura: **objeto.metodo()**\n"
      ],
      "metadata": {
        "id": "LCA2Fi6kplqE"
      }
    },
    {
      "cell_type": "markdown",
      "source": [
        "*Situação hipotética*\n",
        "\n",
        " Recebi uma variável com o nome de uma professora da escola para inserir no cadastro. No entanto, precisamos tratar esse texto antes de inserir no sistema."
      ],
      "metadata": {
        "id": "TrunTYyewZaQ"
      }
    },
    {
      "cell_type": "code",
      "source": [
        "professor = ' Ales pereira Lima '"
      ],
      "metadata": {
        "id": "GeTSgZaGwRLB"
      },
      "execution_count": 50,
      "outputs": []
    },
    {
      "cell_type": "code",
      "source": [
        "professor = professor.strip().replace('s','x').upper()\n",
        "professor"
      ],
      "metadata": {
        "colab": {
          "base_uri": "https://localhost:8080/",
          "height": 35
        },
        "id": "9ZJO2mYVxKri",
        "outputId": "2f0ef076-f235-4fc9-d9a7-dc83f90cdfef"
      },
      "execution_count": 55,
      "outputs": [
        {
          "output_type": "execute_result",
          "data": {
            "text/plain": [
              "'ALEX PEREIRA LIMA'"
            ],
            "application/vnd.google.colaboratory.intrinsic+json": {
              "type": "string"
            }
          },
          "metadata": {},
          "execution_count": 55
        }
      ]
    },
    {
      "cell_type": "markdown",
      "source": [
        "Os métodos que utilizamos para tratar esses dados, foram:\n",
        "\n",
        "* **strip ( )** → remove espaços extras no início e fim do texto.\n",
        "\n",
        "* **replace ('a', 'b')** → troca letras ou trechos de texto.\n",
        "\n",
        "* **upper ( )**→ transforma todas as letras em maiúsculas.\n",
        "\n"
      ],
      "metadata": {
        "id": "ShuR1pJjnWtL"
      }
    }
  ]
}